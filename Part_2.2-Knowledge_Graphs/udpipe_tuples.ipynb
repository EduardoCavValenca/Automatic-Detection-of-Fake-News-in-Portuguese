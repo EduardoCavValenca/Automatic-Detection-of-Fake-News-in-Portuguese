{
 "cells": [
  {
   "cell_type": "code",
   "execution_count": 7,
   "metadata": {},
   "outputs": [],
   "source": [
    "from udpipe2_tuples_generator import run_with_threads, get_all_text_from_folder, run_sequential, break_text_into_sentences"
   ]
  },
  {
   "cell_type": "code",
   "execution_count": 10,
   "metadata": {},
   "outputs": [
    {
     "data": {
      "text/plain": [
       "[]"
      ]
     },
     "execution_count": 10,
     "metadata": {},
     "output_type": "execute_result"
    }
   ],
   "source": [
    "run_sequential(\"Eu gosto de cachorros.\")"
   ]
  },
  {
   "cell_type": "code",
   "execution_count": 2,
   "metadata": {},
   "outputs": [],
   "source": [
    "# #  Read the g1 dataset.\n",
    "# g1 = pd.read_csv('../data/csvs/g1_news_10000.csv')[['title', 'content']]\n",
    "\n",
    "# # content will be the title + '.\\n' + content\n",
    "# g1['content'] = g1['title'] + '.\\n' + g1['content']\n",
    "# g1.drop(columns=['title'], inplace=True)\n",
    "\n",
    "# run_with_threads(24, g1['content'].values, 'g1_tuples_udpipe')"
   ]
  },
  {
   "cell_type": "code",
   "execution_count": 2,
   "metadata": {},
   "outputs": [
    {
     "name": "stdout",
     "output_type": "stream",
     "text": [
      "There are 8631 texts in the fake.br-corpus-true dataset.\n",
      "There are 8625 texts in the fake.br-corpus-true dataset after removing duplicates and nas.\n"
     ]
    }
   ],
   "source": [
    "# Read every file in the ../data/text_files/fake.br-corpus-true folder and create a dataframe with the texts.\n",
    "import os\n",
    "import re\n",
    "import pandas as pd\n",
    "\n",
    "fake_br_corpus_true_df = get_all_text_from_folder('../data/text_files/fake.br-corpus-true')\n",
    "print(f'There are {fake_br_corpus_true_df.shape[0]} texts in the fake.br-corpus-true dataset.')\n",
    "fake_br_corpus_true_df.drop_duplicates(inplace=True)\n",
    "fake_br_corpus_true_df.dropna(inplace=True)\n",
    "fake_br_corpus_true_df.reset_index(drop=True, inplace=True)\n",
    "print(f'There are {fake_br_corpus_true_df.shape[0]} texts in the fake.br-corpus-true dataset after removing duplicates and nas.')\n",
    "fake_br_corpus_true_df.to_csv('../data/csvs/fake_br_corpus_true.csv', index=False)"
   ]
  },
  {
   "cell_type": "code",
   "execution_count": 3,
   "metadata": {},
   "outputs": [
    {
     "name": "stdout",
     "output_type": "stream",
     "text": [
      "There are 3599 texts in the fake_br_original_true_df dataset after removing duplicates and nas.\n",
      "There are 90 texts in both datasets.\n",
      "There are 8535 texts in the fake_br_corpus_true_df dataset after removing the texts that are in both datasets.\n"
     ]
    },
    {
     "data": {
      "text/html": [
       "<div>\n",
       "<style scoped>\n",
       "    .dataframe tbody tr th:only-of-type {\n",
       "        vertical-align: middle;\n",
       "    }\n",
       "\n",
       "    .dataframe tbody tr th {\n",
       "        vertical-align: top;\n",
       "    }\n",
       "\n",
       "    .dataframe thead th {\n",
       "        text-align: right;\n",
       "    }\n",
       "</style>\n",
       "<table border=\"1\" class=\"dataframe\">\n",
       "  <thead>\n",
       "    <tr style=\"text-align: right;\">\n",
       "      <th></th>\n",
       "      <th>content</th>\n",
       "    </tr>\n",
       "  </thead>\n",
       "  <tbody>\n",
       "    <tr>\n",
       "      <th>0</th>\n",
       "      <td>o legado de che guevara 50 anos após sua morte...</td>\n",
       "    </tr>\n",
       "    <tr>\n",
       "      <th>1</th>\n",
       "      <td>polícia prende foragido da penitenciária de pe...</td>\n",
       "    </tr>\n",
       "    <tr>\n",
       "      <th>2</th>\n",
       "      <td>mp diz que novo bairro na região norte de pira...</td>\n",
       "    </tr>\n",
       "    <tr>\n",
       "      <th>3</th>\n",
       "      <td>brasilprev bloqueia cerca de r$ 9 milhões em p...</td>\n",
       "    </tr>\n",
       "    <tr>\n",
       "      <th>4</th>\n",
       "      <td>moro determina que r$ 9 milhões em planos de p...</td>\n",
       "    </tr>\n",
       "  </tbody>\n",
       "</table>\n",
       "</div>"
      ],
      "text/plain": [
       "                                             content\n",
       "0  o legado de che guevara 50 anos após sua morte...\n",
       "1  polícia prende foragido da penitenciária de pe...\n",
       "2  mp diz que novo bairro na região norte de pira...\n",
       "3  brasilprev bloqueia cerca de r$ 9 milhões em p...\n",
       "4  moro determina que r$ 9 milhões em planos de p..."
      ]
     },
     "execution_count": 3,
     "metadata": {},
     "output_type": "execute_result"
    }
   ],
   "source": [
    "test_true_df = get_all_text_from_folder('../data/text_files/full_texts/true')\n",
    "test_true_df.drop_duplicates(inplace=True)\n",
    "test_true_df.dropna(inplace=True)\n",
    "test_true_df.reset_index(drop=True, inplace=True)\n",
    "print(f'There are {test_true_df.shape[0]} texts in the fake_br_original_true_df dataset after removing duplicates and nas.')\n",
    "\n",
    "# check if there is any text in both datasets\n",
    "number_of_repetitions = fake_br_corpus_true_df['content'].isin(test_true_df['content']).sum()\n",
    "print(f'There are {number_of_repetitions} texts in both datasets.')\n",
    "\n",
    "# Remove the texts that are in both datasets from the fake_br_corpus_true_df dataset.\n",
    "fake_br_corpus_true_df = fake_br_corpus_true_df[~fake_br_corpus_true_df['content'].isin(test_true_df['content'])]\n",
    "fake_br_corpus_true_df.reset_index(drop=True, inplace=True)\n",
    "print(f'There are {fake_br_corpus_true_df.shape[0]} texts in the fake_br_corpus_true_df dataset after removing the texts that are in both datasets.')\n",
    "fake_br_corpus_true_df.head()\n"
   ]
  },
  {
   "cell_type": "code",
   "execution_count": 5,
   "metadata": {},
   "outputs": [
    {
     "name": "stdout",
     "output_type": "stream",
     "text": [
      "There are 237336 sentences in the fake_br_corpus_true_df dataset.\n"
     ]
    }
   ],
   "source": [
    "number_of_sentences = 0\n",
    "for text in fake_br_corpus_true_df['content'].values:\n",
    "    number_of_sentences += len(break_text_into_sentences(text))\n",
    "\n",
    "print(f'There are {number_of_sentences} sentences in the fake_br_corpus_true_df dataset.')"
   ]
  },
  {
   "cell_type": "code",
   "execution_count": null,
   "metadata": {},
   "outputs": [],
   "source": [
    "run_with_threads(24, fake_br_corpus_true_df['content'].values, 'fake_br_corpus_tuples_udpipe')"
   ]
  }
 ],
 "metadata": {
  "kernelspec": {
   "display_name": "Python 3",
   "language": "python",
   "name": "python3"
  },
  "language_info": {
   "codemirror_mode": {
    "name": "ipython",
    "version": 3
   },
   "file_extension": ".py",
   "mimetype": "text/x-python",
   "name": "python",
   "nbconvert_exporter": "python",
   "pygments_lexer": "ipython3",
   "version": "3.11.3"
  },
  "orig_nbformat": 4,
  "vscode": {
   "interpreter": {
    "hash": "916dbcbb3f70747c44a77c7bcd40155683ae19c65e1c03b4aa3499c5328201f1"
   }
  }
 },
 "nbformat": 4,
 "nbformat_minor": 2
}
