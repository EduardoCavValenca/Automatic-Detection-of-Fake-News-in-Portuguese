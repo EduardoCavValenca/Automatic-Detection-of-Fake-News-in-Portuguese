{
 "cells": [
  {
   "cell_type": "code",
   "execution_count": null,
   "metadata": {},
   "outputs": [],
   "source": [
    "import pandas as pd\n",
    "import numpy as mp\n",
    "import matplotlib.pyplot as plt\n",
    "import seaborn as sns"
   ]
  },
  {
   "cell_type": "code",
   "execution_count": null,
   "metadata": {},
   "outputs": [],
   "source": [
    "import os\n",
    "\n",
    "pre_file_path = os.path.join('preprocessed', 'pre-processed.csv')\n",
    "pre_file_path"
   ]
  },
  {
   "cell_type": "code",
   "execution_count": null,
   "metadata": {},
   "outputs": [],
   "source": [
    "pre_df = pd.read_csv(pre_file_path, index_col= 0)\n",
    "pre_df.index.name = None\n",
    "pre_df"
   ]
  },
  {
   "cell_type": "code",
   "execution_count": null,
   "metadata": {},
   "outputs": [],
   "source": [
    "fake_path = os.path.join('size_normalized_texts', 'fake')\n",
    "true_path = os.path.join('size_normalized_texts', 'true')"
   ]
  },
  {
   "cell_type": "code",
   "execution_count": null,
   "metadata": {},
   "outputs": [],
   "source": [
    "file_names = os.listdir(true_path)\n",
    "file_names"
   ]
  },
  {
   "cell_type": "code",
   "execution_count": null,
   "metadata": {},
   "outputs": [],
   "source": [
    "content = {\"Fake\": [], \"True\": []}\n",
    "\n",
    "for file in file_names:\n",
    "    file_fake_path = os.path.join(fake_path, file)\n",
    "    file_true_path = os.path.join(true_path, file)\n",
    "\n",
    "    fake_text_file = open(file_fake_path, \"r\", encoding=\"utf8\")\n",
    "    true_text_file = open(file_true_path, \"r\", encoding=\"utf8\")\n",
    "\n",
    "    content[\"Fake\"].append(fake_text_file.read())\n",
    "    content[\"True\"].append(true_text_file.read())\n",
    "\n",
    "    fake_text_file.close()\n",
    "    true_text_file.close()"
   ]
  },
  {
   "cell_type": "code",
   "execution_count": null,
   "metadata": {},
   "outputs": [],
   "source": [
    "fake_true_df = pd.DataFrame(content)\n",
    "fake_true_df"
   ]
  },
  {
   "cell_type": "code",
   "execution_count": null,
   "metadata": {},
   "outputs": [],
   "source": [
    "#fake_true_df.to_csv(\"fake_vs_true.csv\", index=False)"
   ]
  },
  {
   "cell_type": "code",
   "execution_count": null,
   "metadata": {},
   "outputs": [],
   "source": [
    "fake_true_df = pd.read_csv(\"comparison/fake_vs_true.csv\")\n",
    "fake_true_df"
   ]
  },
  {
   "cell_type": "code",
   "execution_count": null,
   "metadata": {},
   "outputs": [],
   "source": [
    "news = 4\n",
    "\n",
    "print(f'Noticia falsa:\\n{fake_true_df[\"Fake\"][news]}')\n",
    "print(f'Noticia verdadeira:\\n{fake_true_df[\"True\"][news]}')"
   ]
  }
 ],
 "metadata": {
  "kernelspec": {
   "display_name": "Python 3",
   "language": "python",
   "name": "python3"
  },
  "language_info": {
   "codemirror_mode": {
    "name": "ipython",
    "version": 3
   },
   "file_extension": ".py",
   "mimetype": "text/x-python",
   "name": "python",
   "nbconvert_exporter": "python",
   "pygments_lexer": "ipython3",
   "version": "3.9.13"
  },
  "orig_nbformat": 4
 },
 "nbformat": 4,
 "nbformat_minor": 2
}
