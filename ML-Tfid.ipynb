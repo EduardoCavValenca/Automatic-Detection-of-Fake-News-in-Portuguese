{
 "cells": [
  {
   "cell_type": "code",
   "execution_count": 1,
   "metadata": {},
   "outputs": [],
   "source": [
    "stopwords = ['de','a','o','que','e','do','da','em','um','para','e','com','nao','uma','os','no','se','na','por','mais','as',\n",
    "            'dos','como','mas','foi','ao','ele','das','tem','a','seu','sua','ou','ser','quando','muito','ha','nos','ja',\n",
    "            'esta','eu','tambem','so','pelo','pela','ate','isso','ela','entre','era','depois','sem','mesmo','aos','ter',\n",
    "            'seus','quem','nas','me','esse','eles','estao','voce','tinha','foram','essa','num','nem','suas','meu','as',\n",
    "            'minha','tem','numa','pelos','elas','havia','seja','qual','sera','nos','tenho','lhe','deles','essas','esses',\n",
    "            'pelas','este','fosse','dele','tu','te','voces','vos','lhes','meus','minhas','teu','tua','teus','tuas','nosso',\n",
    "            'nossa','nossos','nossas','dela','delas','esta','estes','estas','aquele','aquela','aqueles','aquelas','isto',\n",
    "            'aquilo','estou','esta','estamos','estao','estive','esteve','estivemos','estiveram','estava','estavamos',\n",
    "            'estavam','estivera','estiveramos','esteja','estejamos','estejam','estivesse','estivessemos','estivessem',\n",
    "            'estiver','estivermos','estiverem','hei','ha','havemos','hao','houve','houvemos','houveram','houvera','houveramos',\n",
    "            'haja','hajamos','hajam','houvesse','houvessemos','houvessem','houver','houvermos','houverem','houverei','houvera',\n",
    "            'houveremos','houverao','houveria','houveriamos','houveriam','sou','somos','sao','era','eramos','eram','fui','foi',\n",
    "            'fomos','foram','fora','foramos','seja','sejamos','sejam','fosse','fossemos','fossem','for','formos','forem','serei',\n",
    "            'sera','seremos','serao','seria','seriamos','seriam','tenho','tem','temos','tem','tinha','tinhamos','tinham','tive',\n",
    "            'teve','tivemos','tiveram','tivera','tiveramos','tenha','tenhamos','tenham','tivesse','tivessemos','tivessem','tiver',\n",
    "            'tivermos','tiverem','terei','tera','teremos','terao','teria','teriamos','teriam']"
   ]
  },
  {
   "cell_type": "code",
   "execution_count": 2,
   "metadata": {},
   "outputs": [],
   "source": [
    "from sklearn.feature_extraction.text import TfidfVectorizer\n",
    "\n",
    "bag_of_words = TfidfVectorizer(strip_accents=\"ascii\", lowercase=True, stop_words = stopwords)"
   ]
  },
  {
   "cell_type": "code",
   "execution_count": 4,
   "metadata": {},
   "outputs": [
    {
     "data": {
      "text/html": [
       "<style>#sk-container-id-1 {color: black;background-color: white;}#sk-container-id-1 pre{padding: 0;}#sk-container-id-1 div.sk-toggleable {background-color: white;}#sk-container-id-1 label.sk-toggleable__label {cursor: pointer;display: block;width: 100%;margin-bottom: 0;padding: 0.3em;box-sizing: border-box;text-align: center;}#sk-container-id-1 label.sk-toggleable__label-arrow:before {content: \"▸\";float: left;margin-right: 0.25em;color: #696969;}#sk-container-id-1 label.sk-toggleable__label-arrow:hover:before {color: black;}#sk-container-id-1 div.sk-estimator:hover label.sk-toggleable__label-arrow:before {color: black;}#sk-container-id-1 div.sk-toggleable__content {max-height: 0;max-width: 0;overflow: hidden;text-align: left;background-color: #f0f8ff;}#sk-container-id-1 div.sk-toggleable__content pre {margin: 0.2em;color: black;border-radius: 0.25em;background-color: #f0f8ff;}#sk-container-id-1 input.sk-toggleable__control:checked~div.sk-toggleable__content {max-height: 200px;max-width: 100%;overflow: auto;}#sk-container-id-1 input.sk-toggleable__control:checked~label.sk-toggleable__label-arrow:before {content: \"▾\";}#sk-container-id-1 div.sk-estimator input.sk-toggleable__control:checked~label.sk-toggleable__label {background-color: #d4ebff;}#sk-container-id-1 div.sk-label input.sk-toggleable__control:checked~label.sk-toggleable__label {background-color: #d4ebff;}#sk-container-id-1 input.sk-hidden--visually {border: 0;clip: rect(1px 1px 1px 1px);clip: rect(1px, 1px, 1px, 1px);height: 1px;margin: -1px;overflow: hidden;padding: 0;position: absolute;width: 1px;}#sk-container-id-1 div.sk-estimator {font-family: monospace;background-color: #f0f8ff;border: 1px dotted black;border-radius: 0.25em;box-sizing: border-box;margin-bottom: 0.5em;}#sk-container-id-1 div.sk-estimator:hover {background-color: #d4ebff;}#sk-container-id-1 div.sk-parallel-item::after {content: \"\";width: 100%;border-bottom: 1px solid gray;flex-grow: 1;}#sk-container-id-1 div.sk-label:hover label.sk-toggleable__label {background-color: #d4ebff;}#sk-container-id-1 div.sk-serial::before {content: \"\";position: absolute;border-left: 1px solid gray;box-sizing: border-box;top: 0;bottom: 0;left: 50%;z-index: 0;}#sk-container-id-1 div.sk-serial {display: flex;flex-direction: column;align-items: center;background-color: white;padding-right: 0.2em;padding-left: 0.2em;position: relative;}#sk-container-id-1 div.sk-item {position: relative;z-index: 1;}#sk-container-id-1 div.sk-parallel {display: flex;align-items: stretch;justify-content: center;background-color: white;position: relative;}#sk-container-id-1 div.sk-item::before, #sk-container-id-1 div.sk-parallel-item::before {content: \"\";position: absolute;border-left: 1px solid gray;box-sizing: border-box;top: 0;bottom: 0;left: 50%;z-index: -1;}#sk-container-id-1 div.sk-parallel-item {display: flex;flex-direction: column;z-index: 1;position: relative;background-color: white;}#sk-container-id-1 div.sk-parallel-item:first-child::after {align-self: flex-end;width: 50%;}#sk-container-id-1 div.sk-parallel-item:last-child::after {align-self: flex-start;width: 50%;}#sk-container-id-1 div.sk-parallel-item:only-child::after {width: 0;}#sk-container-id-1 div.sk-dashed-wrapped {border: 1px dashed gray;margin: 0 0.4em 0.5em 0.4em;box-sizing: border-box;padding-bottom: 0.4em;background-color: white;}#sk-container-id-1 div.sk-label label {font-family: monospace;font-weight: bold;display: inline-block;line-height: 1.2em;}#sk-container-id-1 div.sk-label-container {text-align: center;}#sk-container-id-1 div.sk-container {/* jupyter's `normalize.less` sets `[hidden] { display: none; }` but bootstrap.min.css set `[hidden] { display: none !important; }` so we also need the `!important` here to be able to override the default hidden behavior on the sphinx rendered scikit-learn.org. See: https://github.com/scikit-learn/scikit-learn/issues/21755 */display: inline-block !important;position: relative;}#sk-container-id-1 div.sk-text-repr-fallback {display: none;}</style><div id=\"sk-container-id-1\" class=\"sk-top-container\"><div class=\"sk-text-repr-fallback\"><pre>TfidfVectorizer(stop_words=[&#x27;de&#x27;, &#x27;a&#x27;, &#x27;o&#x27;, &#x27;que&#x27;, &#x27;e&#x27;, &#x27;do&#x27;, &#x27;da&#x27;, &#x27;em&#x27;, &#x27;um&#x27;,\n",
       "                            &#x27;para&#x27;, &#x27;e&#x27;, &#x27;com&#x27;, &#x27;nao&#x27;, &#x27;uma&#x27;, &#x27;os&#x27;, &#x27;no&#x27;, &#x27;se&#x27;,\n",
       "                            &#x27;na&#x27;, &#x27;por&#x27;, &#x27;mais&#x27;, &#x27;as&#x27;, &#x27;dos&#x27;, &#x27;como&#x27;, &#x27;mas&#x27;,\n",
       "                            &#x27;foi&#x27;, &#x27;ao&#x27;, &#x27;ele&#x27;, &#x27;das&#x27;, &#x27;tem&#x27;, &#x27;a&#x27;, ...],\n",
       "                strip_accents=&#x27;ascii&#x27;)</pre><b>In a Jupyter environment, please rerun this cell to show the HTML representation or trust the notebook. <br />On GitHub, the HTML representation is unable to render, please try loading this page with nbviewer.org.</b></div><div class=\"sk-container\" hidden><div class=\"sk-item\"><div class=\"sk-estimator sk-toggleable\"><input class=\"sk-toggleable__control sk-hidden--visually\" id=\"sk-estimator-id-1\" type=\"checkbox\" checked><label for=\"sk-estimator-id-1\" class=\"sk-toggleable__label sk-toggleable__label-arrow\">TfidfVectorizer</label><div class=\"sk-toggleable__content\"><pre>TfidfVectorizer(stop_words=[&#x27;de&#x27;, &#x27;a&#x27;, &#x27;o&#x27;, &#x27;que&#x27;, &#x27;e&#x27;, &#x27;do&#x27;, &#x27;da&#x27;, &#x27;em&#x27;, &#x27;um&#x27;,\n",
       "                            &#x27;para&#x27;, &#x27;e&#x27;, &#x27;com&#x27;, &#x27;nao&#x27;, &#x27;uma&#x27;, &#x27;os&#x27;, &#x27;no&#x27;, &#x27;se&#x27;,\n",
       "                            &#x27;na&#x27;, &#x27;por&#x27;, &#x27;mais&#x27;, &#x27;as&#x27;, &#x27;dos&#x27;, &#x27;como&#x27;, &#x27;mas&#x27;,\n",
       "                            &#x27;foi&#x27;, &#x27;ao&#x27;, &#x27;ele&#x27;, &#x27;das&#x27;, &#x27;tem&#x27;, &#x27;a&#x27;, ...],\n",
       "                strip_accents=&#x27;ascii&#x27;)</pre></div></div></div></div></div>"
      ],
      "text/plain": [
       "TfidfVectorizer(stop_words=['de', 'a', 'o', 'que', 'e', 'do', 'da', 'em', 'um',\n",
       "                            'para', 'e', 'com', 'nao', 'uma', 'os', 'no', 'se',\n",
       "                            'na', 'por', 'mais', 'as', 'dos', 'como', 'mas',\n",
       "                            'foi', 'ao', 'ele', 'das', 'tem', 'a', ...],\n",
       "                strip_accents='ascii')"
      ]
     },
     "execution_count": 4,
     "metadata": {},
     "output_type": "execute_result"
    }
   ],
   "source": [
    "example = \"\"\"Kátia Abreu diz que vai colocar sua expulsão em uma moldura, mas não para de reclamar. A senadora Kátia Abreu (sem partido-TO) disse que sua expulsão do PMDB foi resultado de uma ação da cúpula atual da legenda que, segundo ela, é oportunista. “Amanhã eu vou botar numa moldura dourada a minha expulsão, porque das mãos de onde veio, é um atestado de boa conduta para o meu currículo. Essas pessoas que me expulsaram não servem ao país. Eles se servem do país em seus benefícios próprios”, disse Kátia Abreu. Ué, mas se a expulsão é algo tão bom para seu currículo, por que tanta choradeira, Kátia? Sabemos o motivo. Provavelmente Kátia não tem valor para o PT, partido que já deveria tê-la absorvido. Ao que parece o PT gostava de Kátia somente se ela ficasse entrincheirada dentro do PMDB. Ou seja, isso é se rebaixar demais. Resta a \"\"\"\n",
    "bag_of_words.fit([example])"
   ]
  },
  {
   "cell_type": "code",
   "execution_count": 5,
   "metadata": {},
   "outputs": [
    {
     "data": {
      "text/plain": [
       "{'katia': 27,\n",
       " 'abreu': 0,\n",
       " 'diz': 20,\n",
       " 'vai': 57,\n",
       " 'colocar': 12,\n",
       " 'expulsao': 23,\n",
       " 'moldura': 31,\n",
       " 'reclamar': 45,\n",
       " 'senadora': 50,\n",
       " 'partido': 37,\n",
       " 'to': 55,\n",
       " 'disse': 19,\n",
       " 'pmdb': 39,\n",
       " 'resultado': 47,\n",
       " 'acao': 2,\n",
       " 'cupula': 14,\n",
       " 'atual': 6,\n",
       " 'legenda': 29,\n",
       " 'segundo': 49,\n",
       " 'oportunista': 34,\n",
       " 'amanha': 4,\n",
       " 'vou': 60,\n",
       " 'botar': 10,\n",
       " 'dourada': 21,\n",
       " 'porque': 40,\n",
       " 'maos': 30,\n",
       " 'onde': 33,\n",
       " 'veio': 59,\n",
       " 'atestado': 5,\n",
       " 'boa': 8,\n",
       " 'conduta': 13,\n",
       " 'curriculo': 15,\n",
       " 'pessoas': 38,\n",
       " 'expulsaram': 24,\n",
       " 'servem': 51,\n",
       " 'pais': 35,\n",
       " 'beneficios': 7,\n",
       " 'proprios': 41,\n",
       " 'ue': 56,\n",
       " 'algo': 3,\n",
       " 'tao': 54,\n",
       " 'bom': 9,\n",
       " 'tanta': 53,\n",
       " 'choradeira': 11,\n",
       " 'sabemos': 48,\n",
       " 'motivo': 32,\n",
       " 'provavelmente': 42,\n",
       " 'valor': 58,\n",
       " 'pt': 43,\n",
       " 'deveria': 18,\n",
       " 'la': 28,\n",
       " 'absorvido': 1,\n",
       " 'parece': 36,\n",
       " 'gostava': 26,\n",
       " 'somente': 52,\n",
       " 'ficasse': 25,\n",
       " 'entrincheirada': 22,\n",
       " 'dentro': 17,\n",
       " 'rebaixar': 44,\n",
       " 'demais': 16,\n",
       " 'resta': 46}"
      ]
     },
     "execution_count": 5,
     "metadata": {},
     "output_type": "execute_result"
    }
   ],
   "source": [
    "bag_of_words.vocabulary_"
   ]
  }
 ],
 "metadata": {
  "kernelspec": {
   "display_name": "Python 3",
   "language": "python",
   "name": "python3"
  },
  "language_info": {
   "codemirror_mode": {
    "name": "ipython",
    "version": 3
   },
   "file_extension": ".py",
   "mimetype": "text/x-python",
   "name": "python",
   "nbconvert_exporter": "python",
   "pygments_lexer": "ipython3",
   "version": "3.9.13"
  },
  "orig_nbformat": 4
 },
 "nbformat": 4,
 "nbformat_minor": 2
}
