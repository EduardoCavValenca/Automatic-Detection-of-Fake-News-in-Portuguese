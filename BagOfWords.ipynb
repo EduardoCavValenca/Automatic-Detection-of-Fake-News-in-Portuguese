{
 "cells": [
  {
   "cell_type": "code",
   "execution_count": 26,
   "metadata": {},
   "outputs": [],
   "source": [
    "import os\n",
    "\n",
    "pre_processed_path = os.path.join('data', 'csvs', \"pre_processed.csv\")\n",
    "pre_normalized_path = os.path.join('data', 'csvs', \"pre_normalized.csv\")\n",
    "\n",
    "data_frame_paths = [pre_processed_path, pre_normalized_path]\n",
    "data_frame_names = [\"pre_processed\", \"pre_normalized\"]"
   ]
  },
  {
   "cell_type": "code",
   "execution_count": 27,
   "metadata": {},
   "outputs": [],
   "source": [
    "from preprocess import stopwords\n",
    "\n",
    "from sklearn.feature_extraction.text import CountVectorizer\n",
    "from sklearn.feature_extraction.text import TfidfVectorizer\n",
    "\n",
    "bag_of_words = CountVectorizer(strip_accents=\"ascii\", lowercase=True, stop_words = stopwords)\n",
    "bag_of_words_normalized = TfidfVectorizer(strip_accents=\"ascii\", lowercase=True, stop_words = stopwords, use_idf = False, norm='l2')\n",
    "bag_of_words_idf = TfidfVectorizer(strip_accents=\"ascii\", lowercase=True, stop_words = stopwords)\n",
    "\n",
    "vectorizers = [bag_of_words, bag_of_words_normalized, bag_of_words_idf]\n",
    "vectorizers_names = [\"CountVectorizer\", \"TfidfVectorizer_normalized\", \"TfidfVectorizer_idf\"]"
   ]
  },
  {
   "cell_type": "code",
   "execution_count": 28,
   "metadata": {},
   "outputs": [],
   "source": [
    "algs = []\n",
    "algs_names = []"
   ]
  },
  {
   "cell_type": "code",
   "execution_count": 29,
   "metadata": {},
   "outputs": [],
   "source": [
    "from sklearn.naive_bayes import GaussianNB\n",
    "from sklearn.naive_bayes import BernoulliNB\n",
    "from sklearn.naive_bayes import MultinomialNB\n",
    "\n",
    "Gaussain_NB = GaussianNB()\n",
    "Bernoulli_NB = BernoulliNB()\n",
    "Multinomial_NB = MultinomialNB()\n",
    "\n",
    "algs += [Gaussain_NB, Bernoulli_NB, Multinomial_NB]\n",
    "algs_names += [\"Gaussain_NB\", \"Bernoulli_NB\", \"Multinomial_NB\"]"
   ]
  },
  {
   "cell_type": "code",
   "execution_count": 30,
   "metadata": {},
   "outputs": [],
   "source": [
    "from sklearn.tree import DecisionTreeClassifier\n",
    "from sklearn.tree import ExtraTreeClassifier\n",
    "from sklearn.ensemble import RandomForestClassifier\n",
    "from sklearn.ensemble import ExtraTreesClassifier\n",
    "\n",
    "Decision_Tree_Classifier = DecisionTreeClassifier()\n",
    "Extra_Tree_Classifier = ExtraTreeClassifier()\n",
    "Random_Forest_Classifier = RandomForestClassifier()\n",
    "Extra_Trees_Classifier = ExtraTreesClassifier()\n",
    "\n",
    "algs += [Decision_Tree_Classifier, Extra_Tree_Classifier, Random_Forest_Classifier, Extra_Trees_Classifier]\n",
    "algs_names += [\"Decision_Tree_Classifier\", \"Extra_Tree_Classifier\", \"Random_Forest_Classifier\", \"Extra_Trees_Classifier\"]"
   ]
  },
  {
   "cell_type": "code",
   "execution_count": 31,
   "metadata": {},
   "outputs": [],
   "source": [
    "from sklearn.neighbors import KNeighborsClassifier\n",
    "from sklearn.svm import SVC\n",
    "\n",
    "KNN = KNeighborsClassifier()\n",
    "svc = SVC()\n",
    "\n",
    "algs += [KNN, svc]\n",
    "algs_names += [\"KNN\", \"SVC\"]"
   ]
  },
  {
   "cell_type": "code",
   "execution_count": 32,
   "metadata": {},
   "outputs": [],
   "source": [
    "from sklearn.ensemble import AdaBoostClassifier\n",
    "from sklearn.ensemble import GradientBoostingClassifier\n",
    "\n",
    "AdaBoost = AdaBoostClassifier()\n",
    "GradientBoost = GradientBoostingClassifier()\n",
    "\n",
    "algs += [AdaBoost, GradientBoost]\n",
    "algs_names += [\"AdaBoost\", \"GradientBoost\"]"
   ]
  },
  {
   "cell_type": "code",
   "execution_count": 33,
   "metadata": {},
   "outputs": [],
   "source": [
    "# from xgboost import XGBClassifier\n",
    "from lightgbm import LGBMClassifier\n",
    "from catboost import CatBoostClassifier\n",
    "\n",
    "LGBM = LGBMClassifier()\n",
    "CatBoost = CatBoostClassifier()\n",
    "\n",
    "algs += [LGBM, CatBoost]\n",
    "algs_names += [\"LGBM\", \"CatBoost\"]"
   ]
  },
  {
   "cell_type": "code",
   "execution_count": 34,
   "metadata": {},
   "outputs": [],
   "source": [
    "import pandas as pd\n",
    "from get_results import get_result_data_frames\n",
    "\n",
    "df = get_result_data_frames(algs, algs_names, vectorizers, vectorizers_names, data_frame_paths, data_frame_names)\n",
    "df = df.sort_values(by=['algorithm',\"accuracy\"], ascending=[True, False]).reset_index(drop=True)\n",
    "df"
   ]
  },
  {
   "cell_type": "code",
   "execution_count": null,
   "metadata": {},
   "outputs": [
    {
     "data": {
      "text/html": [
       "<div>\n",
       "<style scoped>\n",
       "    .dataframe tbody tr th:only-of-type {\n",
       "        vertical-align: middle;\n",
       "    }\n",
       "\n",
       "    .dataframe tbody tr th {\n",
       "        vertical-align: top;\n",
       "    }\n",
       "\n",
       "    .dataframe thead th {\n",
       "        text-align: right;\n",
       "    }\n",
       "</style>\n",
       "<table border=\"1\" class=\"dataframe\">\n",
       "  <thead>\n",
       "    <tr style=\"text-align: right;\">\n",
       "      <th></th>\n",
       "      <th>algorithm</th>\n",
       "      <th>dataset</th>\n",
       "      <th>vectorizer</th>\n",
       "      <th>accuracy</th>\n",
       "      <th>precision</th>\n",
       "      <th>recall</th>\n",
       "      <th>f1</th>\n",
       "      <th>train_time</th>\n",
       "      <th>predict_time</th>\n",
       "    </tr>\n",
       "  </thead>\n",
       "  <tbody>\n",
       "    <tr>\n",
       "      <th>0</th>\n",
       "      <td>Gaussain_NB</td>\n",
       "      <td>pre_normalized</td>\n",
       "      <td>CountVectorizer</td>\n",
       "      <td>0.7324</td>\n",
       "      <td>0.7325</td>\n",
       "      <td>0.7392</td>\n",
       "      <td>0.7358</td>\n",
       "      <td>4.40</td>\n",
       "      <td>2.37</td>\n",
       "    </tr>\n",
       "    <tr>\n",
       "      <th>1</th>\n",
       "      <td>Gaussain_NB</td>\n",
       "      <td>pre_normalized</td>\n",
       "      <td>TfidfVectorizer_idf</td>\n",
       "      <td>0.7157</td>\n",
       "      <td>0.7118</td>\n",
       "      <td>0.7224</td>\n",
       "      <td>0.7171</td>\n",
       "      <td>4.93</td>\n",
       "      <td>2.44</td>\n",
       "    </tr>\n",
       "    <tr>\n",
       "      <th>2</th>\n",
       "      <td>Gaussain_NB</td>\n",
       "      <td>pre_normalized</td>\n",
       "      <td>TfidfVectorizer_normalized</td>\n",
       "      <td>0.7130</td>\n",
       "      <td>0.7072</td>\n",
       "      <td>0.7269</td>\n",
       "      <td>0.7169</td>\n",
       "      <td>4.16</td>\n",
       "      <td>2.44</td>\n",
       "    </tr>\n",
       "    <tr>\n",
       "      <th>3</th>\n",
       "      <td>Gaussain_NB</td>\n",
       "      <td>pre_processed</td>\n",
       "      <td>TfidfVectorizer_idf</td>\n",
       "      <td>0.6361</td>\n",
       "      <td>0.9551</td>\n",
       "      <td>0.2785</td>\n",
       "      <td>0.4313</td>\n",
       "      <td>6.85</td>\n",
       "      <td>3.98</td>\n",
       "    </tr>\n",
       "    <tr>\n",
       "      <th>4</th>\n",
       "      <td>Gaussain_NB</td>\n",
       "      <td>pre_processed</td>\n",
       "      <td>TfidfVectorizer_normalized</td>\n",
       "      <td>0.6338</td>\n",
       "      <td>0.9439</td>\n",
       "      <td>0.2816</td>\n",
       "      <td>0.4338</td>\n",
       "      <td>7.19</td>\n",
       "      <td>3.95</td>\n",
       "    </tr>\n",
       "    <tr>\n",
       "      <th>5</th>\n",
       "      <td>Gaussain_NB</td>\n",
       "      <td>pre_processed</td>\n",
       "      <td>CountVectorizer</td>\n",
       "      <td>0.6148</td>\n",
       "      <td>0.9291</td>\n",
       "      <td>0.2532</td>\n",
       "      <td>0.3980</td>\n",
       "      <td>7.15</td>\n",
       "      <td>3.75</td>\n",
       "    </tr>\n",
       "  </tbody>\n",
       "</table>\n",
       "</div>"
      ],
      "text/plain": [
       "     algorithm         dataset                  vectorizer  accuracy  \\\n",
       "0  Gaussain_NB  pre_normalized             CountVectorizer    0.7324   \n",
       "1  Gaussain_NB  pre_normalized         TfidfVectorizer_idf    0.7157   \n",
       "2  Gaussain_NB  pre_normalized  TfidfVectorizer_normalized    0.7130   \n",
       "3  Gaussain_NB   pre_processed         TfidfVectorizer_idf    0.6361   \n",
       "4  Gaussain_NB   pre_processed  TfidfVectorizer_normalized    0.6338   \n",
       "5  Gaussain_NB   pre_processed             CountVectorizer    0.6148   \n",
       "\n",
       "   precision  recall      f1  train_time  predict_time  \n",
       "0     0.7325  0.7392  0.7358        4.40          2.37  \n",
       "1     0.7118  0.7224  0.7171        4.93          2.44  \n",
       "2     0.7072  0.7269  0.7169        4.16          2.44  \n",
       "3     0.9551  0.2785  0.4313        6.85          3.98  \n",
       "4     0.9439  0.2816  0.4338        7.19          3.95  \n",
       "5     0.9291  0.2532  0.3980        7.15          3.75  "
      ]
     },
     "execution_count": 9,
     "metadata": {},
     "output_type": "execute_result"
    }
   ],
   "source": [
    "df.sort_values(by=[\"accuracy\"], ascending=[False]).reset_index(drop=True)"
   ]
  },
  {
   "cell_type": "code",
   "execution_count": null,
   "metadata": {},
   "outputs": [],
   "source": [
    "df.to_csv(\"results/models_results.csv\", index=False)"
   ]
  }
 ],
 "metadata": {
  "kernelspec": {
   "display_name": "Python 3",
   "language": "python",
   "name": "python3"
  },
  "language_info": {
   "codemirror_mode": {
    "name": "ipython",
    "version": 3
   },
   "file_extension": ".py",
   "mimetype": "text/x-python",
   "name": "python",
   "nbconvert_exporter": "python",
   "pygments_lexer": "ipython3",
   "version": "3.9.13"
  },
  "orig_nbformat": 4
 },
 "nbformat": 4,
 "nbformat_minor": 2
}
