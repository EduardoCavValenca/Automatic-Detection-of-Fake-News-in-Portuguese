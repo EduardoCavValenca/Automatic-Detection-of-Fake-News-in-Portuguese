{
 "cells": [
  {
   "cell_type": "code",
   "execution_count": 35,
   "metadata": {},
   "outputs": [],
   "source": [
    "import pandas as pd\n",
    "import numpy as np\n",
    "import matplotlib.pyplot as plt\n",
    "import seaborn as sns\n",
    "import sklearn"
   ]
  },
  {
   "cell_type": "code",
   "execution_count": 36,
   "metadata": {},
   "outputs": [
    {
     "data": {
      "text/plain": [
       "{'oi': 3, 'meu': 1, 'nome': 2, 'carlos': 0}"
      ]
     },
     "execution_count": 36,
     "metadata": {},
     "output_type": "execute_result"
    }
   ],
   "source": [
    "from sklearn.feature_extraction.text import CountVectorizer\n",
    "\n",
    "bag_of_words = CountVectorizer()\n",
    "bag_of_words.fit([\"oi meu nome é carlos\"])\n",
    "bag_of_words.vocabulary_"
   ]
  },
  {
   "cell_type": "code",
   "execution_count": 37,
   "metadata": {},
   "outputs": [
    {
     "name": "stdout",
     "output_type": "stream",
     "text": [
      "['carlos' 'meu' 'nome' 'oi']\n",
      "[[1 2 0 0]]\n"
     ]
    }
   ],
   "source": [
    "result = bag_of_words.transform([\"meu meu carlos\"])\n",
    "print(bag_of_words.get_feature_names_out())\n",
    "print(result.toarray())"
   ]
  },
  {
   "cell_type": "code",
   "execution_count": 41,
   "metadata": {},
   "outputs": [
    {
     "data": {
      "text/html": [
       "<div>\n",
       "<style scoped>\n",
       "    .dataframe tbody tr th:only-of-type {\n",
       "        vertical-align: middle;\n",
       "    }\n",
       "\n",
       "    .dataframe tbody tr th {\n",
       "        vertical-align: top;\n",
       "    }\n",
       "\n",
       "    .dataframe thead th {\n",
       "        text-align: right;\n",
       "    }\n",
       "</style>\n",
       "<table border=\"1\" class=\"dataframe\">\n",
       "  <thead>\n",
       "    <tr style=\"text-align: right;\">\n",
       "      <th></th>\n",
       "      <th>text</th>\n",
       "      <th>label</th>\n",
       "    </tr>\n",
       "  </thead>\n",
       "  <tbody>\n",
       "    <tr>\n",
       "      <th>0</th>\n",
       "      <td>autor bestseller cita 5 expressoes indicam int...</td>\n",
       "      <td>fake</td>\n",
       "    </tr>\n",
       "    <tr>\n",
       "      <th>1</th>\n",
       "      <td>juiz df confirma indicios expresidente petista...</td>\n",
       "      <td>fake</td>\n",
       "    </tr>\n",
       "    <tr>\n",
       "      <th>2</th>\n",
       "      <td>senhora 60 anos corre atras eduardo cunha aero...</td>\n",
       "      <td>fake</td>\n",
       "    </tr>\n",
       "    <tr>\n",
       "      <th>3</th>\n",
       "      <td>russia ameaca derrubar avioes americanos siria...</td>\n",
       "      <td>fake</td>\n",
       "    </tr>\n",
       "    <tr>\n",
       "      <th>4</th>\n",
       "      <td>governo podera demitir 18 mil servidores banco...</td>\n",
       "      <td>fake</td>\n",
       "    </tr>\n",
       "    <tr>\n",
       "      <th>...</th>\n",
       "      <td>...</td>\n",
       "      <td>...</td>\n",
       "    </tr>\n",
       "    <tr>\n",
       "      <th>7195</th>\n",
       "      <td>petistas intervencao serve contornar dificulda...</td>\n",
       "      <td>true</td>\n",
       "    </tr>\n",
       "    <tr>\n",
       "      <th>7196</th>\n",
       "      <td>tercafeira 11 julho 2017 boa noite aqui princi...</td>\n",
       "      <td>true</td>\n",
       "    </tr>\n",
       "    <tr>\n",
       "      <th>7197</th>\n",
       "      <td>dona marisa exprimeiradama morre sp mulher lul...</td>\n",
       "      <td>true</td>\n",
       "    </tr>\n",
       "    <tr>\n",
       "      <th>7198</th>\n",
       "      <td>thiago blumenthal texto agradecimento nobel li...</td>\n",
       "      <td>true</td>\n",
       "    </tr>\n",
       "    <tr>\n",
       "      <th>7199</th>\n",
       "      <td>envolvo politica diz brasileiro preso venezuel...</td>\n",
       "      <td>true</td>\n",
       "    </tr>\n",
       "  </tbody>\n",
       "</table>\n",
       "<p>7200 rows × 2 columns</p>\n",
       "</div>"
      ],
      "text/plain": [
       "                                                   text label\n",
       "0     autor bestseller cita 5 expressoes indicam int...  fake\n",
       "1     juiz df confirma indicios expresidente petista...  fake\n",
       "2     senhora 60 anos corre atras eduardo cunha aero...  fake\n",
       "3     russia ameaca derrubar avioes americanos siria...  fake\n",
       "4     governo podera demitir 18 mil servidores banco...  fake\n",
       "...                                                 ...   ...\n",
       "7195  petistas intervencao serve contornar dificulda...  true\n",
       "7196  tercafeira 11 julho 2017 boa noite aqui princi...  true\n",
       "7197  dona marisa exprimeiradama morre sp mulher lul...  true\n",
       "7198  thiago blumenthal texto agradecimento nobel li...  true\n",
       "7199  envolvo politica diz brasileiro preso venezuel...  true\n",
       "\n",
       "[7200 rows x 2 columns]"
      ]
     },
     "execution_count": 41,
     "metadata": {},
     "output_type": "execute_result"
    }
   ],
   "source": [
    "import os\n",
    "\n",
    "pre_file_path = os.path.join('pre_normalized', 'news.csv')\n",
    "pre_df = pd.read_csv(pre_file_path)\n",
    "pre_df = pre_df[[\"text\",\"label\"]]\n",
    "pre_df"
   ]
  },
  {
   "cell_type": "code",
   "execution_count": 42,
   "metadata": {},
   "outputs": [],
   "source": [
    "from sklearn.model_selection import train_test_split\n",
    "\n",
    "\n",
    "X_train, X_test, y_train, y_test = train_test_split(pre_df[\"text\"], pre_df[\"label\"], shuffle= True, test_size=0.2)"
   ]
  },
  {
   "cell_type": "code",
   "execution_count": 44,
   "metadata": {},
   "outputs": [
    {
     "data": {
      "text/html": [
       "<style>#sk-container-id-2 {color: black;background-color: white;}#sk-container-id-2 pre{padding: 0;}#sk-container-id-2 div.sk-toggleable {background-color: white;}#sk-container-id-2 label.sk-toggleable__label {cursor: pointer;display: block;width: 100%;margin-bottom: 0;padding: 0.3em;box-sizing: border-box;text-align: center;}#sk-container-id-2 label.sk-toggleable__label-arrow:before {content: \"▸\";float: left;margin-right: 0.25em;color: #696969;}#sk-container-id-2 label.sk-toggleable__label-arrow:hover:before {color: black;}#sk-container-id-2 div.sk-estimator:hover label.sk-toggleable__label-arrow:before {color: black;}#sk-container-id-2 div.sk-toggleable__content {max-height: 0;max-width: 0;overflow: hidden;text-align: left;background-color: #f0f8ff;}#sk-container-id-2 div.sk-toggleable__content pre {margin: 0.2em;color: black;border-radius: 0.25em;background-color: #f0f8ff;}#sk-container-id-2 input.sk-toggleable__control:checked~div.sk-toggleable__content {max-height: 200px;max-width: 100%;overflow: auto;}#sk-container-id-2 input.sk-toggleable__control:checked~label.sk-toggleable__label-arrow:before {content: \"▾\";}#sk-container-id-2 div.sk-estimator input.sk-toggleable__control:checked~label.sk-toggleable__label {background-color: #d4ebff;}#sk-container-id-2 div.sk-label input.sk-toggleable__control:checked~label.sk-toggleable__label {background-color: #d4ebff;}#sk-container-id-2 input.sk-hidden--visually {border: 0;clip: rect(1px 1px 1px 1px);clip: rect(1px, 1px, 1px, 1px);height: 1px;margin: -1px;overflow: hidden;padding: 0;position: absolute;width: 1px;}#sk-container-id-2 div.sk-estimator {font-family: monospace;background-color: #f0f8ff;border: 1px dotted black;border-radius: 0.25em;box-sizing: border-box;margin-bottom: 0.5em;}#sk-container-id-2 div.sk-estimator:hover {background-color: #d4ebff;}#sk-container-id-2 div.sk-parallel-item::after {content: \"\";width: 100%;border-bottom: 1px solid gray;flex-grow: 1;}#sk-container-id-2 div.sk-label:hover label.sk-toggleable__label {background-color: #d4ebff;}#sk-container-id-2 div.sk-serial::before {content: \"\";position: absolute;border-left: 1px solid gray;box-sizing: border-box;top: 0;bottom: 0;left: 50%;z-index: 0;}#sk-container-id-2 div.sk-serial {display: flex;flex-direction: column;align-items: center;background-color: white;padding-right: 0.2em;padding-left: 0.2em;position: relative;}#sk-container-id-2 div.sk-item {position: relative;z-index: 1;}#sk-container-id-2 div.sk-parallel {display: flex;align-items: stretch;justify-content: center;background-color: white;position: relative;}#sk-container-id-2 div.sk-item::before, #sk-container-id-2 div.sk-parallel-item::before {content: \"\";position: absolute;border-left: 1px solid gray;box-sizing: border-box;top: 0;bottom: 0;left: 50%;z-index: -1;}#sk-container-id-2 div.sk-parallel-item {display: flex;flex-direction: column;z-index: 1;position: relative;background-color: white;}#sk-container-id-2 div.sk-parallel-item:first-child::after {align-self: flex-end;width: 50%;}#sk-container-id-2 div.sk-parallel-item:last-child::after {align-self: flex-start;width: 50%;}#sk-container-id-2 div.sk-parallel-item:only-child::after {width: 0;}#sk-container-id-2 div.sk-dashed-wrapped {border: 1px dashed gray;margin: 0 0.4em 0.5em 0.4em;box-sizing: border-box;padding-bottom: 0.4em;background-color: white;}#sk-container-id-2 div.sk-label label {font-family: monospace;font-weight: bold;display: inline-block;line-height: 1.2em;}#sk-container-id-2 div.sk-label-container {text-align: center;}#sk-container-id-2 div.sk-container {/* jupyter's `normalize.less` sets `[hidden] { display: none; }` but bootstrap.min.css set `[hidden] { display: none !important; }` so we also need the `!important` here to be able to override the default hidden behavior on the sphinx rendered scikit-learn.org. See: https://github.com/scikit-learn/scikit-learn/issues/21755 */display: inline-block !important;position: relative;}#sk-container-id-2 div.sk-text-repr-fallback {display: none;}</style><div id=\"sk-container-id-2\" class=\"sk-top-container\"><div class=\"sk-text-repr-fallback\"><pre>CountVectorizer()</pre><b>In a Jupyter environment, please rerun this cell to show the HTML representation or trust the notebook. <br />On GitHub, the HTML representation is unable to render, please try loading this page with nbviewer.org.</b></div><div class=\"sk-container\" hidden><div class=\"sk-item\"><div class=\"sk-estimator sk-toggleable\"><input class=\"sk-toggleable__control sk-hidden--visually\" id=\"sk-estimator-id-2\" type=\"checkbox\" checked><label for=\"sk-estimator-id-2\" class=\"sk-toggleable__label sk-toggleable__label-arrow\">CountVectorizer</label><div class=\"sk-toggleable__content\"><pre>CountVectorizer()</pre></div></div></div></div></div>"
      ],
      "text/plain": [
       "CountVectorizer()"
      ]
     },
     "execution_count": 44,
     "metadata": {},
     "output_type": "execute_result"
    }
   ],
   "source": [
    "bag_of_words = CountVectorizer()\n",
    "bag_of_words.fit(X_train)"
   ]
  },
  {
   "cell_type": "code",
   "execution_count": 45,
   "metadata": {},
   "outputs": [
    {
     "data": {
      "text/plain": [
       "[('agora', 2663),\n",
       " ('fita', 19833),\n",
       " ('pericia', 31689),\n",
       " ('vale', 42002),\n",
       " ('diz', 15182),\n",
       " ('gilmar', 21086),\n",
       " ('ironizando', 24515),\n",
       " ('audios', 5494),\n",
       " ('jbs', 24815),\n",
       " ('herman', 21941)]"
      ]
     },
     "execution_count": 45,
     "metadata": {},
     "output_type": "execute_result"
    }
   ],
   "source": [
    "list(bag_of_words.vocabulary_.items())[:10]"
   ]
  },
  {
   "cell_type": "code",
   "execution_count": 46,
   "metadata": {},
   "outputs": [],
   "source": [
    "X_train = bag_of_words.transform(X_train).toarray()\n",
    "X_test = bag_of_words.transform(X_test).toarray()"
   ]
  },
  {
   "cell_type": "code",
   "execution_count": 47,
   "metadata": {},
   "outputs": [],
   "source": [
    "from sklearn.naive_bayes import GaussianNB\n",
    "from sklearn.naive_bayes import BernoulliNB\n",
    "from sklearn.naive_bayes import MultinomialNB\n",
    "\n",
    "GNB = GaussianNB()\n",
    "BNB = BernoulliNB()\n",
    "MNB = MultinomialNB()\n",
    "\n",
    "\n",
    "naive_bayes = [GNB, BNB, MNB]\n",
    "naive_bayes_names = [\"GNB\", \"BNB\", \"MNB\"]"
   ]
  },
  {
   "cell_type": "code",
   "execution_count": 48,
   "metadata": {},
   "outputs": [
    {
     "name": "stdout",
     "output_type": "stream",
     "text": [
      "GaussianNB() mean accuracy: 0.721\n",
      "BernoulliNB() mean accuracy: 0.878\n",
      "MultinomialNB() mean accuracy: 0.869\n"
     ]
    }
   ],
   "source": [
    "from sklearn.model_selection import cross_val_score\n",
    "\n",
    "for i, algo in enumerate(naive_bayes):\n",
    "    acc = cross_val_score(algo, X_train, y_train, cv=5, scoring='accuracy')\n",
    "    print(f\"{algo} mean accuracy: \", end = \"\")\n",
    "    print(round(np.mean(acc), 3))"
   ]
  },
  {
   "cell_type": "code",
   "execution_count": 49,
   "metadata": {},
   "outputs": [
    {
     "data": {
      "text/html": [
       "<div>\n",
       "<style scoped>\n",
       "    .dataframe tbody tr th:only-of-type {\n",
       "        vertical-align: middle;\n",
       "    }\n",
       "\n",
       "    .dataframe tbody tr th {\n",
       "        vertical-align: top;\n",
       "    }\n",
       "\n",
       "    .dataframe thead th {\n",
       "        text-align: right;\n",
       "    }\n",
       "</style>\n",
       "<table border=\"1\" class=\"dataframe\">\n",
       "  <thead>\n",
       "    <tr style=\"text-align: right;\">\n",
       "      <th></th>\n",
       "      <th>accuracy</th>\n",
       "      <th>precision</th>\n",
       "      <th>recall</th>\n",
       "      <th>f1_score</th>\n",
       "    </tr>\n",
       "  </thead>\n",
       "  <tbody>\n",
       "    <tr>\n",
       "      <th>GNB</th>\n",
       "      <td>0.706944</td>\n",
       "      <td>0.702346</td>\n",
       "      <td>0.686246</td>\n",
       "      <td>0.694203</td>\n",
       "    </tr>\n",
       "    <tr>\n",
       "      <th>BNB</th>\n",
       "      <td>0.860417</td>\n",
       "      <td>0.849508</td>\n",
       "      <td>0.865330</td>\n",
       "      <td>0.857346</td>\n",
       "    </tr>\n",
       "    <tr>\n",
       "      <th>MNB</th>\n",
       "      <td>0.845833</td>\n",
       "      <td>0.837110</td>\n",
       "      <td>0.846705</td>\n",
       "      <td>0.841880</td>\n",
       "    </tr>\n",
       "  </tbody>\n",
       "</table>\n",
       "</div>"
      ],
      "text/plain": [
       "     accuracy  precision    recall  f1_score\n",
       "GNB  0.706944   0.702346  0.686246  0.694203\n",
       "BNB  0.860417   0.849508  0.865330  0.857346\n",
       "MNB  0.845833   0.837110  0.846705  0.841880"
      ]
     },
     "execution_count": 49,
     "metadata": {},
     "output_type": "execute_result"
    }
   ],
   "source": [
    "from collections import defaultdict\n",
    "scores = defaultdict(list)\n",
    "\n",
    "from sklearn.metrics import accuracy_score\n",
    "from sklearn.metrics import precision_score\n",
    "from sklearn.metrics import recall_score\n",
    "from sklearn.metrics import f1_score\n",
    "\n",
    "for algo in naive_bayes:\n",
    "    algo.fit(X_train, y_train)\n",
    "    y_predict = algo.predict(X_test)\n",
    "\n",
    "    scores[\"accuracy\"].append(accuracy_score(y_test, y_predict))\n",
    "    scores[\"precision\"].append(precision_score(y_test, y_predict, pos_label = 'fake'))\n",
    "    scores[\"recall\"].append(recall_score(y_test, y_predict, pos_label = 'fake'))\n",
    "    scores[\"f1_score\"].append(f1_score(y_test, y_predict, pos_label = 'fake'))\n",
    "\n",
    "naive_results_df = pd.DataFrame(scores, index = naive_bayes_names)\n",
    "naive_results_df"
   ]
  },
  {
   "cell_type": "code",
   "execution_count": 50,
   "metadata": {},
   "outputs": [],
   "source": [
    "# from sklearn.model_selection import GridSearchCV\n",
    "\n",
    "# num_target_classes = 2\n",
    "\n",
    "# params = {'alpha': [0.01, 0.1, 0.5, 1.0, 10.0],\n",
    "#           'fit_prior': [True, False],\n",
    "#           'class_prior': [None, [0.1,]* num_target_classes, ],\n",
    "#           'binarize': [None, 0.0, 8.5, 10.0]\n",
    "#          }\n",
    "\n",
    "# bernoulli_nb_grid = GridSearchCV(BernoulliNB(), param_grid=params, n_jobs=-1, cv=5)\n",
    "# bernoulli_nb_grid.fit(X_train,y_train)\n",
    "# bernoulli_nb_grid.best_params_"
   ]
  },
  {
   "cell_type": "code",
   "execution_count": 51,
   "metadata": {},
   "outputs": [],
   "source": [
    "# best_acc_model_param = bernoulli_nb_grid.best_params_\n",
    "best_bernoulli_param = {'alpha': 0.01, 'binarize': 0.0, 'class_prior': None, 'fit_prior': True}\n",
    "best_bernoulli = BernoulliNB(**best_bernoulli_param)\n",
    "\n",
    "#{'alpha': 0.01, 'binarize': 0.0, 'class_prior': None, 'fit_prior': True}"
   ]
  },
  {
   "cell_type": "code",
   "execution_count": 52,
   "metadata": {},
   "outputs": [
    {
     "data": {
      "text/html": [
       "<div>\n",
       "<style scoped>\n",
       "    .dataframe tbody tr th:only-of-type {\n",
       "        vertical-align: middle;\n",
       "    }\n",
       "\n",
       "    .dataframe tbody tr th {\n",
       "        vertical-align: top;\n",
       "    }\n",
       "\n",
       "    .dataframe thead th {\n",
       "        text-align: right;\n",
       "    }\n",
       "</style>\n",
       "<table border=\"1\" class=\"dataframe\">\n",
       "  <thead>\n",
       "    <tr style=\"text-align: right;\">\n",
       "      <th></th>\n",
       "      <th>accuracy</th>\n",
       "      <th>precision</th>\n",
       "      <th>recall</th>\n",
       "      <th>f1_score</th>\n",
       "    </tr>\n",
       "  </thead>\n",
       "  <tbody>\n",
       "    <tr>\n",
       "      <th>GNB</th>\n",
       "      <td>0.706944</td>\n",
       "      <td>0.702346</td>\n",
       "      <td>0.686246</td>\n",
       "      <td>0.694203</td>\n",
       "    </tr>\n",
       "    <tr>\n",
       "      <th>BNB</th>\n",
       "      <td>0.860417</td>\n",
       "      <td>0.849508</td>\n",
       "      <td>0.865330</td>\n",
       "      <td>0.857346</td>\n",
       "    </tr>\n",
       "    <tr>\n",
       "      <th>MNB</th>\n",
       "      <td>0.845833</td>\n",
       "      <td>0.837110</td>\n",
       "      <td>0.846705</td>\n",
       "      <td>0.841880</td>\n",
       "    </tr>\n",
       "    <tr>\n",
       "      <th>Tuned BNB</th>\n",
       "      <td>0.832639</td>\n",
       "      <td>0.822285</td>\n",
       "      <td>0.835244</td>\n",
       "      <td>0.828714</td>\n",
       "    </tr>\n",
       "  </tbody>\n",
       "</table>\n",
       "</div>"
      ],
      "text/plain": [
       "           accuracy  precision    recall  f1_score\n",
       "GNB        0.706944   0.702346  0.686246  0.694203\n",
       "BNB        0.860417   0.849508  0.865330  0.857346\n",
       "MNB        0.845833   0.837110  0.846705  0.841880\n",
       "Tuned BNB  0.832639   0.822285  0.835244  0.828714"
      ]
     },
     "execution_count": 52,
     "metadata": {},
     "output_type": "execute_result"
    }
   ],
   "source": [
    "best_bernoulli.fit(X_train, y_train)\n",
    "y_predict = best_bernoulli.predict(X_test)\n",
    "\n",
    "acc = accuracy_score(y_test, y_predict)\n",
    "prec = precision_score(y_test, y_predict, pos_label = 'fake')\n",
    "recall = recall_score(y_test, y_predict, pos_label = 'fake')\n",
    "f1_score = f1_score(y_test, y_predict, pos_label = 'fake')\n",
    "\n",
    "naive_results_df.loc[\"Tuned BNB\"] = [acc, prec, recall, f1_score]\n",
    "naive_results_df"
   ]
  },
  {
   "cell_type": "code",
   "execution_count": 53,
   "metadata": {},
   "outputs": [
    {
     "data": {
      "text/plain": [
       "[]"
      ]
     },
     "execution_count": 53,
     "metadata": {},
     "output_type": "execute_result"
    },
    {
     "data": {
      "image/png": "[encoded data removed]",
      "text/plain": [
       "<Figure size 640x480 with 2 Axes>"
      ]
     },
     "metadata": {},
     "output_type": "display_data"
    }
   ],
   "source": [
    "from sklearn.metrics import confusion_matrix\n",
    "\n",
    "labels = [\"fake\",\"true\"]\n",
    "s = sns.heatmap(confusion_matrix(y_test,y_predict),annot=True,fmt=\"g\", xticklabels=labels, yticklabels=labels, cmap=\"crest\")\n",
    "s.set_xlabel(\"Predicted label\")\n",
    "s.set_ylabel(\"True label\")\n",
    "s.plot()"
   ]
  }
 ],
 "metadata": {
  "kernelspec": {
   "display_name": "Python 3",
   "language": "python",
   "name": "python3"
  },
  "language_info": {
   "codemirror_mode": {
    "name": "ipython",
    "version": 3
   },
   "file_extension": ".py",
   "mimetype": "text/x-python",
   "name": "python",
   "nbconvert_exporter": "python",
   "pygments_lexer": "ipython3",
   "version": "3.9.13"
  },
  "orig_nbformat": 4
 },
 "nbformat": 4,
 "nbformat_minor": 2
}
