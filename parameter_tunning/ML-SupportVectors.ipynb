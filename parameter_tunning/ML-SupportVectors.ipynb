{
 "cells": [
  {
   "cell_type": "code",
   "execution_count": 6,
   "metadata": {},
   "outputs": [],
   "source": [
    "from preprocess import stopwords\n",
    "\n",
    "import pandas as pd\n",
    "import numpy as np\n",
    "import matplotlib.pyplot as plt\n",
    "import seaborn as sns"
   ]
  },
  {
   "cell_type": "code",
   "execution_count": 7,
   "metadata": {},
   "outputs": [
    {
     "data": {
      "text/html": [
       "<div>\n",
       "<style scoped>\n",
       "    .dataframe tbody tr th:only-of-type {\n",
       "        vertical-align: middle;\n",
       "    }\n",
       "\n",
       "    .dataframe tbody tr th {\n",
       "        vertical-align: top;\n",
       "    }\n",
       "\n",
       "    .dataframe thead th {\n",
       "        text-align: right;\n",
       "    }\n",
       "</style>\n",
       "<table border=\"1\" class=\"dataframe\">\n",
       "  <thead>\n",
       "    <tr style=\"text-align: right;\">\n",
       "      <th></th>\n",
       "      <th>text</th>\n",
       "      <th>label</th>\n",
       "    </tr>\n",
       "  </thead>\n",
       "  <tbody>\n",
       "    <tr>\n",
       "      <th>0</th>\n",
       "      <td>autor bestseller cita 5 expressoes indicam int...</td>\n",
       "      <td>fake</td>\n",
       "    </tr>\n",
       "    <tr>\n",
       "      <th>1</th>\n",
       "      <td>juiz df confirma indicios expresidente petista...</td>\n",
       "      <td>fake</td>\n",
       "    </tr>\n",
       "    <tr>\n",
       "      <th>2</th>\n",
       "      <td>senhora 60 anos corre atras eduardo cunha aero...</td>\n",
       "      <td>fake</td>\n",
       "    </tr>\n",
       "    <tr>\n",
       "      <th>3</th>\n",
       "      <td>russia ameaca derrubar avioes americanos siria...</td>\n",
       "      <td>fake</td>\n",
       "    </tr>\n",
       "    <tr>\n",
       "      <th>4</th>\n",
       "      <td>governo podera demitir 18 mil servidores banco...</td>\n",
       "      <td>fake</td>\n",
       "    </tr>\n",
       "  </tbody>\n",
       "</table>\n",
       "</div>"
      ],
      "text/plain": [
       "                                                text label\n",
       "0  autor bestseller cita 5 expressoes indicam int...  fake\n",
       "1  juiz df confirma indicios expresidente petista...  fake\n",
       "2  senhora 60 anos corre atras eduardo cunha aero...  fake\n",
       "3  russia ameaca derrubar avioes americanos siria...  fake\n",
       "4  governo podera demitir 18 mil servidores banco...  fake"
      ]
     },
     "execution_count": 7,
     "metadata": {},
     "output_type": "execute_result"
    }
   ],
   "source": [
    "import os\n",
    "\n",
    "pre_file_path = os.path.join('pre_normalized', 'news.csv')\n",
    "pre_df = pd.read_csv(pre_file_path)\n",
    "pre_df = pre_df[[\"text\",\"label\"]]\n",
    "pre_df.head()"
   ]
  },
  {
   "cell_type": "code",
   "execution_count": 8,
   "metadata": {},
   "outputs": [],
   "source": [
    "from sklearn.feature_extraction.text import TfidfVectorizer\n",
    "\n",
    "# bag_of_words_normalized = TfidfVectorizer(strip_accents=\"ascii\", lowercase=True, stop_words = stopwords, use_idf = False, norm='l2')\n",
    "# bag_of_words_idf = TfidfVectorizer(strip_accents=\"ascii\", lowercase=True, stop_words = stopwords)\n",
    "#bag_of_words = TfidfVectorizer(strip_accents=\"ascii\", lowercase=True, stop_words = stopwords, use_idf = False, norm='l2')\n",
    "bag_of_words = TfidfVectorizer(strip_accents=\"ascii\", lowercase=True, stop_words = stopwords)"
   ]
  },
  {
   "cell_type": "code",
   "execution_count": 9,
   "metadata": {},
   "outputs": [],
   "source": [
    "from sklearn.model_selection import train_test_split\n",
    "\n",
    "X_train, X_test, y_train, y_test = train_test_split(pre_df[\"text\"], pre_df[\"label\"], shuffle= True, test_size=0.2)\n",
    "\n",
    "bag_of_words.fit(X_train)\n",
    "\n",
    "X_train = bag_of_words.transform(X_train).toarray()\n",
    "X_test = bag_of_words.transform(X_test).toarray()"
   ]
  },
  {
   "cell_type": "code",
   "execution_count": 10,
   "metadata": {},
   "outputs": [],
   "source": [
    "from sklearn.svm import SVC\n",
    "from sklearn.svm import LinearSVC\n",
    "from sklearn.svm import NuSVC\n",
    "\n",
    "svc = SVC()\n",
    "lsvc = LinearSVC()\n",
    "nsvc = NuSVC()\n",
    "\n",
    "\n",
    "support_vector = [svc, lsvc, nsvc]\n",
    "support_vector_names = [\"SVC\", \"LSVC\", \"NSVC\"]"
   ]
  },
  {
   "cell_type": "code",
   "execution_count": 11,
   "metadata": {},
   "outputs": [
    {
     "data": {
      "text/html": [
       "<div>\n",
       "<style scoped>\n",
       "    .dataframe tbody tr th:only-of-type {\n",
       "        vertical-align: middle;\n",
       "    }\n",
       "\n",
       "    .dataframe tbody tr th {\n",
       "        vertical-align: top;\n",
       "    }\n",
       "\n",
       "    .dataframe thead th {\n",
       "        text-align: right;\n",
       "    }\n",
       "</style>\n",
       "<table border=\"1\" class=\"dataframe\">\n",
       "  <thead>\n",
       "    <tr style=\"text-align: right;\">\n",
       "      <th></th>\n",
       "      <th>accuracy</th>\n",
       "      <th>precision</th>\n",
       "      <th>recall</th>\n",
       "      <th>f1_score</th>\n",
       "    </tr>\n",
       "  </thead>\n",
       "  <tbody>\n",
       "    <tr>\n",
       "      <th>SVC</th>\n",
       "      <td>0.905556</td>\n",
       "      <td>0.906944</td>\n",
       "      <td>0.904432</td>\n",
       "      <td>0.905687</td>\n",
       "    </tr>\n",
       "    <tr>\n",
       "      <th>LSVC</th>\n",
       "      <td>0.902778</td>\n",
       "      <td>0.906425</td>\n",
       "      <td>0.898892</td>\n",
       "      <td>0.902643</td>\n",
       "    </tr>\n",
       "    <tr>\n",
       "      <th>NSVC</th>\n",
       "      <td>0.904861</td>\n",
       "      <td>0.907950</td>\n",
       "      <td>0.901662</td>\n",
       "      <td>0.904795</td>\n",
       "    </tr>\n",
       "  </tbody>\n",
       "</table>\n",
       "</div>"
      ],
      "text/plain": [
       "      accuracy  precision    recall  f1_score\n",
       "SVC   0.905556   0.906944  0.904432  0.905687\n",
       "LSVC  0.902778   0.906425  0.898892  0.902643\n",
       "NSVC  0.904861   0.907950  0.901662  0.904795"
      ]
     },
     "execution_count": 11,
     "metadata": {},
     "output_type": "execute_result"
    }
   ],
   "source": [
    "from collections import defaultdict\n",
    "scores = defaultdict(list)\n",
    "\n",
    "from sklearn.metrics import accuracy_score\n",
    "from sklearn.metrics import precision_score\n",
    "from sklearn.metrics import recall_score\n",
    "from sklearn.metrics import f1_score\n",
    "from sklearn.metrics import roc_auc_score\n",
    "\n",
    "for algo in support_vector:\n",
    "    algo.fit(X_train, y_train)\n",
    "    y_predict = algo.predict(X_test)\n",
    "\n",
    "    scores[\"accuracy\"].append(accuracy_score(y_test, y_predict))\n",
    "    scores[\"precision\"].append(precision_score(y_test, y_predict, pos_label = 'fake'))\n",
    "    scores[\"recall\"].append(recall_score(y_test, y_predict, pos_label = 'fake'))\n",
    "    scores[\"f1_score\"].append(f1_score(y_test, y_predict, pos_label = 'fake'))\n",
    "\n",
    "support_vector_df = pd.DataFrame(scores, index = support_vector_names)\n",
    "support_vector_df"
   ]
  },
  {
   "cell_type": "code",
   "execution_count": 12,
   "metadata": {},
   "outputs": [],
   "source": [
    "# from sklearn.model_selection import cross_val_score\n",
    "\n",
    "# for i, algo in enumerate(support_vector):\n",
    "#     acc = cross_val_score(algo, X_train, y_train, cv=5, scoring='accuracy')\n",
    "#     print(f\"{algo} mean accuracy: \", end = \"\")\n",
    "#     print(round(np.mean(acc), 3))"
   ]
  },
  {
   "attachments": {},
   "cell_type": "markdown",
   "metadata": {},
   "source": [
    "GaussianNB() mean accuracy: 0.732\n",
    "BernoulliNB() mean accuracy: 0.876\n",
    "MultinomialNB() mean accuracy: 0.867"
   ]
  },
  {
   "cell_type": "code",
   "execution_count": 20,
   "metadata": {},
   "outputs": [],
   "source": [
    "support_vector_df.index.name = \"Model\"\n",
    "support_vector_df.to_csv(\"results/support_vector.csv\",index=True)"
   ]
  }
 ],
 "metadata": {
  "kernelspec": {
   "display_name": "Python 3",
   "language": "python",
   "name": "python3"
  },
  "language_info": {
   "codemirror_mode": {
    "name": "ipython",
    "version": 3
   },
   "file_extension": ".py",
   "mimetype": "text/x-python",
   "name": "python",
   "nbconvert_exporter": "python",
   "pygments_lexer": "ipython3",
   "version": "3.9.13"
  },
  "orig_nbformat": 4
 },
 "nbformat": 4,
 "nbformat_minor": 2
}
