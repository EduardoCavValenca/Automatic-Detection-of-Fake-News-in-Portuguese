{
 "cells": [
  {
   "cell_type": "code",
   "execution_count": 1,
   "metadata": {},
   "outputs": [],
   "source": [
    "import pandas as pd\n",
    "import numpy as np\n",
    "import matplotlib.pyplot as plt\n",
    "import seaborn as sns\n",
    "import sklearn"
   ]
  },
  {
   "cell_type": "code",
   "execution_count": 2,
   "metadata": {},
   "outputs": [
    {
     "data": {
      "text/html": [
       "<div>\n",
       "<style scoped>\n",
       "    .dataframe tbody tr th:only-of-type {\n",
       "        vertical-align: middle;\n",
       "    }\n",
       "\n",
       "    .dataframe tbody tr th {\n",
       "        vertical-align: top;\n",
       "    }\n",
       "\n",
       "    .dataframe thead th {\n",
       "        text-align: right;\n",
       "    }\n",
       "</style>\n",
       "<table border=\"1\" class=\"dataframe\">\n",
       "  <thead>\n",
       "    <tr style=\"text-align: right;\">\n",
       "      <th></th>\n",
       "      <th>text</th>\n",
       "      <th>label</th>\n",
       "    </tr>\n",
       "  </thead>\n",
       "  <tbody>\n",
       "    <tr>\n",
       "      <th>0</th>\n",
       "      <td>katia abreu diz vai colocar expulsao moldura n...</td>\n",
       "      <td>fake</td>\n",
       "    </tr>\n",
       "    <tr>\n",
       "      <th>1</th>\n",
       "      <td>ray peita bolsonaro conservador fake entrevist...</td>\n",
       "      <td>fake</td>\n",
       "    </tr>\n",
       "    <tr>\n",
       "      <th>2</th>\n",
       "      <td>reinaldo azevedo desmascarado policia federal ...</td>\n",
       "      <td>fake</td>\n",
       "    </tr>\n",
       "    <tr>\n",
       "      <th>3</th>\n",
       "      <td>relatorio assustador bndes mostra dinheiro pub...</td>\n",
       "      <td>fake</td>\n",
       "    </tr>\n",
       "    <tr>\n",
       "      <th>4</th>\n",
       "      <td>radialista americano fala sobre pt vendem ilus...</td>\n",
       "      <td>fake</td>\n",
       "    </tr>\n",
       "    <tr>\n",
       "      <th>...</th>\n",
       "      <td>...</td>\n",
       "      <td>...</td>\n",
       "    </tr>\n",
       "    <tr>\n",
       "      <th>7195</th>\n",
       "      <td>jornal britanico acao contra lula lava jato se...</td>\n",
       "      <td>true</td>\n",
       "    </tr>\n",
       "    <tr>\n",
       "      <th>7196</th>\n",
       "      <td>temer diz acionou pf cade investigar aumentos ...</td>\n",
       "      <td>true</td>\n",
       "    </tr>\n",
       "    <tr>\n",
       "      <th>7197</th>\n",
       "      <td>obstaculos politicos temer especialistas ouvid...</td>\n",
       "      <td>true</td>\n",
       "    </tr>\n",
       "    <tr>\n",
       "      <th>7198</th>\n",
       "      <td>setembro boa noite aqui estao principais notic...</td>\n",
       "      <td>true</td>\n",
       "    </tr>\n",
       "    <tr>\n",
       "      <th>7199</th>\n",
       "      <td>envolvo politica diz brasileiro preso venezuel...</td>\n",
       "      <td>true</td>\n",
       "    </tr>\n",
       "  </tbody>\n",
       "</table>\n",
       "<p>7200 rows × 2 columns</p>\n",
       "</div>"
      ],
      "text/plain": [
       "                                                   text label\n",
       "0     katia abreu diz vai colocar expulsao moldura n...  fake\n",
       "1     ray peita bolsonaro conservador fake entrevist...  fake\n",
       "2     reinaldo azevedo desmascarado policia federal ...  fake\n",
       "3     relatorio assustador bndes mostra dinheiro pub...  fake\n",
       "4     radialista americano fala sobre pt vendem ilus...  fake\n",
       "...                                                 ...   ...\n",
       "7195  jornal britanico acao contra lula lava jato se...  true\n",
       "7196  temer diz acionou pf cade investigar aumentos ...  true\n",
       "7197  obstaculos politicos temer especialistas ouvid...  true\n",
       "7198  setembro boa noite aqui estao principais notic...  true\n",
       "7199  envolvo politica diz brasileiro preso venezuel...  true\n",
       "\n",
       "[7200 rows x 2 columns]"
      ]
     },
     "execution_count": 2,
     "metadata": {},
     "output_type": "execute_result"
    }
   ],
   "source": [
    "import os\n",
    "\n",
    "pre_file_path = os.path.join('preprocessed', 'pre-processed.csv')\n",
    "pre_df = pd.read_csv(pre_file_path, index_col= 0)\n",
    "pre_df.index.name = None\n",
    "pre_df = pre_df.rename(columns={\"preprocessed_news\": \"text\"})\n",
    "pre_df = pre_df[[\"text\",\"label\"]]\n",
    "pre_df"
   ]
  },
  {
   "cell_type": "code",
   "execution_count": 3,
   "metadata": {},
   "outputs": [],
   "source": [
    "from sklearn.model_selection import train_test_split\n",
    "\n",
    "\n",
    "X_train, X_test, y_train, y_test = train_test_split(pre_df[\"text\"], pre_df[\"label\"], shuffle= True, test_size=0.2)"
   ]
  },
  {
   "cell_type": "code",
   "execution_count": 14,
   "metadata": {},
   "outputs": [],
   "source": [
    "from sklearn.feature_extraction.text import CountVectorizer\n",
    "\n",
    "bag_of_words = CountVectorizer()\n",
    "bag_of_words.fit(X_train)"
   ]
  },
  {
   "cell_type": "code",
   "execution_count": 5,
   "metadata": {},
   "outputs": [
    {
     "data": {
      "text/plain": [
       "[('reformas', 58571),\n",
       " ('privatizacoes', 55217),\n",
       " ('devem', 22332),\n",
       " ('ser', 63187),\n",
       " ('feitas', 30451),\n",
       " ('ja', 39918),\n",
       " ('ano', 4076),\n",
       " ('governo', 33804),\n",
       " ('diz', 23523),\n",
       " ('arida', 5492)]"
      ]
     },
     "execution_count": 5,
     "metadata": {},
     "output_type": "execute_result"
    }
   ],
   "source": [
    "list(bag_of_words.vocabulary_.items())[:10]"
   ]
  },
  {
   "cell_type": "code",
   "execution_count": 6,
   "metadata": {},
   "outputs": [],
   "source": [
    "X_train = bag_of_words.transform(X_train).toarray()\n",
    "X_test = bag_of_words.transform(X_test).toarray()"
   ]
  },
  {
   "cell_type": "code",
   "execution_count": 7,
   "metadata": {},
   "outputs": [],
   "source": [
    "from sklearn.naive_bayes import GaussianNB\n",
    "from sklearn.naive_bayes import BernoulliNB\n",
    "from sklearn.naive_bayes import MultinomialNB\n",
    "\n",
    "GNB = GaussianNB()\n",
    "BNB = BernoulliNB()\n",
    "MNB = MultinomialNB()\n",
    "\n",
    "\n",
    "naive_bayes = [GNB, BNB, MNB]\n",
    "naive_bayes_names = [\"GNB\", \"BNB\", \"MNB\"]"
   ]
  },
  {
   "cell_type": "code",
   "execution_count": 8,
   "metadata": {},
   "outputs": [
    {
     "name": "stdout",
     "output_type": "stream",
     "text": [
      "GaussianNB() mean accuracy: 0.617\n",
      "BernoulliNB() mean accuracy: 0.915\n",
      "MultinomialNB() mean accuracy: 0.826\n"
     ]
    }
   ],
   "source": [
    "from sklearn.model_selection import cross_val_score\n",
    "\n",
    "for i, algo in enumerate(naive_bayes):\n",
    "    acc = cross_val_score(algo, X_train, y_train, cv=5, scoring='accuracy')\n",
    "    print(f\"{algo} mean accuracy: \", end = \"\")\n",
    "    print(round(np.mean(acc), 3))"
   ]
  },
  {
   "cell_type": "code",
   "execution_count": 9,
   "metadata": {},
   "outputs": [
    {
     "data": {
      "text/html": [
       "<div>\n",
       "<style scoped>\n",
       "    .dataframe tbody tr th:only-of-type {\n",
       "        vertical-align: middle;\n",
       "    }\n",
       "\n",
       "    .dataframe tbody tr th {\n",
       "        vertical-align: top;\n",
       "    }\n",
       "\n",
       "    .dataframe thead th {\n",
       "        text-align: right;\n",
       "    }\n",
       "</style>\n",
       "<table border=\"1\" class=\"dataframe\">\n",
       "  <thead>\n",
       "    <tr style=\"text-align: right;\">\n",
       "      <th></th>\n",
       "      <th>accuracy</th>\n",
       "      <th>precision</th>\n",
       "      <th>recall</th>\n",
       "      <th>f1_score</th>\n",
       "    </tr>\n",
       "  </thead>\n",
       "  <tbody>\n",
       "    <tr>\n",
       "      <th>GNB</th>\n",
       "      <td>0.606250</td>\n",
       "      <td>0.953757</td>\n",
       "      <td>0.227901</td>\n",
       "      <td>0.367893</td>\n",
       "    </tr>\n",
       "    <tr>\n",
       "      <th>BNB</th>\n",
       "      <td>0.915972</td>\n",
       "      <td>0.869033</td>\n",
       "      <td>0.980663</td>\n",
       "      <td>0.921480</td>\n",
       "    </tr>\n",
       "    <tr>\n",
       "      <th>MNB</th>\n",
       "      <td>0.818056</td>\n",
       "      <td>0.962000</td>\n",
       "      <td>0.664365</td>\n",
       "      <td>0.785948</td>\n",
       "    </tr>\n",
       "  </tbody>\n",
       "</table>\n",
       "</div>"
      ],
      "text/plain": [
       "     accuracy  precision    recall  f1_score\n",
       "GNB  0.606250   0.953757  0.227901  0.367893\n",
       "BNB  0.915972   0.869033  0.980663  0.921480\n",
       "MNB  0.818056   0.962000  0.664365  0.785948"
      ]
     },
     "execution_count": 9,
     "metadata": {},
     "output_type": "execute_result"
    }
   ],
   "source": [
    "from collections import defaultdict\n",
    "scores = defaultdict(list)\n",
    "\n",
    "from sklearn.metrics import accuracy_score\n",
    "from sklearn.metrics import precision_score\n",
    "from sklearn.metrics import recall_score\n",
    "from sklearn.metrics import f1_score\n",
    "\n",
    "for algo in naive_bayes:\n",
    "    algo.fit(X_train, y_train)\n",
    "    y_predict = algo.predict(X_test)\n",
    "\n",
    "    scores[\"accuracy\"].append(accuracy_score(y_test, y_predict))\n",
    "    scores[\"precision\"].append(precision_score(y_test, y_predict, pos_label = 'fake'))\n",
    "    scores[\"recall\"].append(recall_score(y_test, y_predict, pos_label = 'fake'))\n",
    "    scores[\"f1_score\"].append(f1_score(y_test, y_predict, pos_label = 'fake'))\n",
    "\n",
    "naive_results_df = pd.DataFrame(scores, index = naive_bayes_names)\n",
    "naive_results_df"
   ]
  },
  {
   "cell_type": "code",
   "execution_count": 10,
   "metadata": {},
   "outputs": [],
   "source": [
    "# from sklearn.model_selection import GridSearchCV\n",
    "\n",
    "# num_target_classes = 2\n",
    "\n",
    "# params = {'alpha': [0.01, 0.1, 0.5, 1.0, 10.0],\n",
    "#           'fit_prior': [True, False],\n",
    "#           'class_prior': [None, [0.1,]* num_target_classes, ],\n",
    "#           'binarize': [None, 0.0, 8.5, 10.0]\n",
    "#          }\n",
    "\n",
    "# bernoulli_nb_grid = GridSearchCV(BernoulliNB(), param_grid=params, n_jobs=-1, cv=5)\n",
    "# bernoulli_nb_grid.fit(X_train,y_train)\n",
    "# bernoulli_nb_grid.best_params_"
   ]
  },
  {
   "cell_type": "code",
   "execution_count": 11,
   "metadata": {},
   "outputs": [],
   "source": [
    "# best_acc_model_param = bernoulli_nb_grid.best_params_\n",
    "best_bernoulli_param = {'alpha': 0.01, 'binarize': 0.0, 'class_prior': None, 'fit_prior': True}\n",
    "best_bernoulli = BernoulliNB(**best_bernoulli_param)\n",
    "\n",
    "#{'alpha': 0.01, 'binarize': 0.0, 'class_prior': None, 'fit_prior': True}"
   ]
  },
  {
   "cell_type": "code",
   "execution_count": 12,
   "metadata": {},
   "outputs": [
    {
     "data": {
      "text/html": [
       "<div>\n",
       "<style scoped>\n",
       "    .dataframe tbody tr th:only-of-type {\n",
       "        vertical-align: middle;\n",
       "    }\n",
       "\n",
       "    .dataframe tbody tr th {\n",
       "        vertical-align: top;\n",
       "    }\n",
       "\n",
       "    .dataframe thead th {\n",
       "        text-align: right;\n",
       "    }\n",
       "</style>\n",
       "<table border=\"1\" class=\"dataframe\">\n",
       "  <thead>\n",
       "    <tr style=\"text-align: right;\">\n",
       "      <th></th>\n",
       "      <th>accuracy</th>\n",
       "      <th>precision</th>\n",
       "      <th>recall</th>\n",
       "      <th>f1_score</th>\n",
       "    </tr>\n",
       "  </thead>\n",
       "  <tbody>\n",
       "    <tr>\n",
       "      <th>GNB</th>\n",
       "      <td>0.606250</td>\n",
       "      <td>0.953757</td>\n",
       "      <td>0.227901</td>\n",
       "      <td>0.367893</td>\n",
       "    </tr>\n",
       "    <tr>\n",
       "      <th>BNB</th>\n",
       "      <td>0.915972</td>\n",
       "      <td>0.869033</td>\n",
       "      <td>0.980663</td>\n",
       "      <td>0.921480</td>\n",
       "    </tr>\n",
       "    <tr>\n",
       "      <th>MNB</th>\n",
       "      <td>0.818056</td>\n",
       "      <td>0.962000</td>\n",
       "      <td>0.664365</td>\n",
       "      <td>0.785948</td>\n",
       "    </tr>\n",
       "    <tr>\n",
       "      <th>Tuned BNB</th>\n",
       "      <td>0.935417</td>\n",
       "      <td>0.909209</td>\n",
       "      <td>0.968232</td>\n",
       "      <td>0.937793</td>\n",
       "    </tr>\n",
       "  </tbody>\n",
       "</table>\n",
       "</div>"
      ],
      "text/plain": [
       "           accuracy  precision    recall  f1_score\n",
       "GNB        0.606250   0.953757  0.227901  0.367893\n",
       "BNB        0.915972   0.869033  0.980663  0.921480\n",
       "MNB        0.818056   0.962000  0.664365  0.785948\n",
       "Tuned BNB  0.935417   0.909209  0.968232  0.937793"
      ]
     },
     "execution_count": 12,
     "metadata": {},
     "output_type": "execute_result"
    }
   ],
   "source": [
    "best_bernoulli.fit(X_train, y_train)\n",
    "y_predict = best_bernoulli.predict(X_test)\n",
    "\n",
    "acc = accuracy_score(y_test, y_predict)\n",
    "prec = precision_score(y_test, y_predict, pos_label = 'fake')\n",
    "recall = recall_score(y_test, y_predict, pos_label = 'fake')\n",
    "f1 = f1_score(y_test, y_predict, pos_label = 'fake')\n",
    "\n",
    "naive_results_df.loc[\"Tuned BNB\"] = [acc, prec, recall, f1]\n",
    "naive_results_df"
   ]
  },
  {
   "cell_type": "code",
   "execution_count": 13,
   "metadata": {},
   "outputs": [
    {
     "data": {
      "text/plain": [
       "[]"
      ]
     },
     "execution_count": 13,
     "metadata": {},
     "output_type": "execute_result"
    },
    {
     "data": {
      "image/png": "[encoded data removed]",
      "text/plain": [
       "<Figure size 640x480 with 2 Axes>"
      ]
     },
     "metadata": {},
     "output_type": "display_data"
    }
   ],
   "source": [
    "from sklearn.metrics import confusion_matrix\n",
    "\n",
    "labels = [\"fake\",\"true\"]\n",
    "s = sns.heatmap(confusion_matrix(y_test,y_predict),annot=True,fmt=\"g\", xticklabels=labels, yticklabels=labels, cmap=\"crest\")\n",
    "s.set_xlabel(\"Predicted label\")\n",
    "s.set_ylabel(\"True label\")\n",
    "s.set_title(\"Confusion matrix\")\n",
    "s.plot()"
   ]
  }
 ],
 "metadata": {
  "kernelspec": {
   "display_name": "Python 3",
   "language": "python",
   "name": "python3"
  },
  "language_info": {
   "codemirror_mode": {
    "name": "ipython",
    "version": 3
   },
   "file_extension": ".py",
   "mimetype": "text/x-python",
   "name": "python",
   "nbconvert_exporter": "python",
   "pygments_lexer": "ipython3",
   "version": "3.9.13"
  },
  "orig_nbformat": 4
 },
 "nbformat": 4,
 "nbformat_minor": 2
}
