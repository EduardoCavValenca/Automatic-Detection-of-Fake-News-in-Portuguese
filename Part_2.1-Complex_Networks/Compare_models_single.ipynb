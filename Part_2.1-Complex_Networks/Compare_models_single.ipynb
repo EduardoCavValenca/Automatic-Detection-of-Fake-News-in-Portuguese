{
 "cells": [
  {
   "cell_type": "code",
   "execution_count": 6,
   "metadata": {},
   "outputs": [
    {
     "data": {
      "text/plain": [
       "<module 'measures_common' from 'd:\\\\Projetos\\\\TCC\\\\Part_2.1-Complex_Networks\\\\measures_common.py'>"
      ]
     },
     "execution_count": 6,
     "metadata": {},
     "output_type": "execute_result"
    }
   ],
   "source": [
    "import os\n",
    "import pandas as pd\n",
    "from tqdm.notebook import tqdm\n",
    "\n",
    "import sys\n",
    "sys.path.append( '.' )\n",
    "import importlib\n",
    "\n",
    "import measures_common\n",
    "importlib.reload(measures_common)"
   ]
  },
  {
   "cell_type": "code",
   "execution_count": 7,
   "metadata": {},
   "outputs": [
    {
     "data": {
      "text/html": [
       "<div>\n",
       "<style scoped>\n",
       "    .dataframe tbody tr th:only-of-type {\n",
       "        vertical-align: middle;\n",
       "    }\n",
       "\n",
       "    .dataframe tbody tr th {\n",
       "        vertical-align: top;\n",
       "    }\n",
       "\n",
       "    .dataframe thead th {\n",
       "        text-align: right;\n",
       "    }\n",
       "</style>\n",
       "<table border=\"1\" class=\"dataframe\">\n",
       "  <thead>\n",
       "    <tr style=\"text-align: right;\">\n",
       "      <th></th>\n",
       "      <th>text</th>\n",
       "      <th>label</th>\n",
       "      <th>betweenness</th>\n",
       "      <th>closeness</th>\n",
       "      <th>eigenvector</th>\n",
       "      <th>katz</th>\n",
       "      <th>pagerank</th>\n",
       "      <th>hubs</th>\n",
       "      <th>authorities</th>\n",
       "      <th>clustering</th>\n",
       "      <th>average_clustering</th>\n",
       "      <th>correlation</th>\n",
       "      <th>transitivity</th>\n",
       "      <th>density</th>\n",
       "    </tr>\n",
       "  </thead>\n",
       "  <tbody>\n",
       "    <tr>\n",
       "      <th>0</th>\n",
       "      <td>autor bestseller cita 5 expressoes indicam int...</td>\n",
       "      <td>fake</td>\n",
       "      <td>0.053793</td>\n",
       "      <td>0.107789</td>\n",
       "      <td>0.054755</td>\n",
       "      <td>0.078508</td>\n",
       "      <td>0.006211</td>\n",
       "      <td>0.006211</td>\n",
       "      <td>0.006211</td>\n",
       "      <td>0.016841</td>\n",
       "      <td>0.016841</td>\n",
       "      <td>-0.041276</td>\n",
       "      <td>0.015000</td>\n",
       "      <td>0.008579</td>\n",
       "    </tr>\n",
       "    <tr>\n",
       "      <th>1</th>\n",
       "      <td>juiz df confirma indicios expresidente petista...</td>\n",
       "      <td>fake</td>\n",
       "      <td>0.194226</td>\n",
       "      <td>0.065108</td>\n",
       "      <td>0.076284</td>\n",
       "      <td>0.116096</td>\n",
       "      <td>0.013514</td>\n",
       "      <td>0.013514</td>\n",
       "      <td>0.013514</td>\n",
       "      <td>0.023574</td>\n",
       "      <td>0.023574</td>\n",
       "      <td>-0.082239</td>\n",
       "      <td>0.047619</td>\n",
       "      <td>0.015920</td>\n",
       "    </tr>\n",
       "    <tr>\n",
       "      <th>2</th>\n",
       "      <td>senhora 60 anos corre atras eduardo cunha aero...</td>\n",
       "      <td>fake</td>\n",
       "      <td>0.163834</td>\n",
       "      <td>0.137540</td>\n",
       "      <td>0.160614</td>\n",
       "      <td>0.182358</td>\n",
       "      <td>0.033333</td>\n",
       "      <td>0.033333</td>\n",
       "      <td>0.033333</td>\n",
       "      <td>0.013889</td>\n",
       "      <td>0.013889</td>\n",
       "      <td>0.010157</td>\n",
       "      <td>0.050000</td>\n",
       "      <td>0.041379</td>\n",
       "    </tr>\n",
       "  </tbody>\n",
       "</table>\n",
       "</div>"
      ],
      "text/plain": [
       "                                                text label  betweenness  \\\n",
       "0  autor bestseller cita 5 expressoes indicam int...  fake     0.053793   \n",
       "1  juiz df confirma indicios expresidente petista...  fake     0.194226   \n",
       "2  senhora 60 anos corre atras eduardo cunha aero...  fake     0.163834   \n",
       "\n",
       "   closeness  eigenvector      katz  pagerank      hubs  authorities  \\\n",
       "0   0.107789     0.054755  0.078508  0.006211  0.006211     0.006211   \n",
       "1   0.065108     0.076284  0.116096  0.013514  0.013514     0.013514   \n",
       "2   0.137540     0.160614  0.182358  0.033333  0.033333     0.033333   \n",
       "\n",
       "   clustering  average_clustering  correlation  transitivity   density  \n",
       "0    0.016841            0.016841    -0.041276      0.015000  0.008579  \n",
       "1    0.023574            0.023574    -0.082239      0.047619  0.015920  \n",
       "2    0.013889            0.013889     0.010157      0.050000  0.041379  "
      ]
     },
     "execution_count": 7,
     "metadata": {},
     "output_type": "execute_result"
    }
   ],
   "source": [
    "file_path = os.path.join('csvs', 'pre_normalized_measures.csv')\n",
    "df = pd.read_csv(file_path)\n",
    "df.head(3)"
   ]
  },
  {
   "cell_type": "code",
   "execution_count": 8,
   "metadata": {},
   "outputs": [],
   "source": [
    "#Necessary to convert the labels to 0 and 1 for OneR\n",
    "\n",
    "df['label'] = df['label'].replace({\"fake\": 0, \"true\": 1})"
   ]
  },
  {
   "cell_type": "code",
   "execution_count": 9,
   "metadata": {},
   "outputs": [],
   "source": [
    "from sklearn.naive_bayes import GaussianNB\n",
    "from sklearn.tree import DecisionTreeClassifier\n",
    "from sklearn.ensemble import RandomForestClassifier\n",
    "from sklearn.neighbors import KNeighborsClassifier\n",
    "from sklearn.svm import SVC\n",
    "from sklearn.neural_network import MLPClassifier\n",
    "from sklearn.svm import OneClassSVM\n",
    "from sklearn.cluster import KMeans\n",
    "\n",
    "from mlxtend.classifier import OneRClassifier\n",
    "\n",
    "NB = GaussianNB()\n",
    "DT = DecisionTreeClassifier()\n",
    "RF = RandomForestClassifier()\n",
    "KNN = KNeighborsClassifier()\n",
    "SVM = SVC()\n",
    "MLP = MLPClassifier(max_iter=1000)\n",
    "OneR = OneRClassifier()\n",
    "\n",
    "# KM = KMeans(n_clusters=2)\n",
    "# OC = OneClassSVM(gamma='auto')\n",
    "\n",
    "# algs = [NB, DT, RF, KNN, SVM, MLP, OC, KM, OneR]\n",
    "# algs_names = ['NB', 'DT', 'RF', 'KNN', 'SVM', 'MLP', 'OC', 'KM', 'OneR']\n",
    "\n",
    "algs = [NB, DT, RF, KNN, SVM, MLP, OneR]\n",
    "algs_names = ['NB', 'DT', 'RF', 'KNN', 'SVM', 'MLP', 'OneR']"
   ]
  },
  {
   "cell_type": "code",
   "execution_count": 10,
   "metadata": {},
   "outputs": [
    {
     "data": {
      "application/vnd.jupyter.widget-view+json": {
       "model_id": "08ff2223109548058c1091183b26e530",
       "version_major": 2,
       "version_minor": 0
      },
      "text/plain": [
       "All Algorithms:   0%|          | 0/7 [00:00<?, ?it/s]"
      ]
     },
     "metadata": {},
     "output_type": "display_data"
    },
    {
     "data": {
      "application/vnd.jupyter.widget-view+json": {
       "model_id": "c2f19162a0bb474c8c0c1942e1cb397b",
       "version_major": 2,
       "version_minor": 0
      },
      "text/plain": [
       "NB:   0%|          | 0/12 [00:00<?, ?it/s]"
      ]
     },
     "metadata": {},
     "output_type": "display_data"
    },
    {
     "data": {
      "application/vnd.jupyter.widget-view+json": {
       "model_id": "e419bc29298348feaf7c6417b8452335",
       "version_major": 2,
       "version_minor": 0
      },
      "text/plain": [
       "DT:   0%|          | 0/12 [00:00<?, ?it/s]"
      ]
     },
     "metadata": {},
     "output_type": "display_data"
    },
    {
     "data": {
      "application/vnd.jupyter.widget-view+json": {
       "model_id": "d45a642a21fc483a8e425c190e94eac2",
       "version_major": 2,
       "version_minor": 0
      },
      "text/plain": [
       "RF:   0%|          | 0/12 [00:00<?, ?it/s]"
      ]
     },
     "metadata": {},
     "output_type": "display_data"
    },
    {
     "data": {
      "application/vnd.jupyter.widget-view+json": {
       "model_id": "e6f4ef7a6dc54b09b6f9a94967c22392",
       "version_major": 2,
       "version_minor": 0
      },
      "text/plain": [
       "KNN:   0%|          | 0/12 [00:00<?, ?it/s]"
      ]
     },
     "metadata": {},
     "output_type": "display_data"
    },
    {
     "data": {
      "application/vnd.jupyter.widget-view+json": {
       "model_id": "4d7d128261a443aa90fe14f0d07a1c85",
       "version_major": 2,
       "version_minor": 0
      },
      "text/plain": [
       "SVM:   0%|          | 0/12 [00:00<?, ?it/s]"
      ]
     },
     "metadata": {},
     "output_type": "display_data"
    },
    {
     "data": {
      "application/vnd.jupyter.widget-view+json": {
       "model_id": "f2b5da6f0e6a456192d1ab6415ed0b9f",
       "version_major": 2,
       "version_minor": 0
      },
      "text/plain": [
       "MLP:   0%|          | 0/12 [00:00<?, ?it/s]"
      ]
     },
     "metadata": {},
     "output_type": "display_data"
    },
    {
     "data": {
      "application/vnd.jupyter.widget-view+json": {
       "model_id": "0f574791eef5478ab047d212c4372a80",
       "version_major": 2,
       "version_minor": 0
      },
      "text/plain": [
       "OneR:   0%|          | 0/12 [00:00<?, ?it/s]"
      ]
     },
     "metadata": {},
     "output_type": "display_data"
    }
   ],
   "source": [
    "from collections import defaultdict\n",
    "from sklearn.model_selection import cross_val_score\n",
    "\n",
    "scores = defaultdict(list)\n",
    "measures = df.columns[2:]\n",
    "\n",
    "for alg, alg_name in tqdm(zip(algs, algs_names), total=len(algs), position=0, leave=True, desc=\"All Algorithms\"):\n",
    "    for measure in tqdm(measures, total=len(measures), position=1, leave=True, desc=alg_name):\n",
    "        scores[\"measure\"].append(measure)\n",
    "        scores[\"algorithm\"].append(alg_name)\n",
    "        scores[\"accuracy\"].append(cross_val_score(alg, df[measure].values.reshape(-1, 1), df['label'], cv=5, scoring='accuracy').mean())"
   ]
  },
  {
   "cell_type": "code",
   "execution_count": 11,
   "metadata": {},
   "outputs": [
    {
     "data": {
      "text/html": [
       "<div>\n",
       "<style scoped>\n",
       "    .dataframe tbody tr th:only-of-type {\n",
       "        vertical-align: middle;\n",
       "    }\n",
       "\n",
       "    .dataframe tbody tr th {\n",
       "        vertical-align: top;\n",
       "    }\n",
       "\n",
       "    .dataframe thead th {\n",
       "        text-align: right;\n",
       "    }\n",
       "</style>\n",
       "<table border=\"1\" class=\"dataframe\">\n",
       "  <thead>\n",
       "    <tr style=\"text-align: right;\">\n",
       "      <th></th>\n",
       "      <th>measure</th>\n",
       "      <th>algorithm</th>\n",
       "      <th>accuracy</th>\n",
       "    </tr>\n",
       "  </thead>\n",
       "  <tbody>\n",
       "    <tr>\n",
       "      <th>0</th>\n",
       "      <td>betweenness</td>\n",
       "      <td>NB</td>\n",
       "      <td>0.509722</td>\n",
       "    </tr>\n",
       "    <tr>\n",
       "      <th>1</th>\n",
       "      <td>closeness</td>\n",
       "      <td>NB</td>\n",
       "      <td>0.533611</td>\n",
       "    </tr>\n",
       "    <tr>\n",
       "      <th>2</th>\n",
       "      <td>eigenvector</td>\n",
       "      <td>NB</td>\n",
       "      <td>0.507500</td>\n",
       "    </tr>\n",
       "  </tbody>\n",
       "</table>\n",
       "</div>"
      ],
      "text/plain": [
       "       measure algorithm  accuracy\n",
       "0  betweenness        NB  0.509722\n",
       "1    closeness        NB  0.533611\n",
       "2  eigenvector        NB  0.507500"
      ]
     },
     "execution_count": 11,
     "metadata": {},
     "output_type": "execute_result"
    }
   ],
   "source": [
    "df_scores = pd.DataFrame(scores)\n",
    "df_scores.head(3)"
   ]
  },
  {
   "cell_type": "code",
   "execution_count": 12,
   "metadata": {},
   "outputs": [
    {
     "data": {
      "text/html": [
       "<div>\n",
       "<style scoped>\n",
       "    .dataframe tbody tr th:only-of-type {\n",
       "        vertical-align: middle;\n",
       "    }\n",
       "\n",
       "    .dataframe tbody tr th {\n",
       "        vertical-align: top;\n",
       "    }\n",
       "\n",
       "    .dataframe thead th {\n",
       "        text-align: right;\n",
       "    }\n",
       "</style>\n",
       "<table border=\"1\" class=\"dataframe\">\n",
       "  <thead>\n",
       "    <tr style=\"text-align: right;\">\n",
       "      <th></th>\n",
       "      <th>algorithm</th>\n",
       "      <th>accuracy</th>\n",
       "    </tr>\n",
       "    <tr>\n",
       "      <th>measure</th>\n",
       "      <th></th>\n",
       "      <th></th>\n",
       "    </tr>\n",
       "  </thead>\n",
       "  <tbody>\n",
       "    <tr>\n",
       "      <th>closeness</th>\n",
       "      <td>SVM</td>\n",
       "      <td>0.542083</td>\n",
       "    </tr>\n",
       "    <tr>\n",
       "      <th>correlation</th>\n",
       "      <td>MLP</td>\n",
       "      <td>0.534167</td>\n",
       "    </tr>\n",
       "    <tr>\n",
       "      <th>transitivity</th>\n",
       "      <td>RF</td>\n",
       "      <td>0.525278</td>\n",
       "    </tr>\n",
       "    <tr>\n",
       "      <th>density</th>\n",
       "      <td>DT</td>\n",
       "      <td>0.522639</td>\n",
       "    </tr>\n",
       "    <tr>\n",
       "      <th>betweenness</th>\n",
       "      <td>MLP</td>\n",
       "      <td>0.511667</td>\n",
       "    </tr>\n",
       "    <tr>\n",
       "      <th>katz</th>\n",
       "      <td>DT</td>\n",
       "      <td>0.510278</td>\n",
       "    </tr>\n",
       "    <tr>\n",
       "      <th>authorities</th>\n",
       "      <td>SVM</td>\n",
       "      <td>0.508889</td>\n",
       "    </tr>\n",
       "    <tr>\n",
       "      <th>hubs</th>\n",
       "      <td>SVM</td>\n",
       "      <td>0.508889</td>\n",
       "    </tr>\n",
       "    <tr>\n",
       "      <th>pagerank</th>\n",
       "      <td>SVM</td>\n",
       "      <td>0.508889</td>\n",
       "    </tr>\n",
       "    <tr>\n",
       "      <th>eigenvector</th>\n",
       "      <td>SVM</td>\n",
       "      <td>0.507639</td>\n",
       "    </tr>\n",
       "    <tr>\n",
       "      <th>average_clustering</th>\n",
       "      <td>KNN</td>\n",
       "      <td>0.504306</td>\n",
       "    </tr>\n",
       "    <tr>\n",
       "      <th>clustering</th>\n",
       "      <td>KNN</td>\n",
       "      <td>0.504306</td>\n",
       "    </tr>\n",
       "  </tbody>\n",
       "</table>\n",
       "</div>"
      ],
      "text/plain": [
       "                   algorithm  accuracy\n",
       "measure                               \n",
       "closeness                SVM  0.542083\n",
       "correlation              MLP  0.534167\n",
       "transitivity              RF  0.525278\n",
       "density                   DT  0.522639\n",
       "betweenness              MLP  0.511667\n",
       "katz                      DT  0.510278\n",
       "authorities              SVM  0.508889\n",
       "hubs                     SVM  0.508889\n",
       "pagerank                 SVM  0.508889\n",
       "eigenvector              SVM  0.507639\n",
       "average_clustering       KNN  0.504306\n",
       "clustering               KNN  0.504306"
      ]
     },
     "execution_count": 12,
     "metadata": {},
     "output_type": "execute_result"
    }
   ],
   "source": [
    "df_scores.loc[df_scores.groupby([\"measure\"])[\"accuracy\"].idxmax()].set_index(\"measure\")\\\n",
    "                                                      .sort_values(by=[\"accuracy\"], ascending=[False])"
   ]
  },
  {
   "cell_type": "code",
   "execution_count": 13,
   "metadata": {},
   "outputs": [
    {
     "data": {
      "text/html": [
       "<div>\n",
       "<style scoped>\n",
       "    .dataframe tbody tr th:only-of-type {\n",
       "        vertical-align: middle;\n",
       "    }\n",
       "\n",
       "    .dataframe tbody tr th {\n",
       "        vertical-align: top;\n",
       "    }\n",
       "\n",
       "    .dataframe thead th {\n",
       "        text-align: right;\n",
       "    }\n",
       "</style>\n",
       "<table border=\"1\" class=\"dataframe\">\n",
       "  <thead>\n",
       "    <tr style=\"text-align: right;\">\n",
       "      <th></th>\n",
       "      <th>accuracy</th>\n",
       "    </tr>\n",
       "    <tr>\n",
       "      <th>algorithm</th>\n",
       "      <th></th>\n",
       "    </tr>\n",
       "  </thead>\n",
       "  <tbody>\n",
       "    <tr>\n",
       "      <th>SVM</th>\n",
       "      <td>0.511273</td>\n",
       "    </tr>\n",
       "    <tr>\n",
       "      <th>NB</th>\n",
       "      <td>0.508171</td>\n",
       "    </tr>\n",
       "    <tr>\n",
       "      <th>MLP</th>\n",
       "      <td>0.508009</td>\n",
       "    </tr>\n",
       "    <tr>\n",
       "      <th>RF</th>\n",
       "      <td>0.506400</td>\n",
       "    </tr>\n",
       "    <tr>\n",
       "      <th>DT</th>\n",
       "      <td>0.505880</td>\n",
       "    </tr>\n",
       "    <tr>\n",
       "      <th>KNN</th>\n",
       "      <td>0.504155</td>\n",
       "    </tr>\n",
       "    <tr>\n",
       "      <th>OneR</th>\n",
       "      <td>0.503542</td>\n",
       "    </tr>\n",
       "  </tbody>\n",
       "</table>\n",
       "</div>"
      ],
      "text/plain": [
       "           accuracy\n",
       "algorithm          \n",
       "SVM        0.511273\n",
       "NB         0.508171\n",
       "MLP        0.508009\n",
       "RF         0.506400\n",
       "DT         0.505880\n",
       "KNN        0.504155\n",
       "OneR       0.503542"
      ]
     },
     "execution_count": 13,
     "metadata": {},
     "output_type": "execute_result"
    }
   ],
   "source": [
    "df_scores.groupby(\"algorithm\").mean().sort_values(by=[\"accuracy\"], ascending=[False])"
   ]
  }
 ],
 "metadata": {
  "kernelspec": {
   "display_name": "Python 3",
   "language": "python",
   "name": "python3"
  },
  "language_info": {
   "codemirror_mode": {
    "name": "ipython",
    "version": 3
   },
   "file_extension": ".py",
   "mimetype": "text/x-python",
   "name": "python",
   "nbconvert_exporter": "python",
   "pygments_lexer": "ipython3",
   "version": "3.9.13"
  },
  "orig_nbformat": 4
 },
 "nbformat": 4,
 "nbformat_minor": 2
}
