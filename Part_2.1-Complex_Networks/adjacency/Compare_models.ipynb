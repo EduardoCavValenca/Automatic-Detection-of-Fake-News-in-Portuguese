{
 "cells": [
  {
   "cell_type": "code",
   "execution_count": 1,
   "metadata": {},
   "outputs": [
    {
     "data": {
      "text/plain": [
       "<module 'measures_common' from 'd:\\\\Projetos\\\\TCC\\\\Part_2.1-Complex_Networks\\\\adjacency\\\\..\\\\measures_common.py'>"
      ]
     },
     "execution_count": 1,
     "metadata": {},
     "output_type": "execute_result"
    }
   ],
   "source": [
    "import os\n",
    "import pandas as pd\n",
    "import numpy as np\n",
    "from tqdm.notebook import tqdm\n",
    "\n",
    "import sys\n",
    "sys.path.append( '../' )\n",
    "import importlib\n",
    "\n",
    "import measures_common\n",
    "importlib.reload(measures_common)"
   ]
  },
  {
   "cell_type": "code",
   "execution_count": 2,
   "metadata": {},
   "outputs": [
    {
     "data": {
      "text/html": [
       "<div>\n",
       "<style scoped>\n",
       "    .dataframe tbody tr th:only-of-type {\n",
       "        vertical-align: middle;\n",
       "    }\n",
       "\n",
       "    .dataframe tbody tr th {\n",
       "        vertical-align: top;\n",
       "    }\n",
       "\n",
       "    .dataframe thead th {\n",
       "        text-align: right;\n",
       "    }\n",
       "</style>\n",
       "<table border=\"1\" class=\"dataframe\">\n",
       "  <thead>\n",
       "    <tr style=\"text-align: right;\">\n",
       "      <th></th>\n",
       "      <th>text</th>\n",
       "      <th>label</th>\n",
       "      <th>betweenness</th>\n",
       "      <th>closeness</th>\n",
       "      <th>eigenvector</th>\n",
       "      <th>katz</th>\n",
       "      <th>pagerank</th>\n",
       "      <th>hubs</th>\n",
       "      <th>authorities</th>\n",
       "      <th>clustering</th>\n",
       "      <th>average_clustering</th>\n",
       "      <th>correlation</th>\n",
       "      <th>transitivity</th>\n",
       "      <th>density</th>\n",
       "    </tr>\n",
       "  </thead>\n",
       "  <tbody>\n",
       "    <tr>\n",
       "      <th>0</th>\n",
       "      <td>autor bestseller cita 5 expressoes indicam int...</td>\n",
       "      <td>fake</td>\n",
       "      <td>0.053793</td>\n",
       "      <td>0.107789</td>\n",
       "      <td>0.054755</td>\n",
       "      <td>0.078508</td>\n",
       "      <td>0.006211</td>\n",
       "      <td>0.006211</td>\n",
       "      <td>0.006211</td>\n",
       "      <td>0.016841</td>\n",
       "      <td>0.016841</td>\n",
       "      <td>-0.041276</td>\n",
       "      <td>0.015000</td>\n",
       "      <td>0.008579</td>\n",
       "    </tr>\n",
       "    <tr>\n",
       "      <th>1</th>\n",
       "      <td>juiz df confirma indicios expresidente petista...</td>\n",
       "      <td>fake</td>\n",
       "      <td>0.194226</td>\n",
       "      <td>0.065108</td>\n",
       "      <td>0.076284</td>\n",
       "      <td>0.116096</td>\n",
       "      <td>0.013514</td>\n",
       "      <td>0.013514</td>\n",
       "      <td>0.013514</td>\n",
       "      <td>0.023574</td>\n",
       "      <td>0.023574</td>\n",
       "      <td>-0.082239</td>\n",
       "      <td>0.047619</td>\n",
       "      <td>0.015920</td>\n",
       "    </tr>\n",
       "    <tr>\n",
       "      <th>2</th>\n",
       "      <td>senhora 60 anos corre atras eduardo cunha aero...</td>\n",
       "      <td>fake</td>\n",
       "      <td>0.163834</td>\n",
       "      <td>0.137540</td>\n",
       "      <td>0.160614</td>\n",
       "      <td>0.182358</td>\n",
       "      <td>0.033333</td>\n",
       "      <td>0.033333</td>\n",
       "      <td>0.033333</td>\n",
       "      <td>0.013889</td>\n",
       "      <td>0.013889</td>\n",
       "      <td>0.010157</td>\n",
       "      <td>0.050000</td>\n",
       "      <td>0.041379</td>\n",
       "    </tr>\n",
       "  </tbody>\n",
       "</table>\n",
       "</div>"
      ],
      "text/plain": [
       "                                                text label  betweenness  \\\n",
       "0  autor bestseller cita 5 expressoes indicam int...  fake     0.053793   \n",
       "1  juiz df confirma indicios expresidente petista...  fake     0.194226   \n",
       "2  senhora 60 anos corre atras eduardo cunha aero...  fake     0.163834   \n",
       "\n",
       "   closeness  eigenvector      katz  pagerank      hubs  authorities  \\\n",
       "0   0.107789     0.054755  0.078508  0.006211  0.006211     0.006211   \n",
       "1   0.065108     0.076284  0.116096  0.013514  0.013514     0.013514   \n",
       "2   0.137540     0.160614  0.182358  0.033333  0.033333     0.033333   \n",
       "\n",
       "   clustering  average_clustering  correlation  transitivity   density  \n",
       "0    0.016841            0.016841    -0.041276      0.015000  0.008579  \n",
       "1    0.023574            0.023574    -0.082239      0.047619  0.015920  \n",
       "2    0.013889            0.013889     0.010157      0.050000  0.041379  "
      ]
     },
     "execution_count": 2,
     "metadata": {},
     "output_type": "execute_result"
    }
   ],
   "source": [
    "file_path_with_stopwords = os.path.join('..', 'csvs', 'pre_normalized_with_stopwords_measures.csv')\n",
    "file_path_without_stopwords = os.path.join('..', 'csvs', 'pre_normalized_measures.csv')\n",
    "\n",
    "df_with_stopwords = pd.read_csv(file_path_with_stopwords)\n",
    "df_without_stopwords = pd.read_csv(file_path_without_stopwords)\n",
    "\n",
    "df_with_stopwords.head(3)"
   ]
  },
  {
   "cell_type": "code",
   "execution_count": 3,
   "metadata": {},
   "outputs": [],
   "source": [
    "from sklearn.naive_bayes import GaussianNB\n",
    "from sklearn.tree import DecisionTreeClassifier\n",
    "from sklearn.ensemble import RandomForestClassifier\n",
    "from sklearn.neighbors import KNeighborsClassifier\n",
    "from sklearn.svm import SVC\n",
    "from sklearn.neural_network import MLPClassifier\n",
    "\n",
    "NB = GaussianNB()\n",
    "DT = DecisionTreeClassifier()\n",
    "RF = RandomForestClassifier()\n",
    "KNN = KNeighborsClassifier()\n",
    "SVM = SVC()\n",
    "MLP = MLPClassifier(max_iter=1000)\n",
    "\n",
    "algs = [NB, DT, RF, KNN, SVM, MLP]\n",
    "algs_names = ['NB', 'DT', 'RF', 'KNN', 'SVM', 'MLP']"
   ]
  },
  {
   "cell_type": "code",
   "execution_count": 4,
   "metadata": {},
   "outputs": [
    {
     "data": {
      "application/vnd.jupyter.widget-view+json": {
       "model_id": "3434ffc7851f4208b008df61391e03bc",
       "version_major": 2,
       "version_minor": 0
      },
      "text/plain": [
       "Single measure:   0%|          | 0/6 [00:00<?, ?it/s]"
      ]
     },
     "metadata": {},
     "output_type": "display_data"
    },
    {
     "data": {
      "application/vnd.jupyter.widget-view+json": {
       "model_id": "4ab434dcb49844819797585c51bde2ca",
       "version_major": 2,
       "version_minor": 0
      },
      "text/plain": [
       "NB:   0%|          | 0/12 [00:00<?, ?it/s]"
      ]
     },
     "metadata": {},
     "output_type": "display_data"
    },
    {
     "data": {
      "application/vnd.jupyter.widget-view+json": {
       "model_id": "09085b8e9b864a8cbb6f9d0add88550b",
       "version_major": 2,
       "version_minor": 0
      },
      "text/plain": [
       "DT:   0%|          | 0/12 [00:00<?, ?it/s]"
      ]
     },
     "metadata": {},
     "output_type": "display_data"
    },
    {
     "data": {
      "application/vnd.jupyter.widget-view+json": {
       "model_id": "b239eb24cc714b03b43d0c53c46d190b",
       "version_major": 2,
       "version_minor": 0
      },
      "text/plain": [
       "RF:   0%|          | 0/12 [00:00<?, ?it/s]"
      ]
     },
     "metadata": {},
     "output_type": "display_data"
    },
    {
     "data": {
      "application/vnd.jupyter.widget-view+json": {
       "model_id": "f6285487ab384331a38e121b53cff570",
       "version_major": 2,
       "version_minor": 0
      },
      "text/plain": [
       "KNN:   0%|          | 0/12 [00:00<?, ?it/s]"
      ]
     },
     "metadata": {},
     "output_type": "display_data"
    },
    {
     "data": {
      "application/vnd.jupyter.widget-view+json": {
       "model_id": "13b6742296844e8db57a071211d55bb7",
       "version_major": 2,
       "version_minor": 0
      },
      "text/plain": [
       "SVM:   0%|          | 0/12 [00:00<?, ?it/s]"
      ]
     },
     "metadata": {},
     "output_type": "display_data"
    },
    {
     "data": {
      "application/vnd.jupyter.widget-view+json": {
       "model_id": "bc7a7b33b855435aa23ede7015f9a946",
       "version_major": 2,
       "version_minor": 0
      },
      "text/plain": [
       "MLP:   0%|          | 0/12 [00:00<?, ?it/s]"
      ]
     },
     "metadata": {},
     "output_type": "display_data"
    }
   ],
   "source": [
    "from collections import defaultdict\n",
    "from sklearn.model_selection import cross_val_score\n",
    "\n",
    "scores_single_with_stopwords = defaultdict(list)\n",
    "scores_single_without_stopwords = defaultdict(list)\n",
    "measures = df_with_stopwords.columns[2:]\n",
    "\n",
    "for alg, alg_name in tqdm(zip(algs, algs_names), total=len(algs), position=0, leave=True, desc=\"Single measure\"):\n",
    "    for measure in tqdm(measures, total=len(measures), position=1, leave=True, desc=alg_name):\n",
    "        scores_single_with_stopwords[\"measure\"].append(measure)\n",
    "        scores_single_with_stopwords[\"algorithm\"].append(alg_name)\n",
    "        scores_single_with_stopwords[\"accuracy\"].append(cross_val_score(alg, df_with_stopwords[measure].values.reshape(-1, 1), df_with_stopwords['label'], cv=5, scoring='accuracy').mean())\n",
    "\n",
    "        scores_single_without_stopwords[\"measure\"].append(measure)\n",
    "        scores_single_without_stopwords[\"algorithm\"].append(alg_name)\n",
    "        scores_single_without_stopwords[\"accuracy\"].append(cross_val_score(alg, df_without_stopwords[measure].values.reshape(-1, 1), df_without_stopwords['label'], cv=5, scoring='accuracy').mean())"
   ]
  },
  {
   "cell_type": "code",
   "execution_count": 5,
   "metadata": {},
   "outputs": [],
   "source": [
    "df_single_with_stopwords = pd.DataFrame(scores_single_with_stopwords)\n",
    "df_single_without_stopwords = pd.DataFrame(scores_single_without_stopwords)\n",
    "\n",
    "df_single = pd.merge(df_single_with_stopwords, df_single_without_stopwords, on=['measure', 'algorithm'], suffixes=('_with_stopwords', '_without_stopwords')) \n",
    "df_single = df_single.set_index(['measure', 'algorithm'])\n",
    "\n",
    "cols = pd.MultiIndex.from_product([[\"with stopwords\",\"without stopwords\"], ['accuracy']])\n",
    "df_single = pd.DataFrame(df_single[[\"accuracy_with_stopwords\", \"accuracy_without_stopwords\"]].values, columns=cols, index=df_single.index)\n",
    "df_single = df_single.sort_values(by=('with stopwords', 'accuracy'), ascending=False)"
   ]
  },
  {
   "cell_type": "code",
   "execution_count": 7,
   "metadata": {},
   "outputs": [],
   "source": [
    "save_path = os.path.join('..', 'results', 'compare_models_single_adjacency.csv')\n",
    "\n",
    "df_single = df_single.reset_index(col_level=1)\n",
    "\n",
    "df_single.to_csv(save_path, index=False)"
   ]
  },
  {
   "cell_type": "code",
   "execution_count": 5,
   "metadata": {},
   "outputs": [
    {
     "data": {
      "application/vnd.jupyter.widget-view+json": {
       "model_id": "c405fe4e1abc435eacba6b2eeeacd096",
       "version_major": 2,
       "version_minor": 0
      },
      "text/plain": [
       "All measures:   0%|          | 0/6 [00:00<?, ?it/s]"
      ]
     },
     "metadata": {},
     "output_type": "display_data"
    }
   ],
   "source": [
    "from collections import defaultdict\n",
    "from sklearn.model_selection import cross_val_score\n",
    "\n",
    "scores_all_with_stopwords = defaultdict(list)\n",
    "scores_all_without_stopwords = defaultdict(list)\n",
    "measures = df_with_stopwords.columns[2:]\n",
    "\n",
    "for alg, alg_name in tqdm(zip(algs, algs_names), total=len(algs), position=0, leave=True, desc=\"All measures\"):\n",
    "    scores_all_with_stopwords[\"algorithm\"].append(alg_name)\n",
    "    scores_all_with_stopwords[\"accuracy\"].append(cross_val_score(alg, df_with_stopwords[measures], df_with_stopwords['label'], cv=5, scoring='accuracy').mean())\n",
    "\n",
    "    scores_all_without_stopwords[\"algorithm\"].append(alg_name)\n",
    "    scores_all_without_stopwords[\"accuracy\"].append(cross_val_score(alg, df_without_stopwords[measures], df_without_stopwords['label'], cv=5, scoring='accuracy').mean())"
   ]
  },
  {
   "cell_type": "code",
   "execution_count": 34,
   "metadata": {},
   "outputs": [
    {
     "data": {
      "text/html": [
       "<style type=\"text/css\">\n",
       "#T_49437_row0_col0, #T_49437_row0_col1 {\n",
       "  color: lightgreen;\n",
       "}\n",
       "</style>\n",
       "<table id=\"T_49437\">\n",
       "  <thead>\n",
       "    <tr>\n",
       "      <th class=\"blank level0\" >&nbsp;</th>\n",
       "      <th id=\"T_49437_level0_col0\" class=\"col_heading level0 col0\" >with stopwords</th>\n",
       "      <th id=\"T_49437_level0_col1\" class=\"col_heading level0 col1\" >without stopwords</th>\n",
       "    </tr>\n",
       "    <tr>\n",
       "      <th class=\"blank level1\" >&nbsp;</th>\n",
       "      <th id=\"T_49437_level1_col0\" class=\"col_heading level1 col0\" >accuracy</th>\n",
       "      <th id=\"T_49437_level1_col1\" class=\"col_heading level1 col1\" >accuracy</th>\n",
       "    </tr>\n",
       "    <tr>\n",
       "      <th class=\"index_name level0\" >algorithm</th>\n",
       "      <th class=\"blank col0\" >&nbsp;</th>\n",
       "      <th class=\"blank col1\" >&nbsp;</th>\n",
       "    </tr>\n",
       "  </thead>\n",
       "  <tbody>\n",
       "    <tr>\n",
       "      <th id=\"T_49437_level0_row0\" class=\"row_heading level0 row0\" >MLP</th>\n",
       "      <td id=\"T_49437_row0_col0\" class=\"data row0 col0\" >58.62%</td>\n",
       "      <td id=\"T_49437_row0_col1\" class=\"data row0 col1\" >58.69%</td>\n",
       "    </tr>\n",
       "    <tr>\n",
       "      <th id=\"T_49437_level0_row1\" class=\"row_heading level0 row1\" >SVM</th>\n",
       "      <td id=\"T_49437_row1_col0\" class=\"data row1 col0\" >57.31%</td>\n",
       "      <td id=\"T_49437_row1_col1\" class=\"data row1 col1\" >57.35%</td>\n",
       "    </tr>\n",
       "    <tr>\n",
       "      <th id=\"T_49437_level0_row2\" class=\"row_heading level0 row2\" >RF</th>\n",
       "      <td id=\"T_49437_row2_col0\" class=\"data row2 col0\" >56.69%</td>\n",
       "      <td id=\"T_49437_row2_col1\" class=\"data row2 col1\" >57.07%</td>\n",
       "    </tr>\n",
       "    <tr>\n",
       "      <th id=\"T_49437_level0_row3\" class=\"row_heading level0 row3\" >NB</th>\n",
       "      <td id=\"T_49437_row3_col0\" class=\"data row3 col0\" >55.11%</td>\n",
       "      <td id=\"T_49437_row3_col1\" class=\"data row3 col1\" >55.12%</td>\n",
       "    </tr>\n",
       "    <tr>\n",
       "      <th id=\"T_49437_level0_row4\" class=\"row_heading level0 row4\" >KNN</th>\n",
       "      <td id=\"T_49437_row4_col0\" class=\"data row4 col0\" >54.40%</td>\n",
       "      <td id=\"T_49437_row4_col1\" class=\"data row4 col1\" >54.37%</td>\n",
       "    </tr>\n",
       "    <tr>\n",
       "      <th id=\"T_49437_level0_row5\" class=\"row_heading level0 row5\" >DT</th>\n",
       "      <td id=\"T_49437_row5_col0\" class=\"data row5 col0\" >53.00%</td>\n",
       "      <td id=\"T_49437_row5_col1\" class=\"data row5 col1\" >53.07%</td>\n",
       "    </tr>\n",
       "  </tbody>\n",
       "</table>\n"
      ],
      "text/plain": [
       "<pandas.io.formats.style.Styler at 0x16c226170a0>"
      ]
     },
     "execution_count": 34,
     "metadata": {},
     "output_type": "execute_result"
    }
   ],
   "source": [
    "df_all_with_stopwords = pd.DataFrame(scores_all_with_stopwords)\n",
    "df_all_without_stopwords = pd.DataFrame(scores_all_without_stopwords)\n",
    "\n",
    "df_all = pd.merge(df_all_with_stopwords, df_all_without_stopwords, on='algorithm', suffixes=('_with_stopwords', '_without_stopwords'))\n",
    "df_all = df_all.set_index('algorithm')\n",
    "\n",
    "cols = pd.MultiIndex.from_product([[\"with stopwords\",\"without stopwords\"], ['accuracy']])\n",
    "df_all = pd.DataFrame(df_all[[\"accuracy_with_stopwords\", \"accuracy_without_stopwords\"]].values, columns=cols, index=df_all.index)\n",
    "df_all = df_all.sort_values(by=('with stopwords', 'accuracy'), ascending=False)"
   ]
  },
  {
   "cell_type": "code",
   "execution_count": 75,
   "metadata": {},
   "outputs": [],
   "source": [
    "read_path = os.path.join('..', 'results', 'compare_models_single_adjacency.csv')\n",
    "df_single = pd.read_csv(read_path, header=[0,1], index_col=[0,1])\n",
    "df_single.index.names = ['measure', 'algorithm']\n",
    "df_single = pd.DataFrame(df_single.values, columns=pd.MultiIndex.from_product([[\"with stopwords\",\"without stopwords\"], ['accuracy']]), index=df_single.index)"
   ]
  },
  {
   "cell_type": "code",
   "execution_count": 78,
   "metadata": {},
   "outputs": [
    {
     "data": {
      "text/html": [
       "<style type=\"text/css\">\n",
       "#T_494d7_row3_col0, #T_494d7_row3_col1 {\n",
       "  color: lightgreen;\n",
       "}\n",
       "</style>\n",
       "<table id=\"T_494d7\">\n",
       "  <thead>\n",
       "    <tr>\n",
       "      <th class=\"blank\" >&nbsp;</th>\n",
       "      <th class=\"blank level0\" >&nbsp;</th>\n",
       "      <th id=\"T_494d7_level0_col0\" class=\"col_heading level0 col0\" >with stopwords</th>\n",
       "      <th id=\"T_494d7_level0_col1\" class=\"col_heading level0 col1\" >without stopwords</th>\n",
       "    </tr>\n",
       "    <tr>\n",
       "      <th class=\"blank\" >&nbsp;</th>\n",
       "      <th class=\"blank level1\" >&nbsp;</th>\n",
       "      <th id=\"T_494d7_level1_col0\" class=\"col_heading level1 col0\" >accuracy</th>\n",
       "      <th id=\"T_494d7_level1_col1\" class=\"col_heading level1 col1\" >accuracy</th>\n",
       "    </tr>\n",
       "    <tr>\n",
       "      <th class=\"index_name level0\" >measure</th>\n",
       "      <th class=\"index_name level1\" >algorithm</th>\n",
       "      <th class=\"blank col0\" >&nbsp;</th>\n",
       "      <th class=\"blank col1\" >&nbsp;</th>\n",
       "    </tr>\n",
       "  </thead>\n",
       "  <tbody>\n",
       "    <tr>\n",
       "      <th id=\"T_494d7_level0_row0\" class=\"row_heading level0 row0\" >authorities</th>\n",
       "      <th id=\"T_494d7_level1_row0\" class=\"row_heading level1 row0\" >SVM</th>\n",
       "      <td id=\"T_494d7_row0_col0\" class=\"data row0 col0\" >0.508889</td>\n",
       "      <td id=\"T_494d7_row0_col1\" class=\"data row0 col1\" >0.508889</td>\n",
       "    </tr>\n",
       "    <tr>\n",
       "      <th id=\"T_494d7_level0_row1\" class=\"row_heading level0 row1\" >average_clustering</th>\n",
       "      <th id=\"T_494d7_level1_row1\" class=\"row_heading level1 row1\" >KNN</th>\n",
       "      <td id=\"T_494d7_row1_col0\" class=\"data row1 col0\" >0.504306</td>\n",
       "      <td id=\"T_494d7_row1_col1\" class=\"data row1 col1\" >0.504306</td>\n",
       "    </tr>\n",
       "    <tr>\n",
       "      <th id=\"T_494d7_level0_row2\" class=\"row_heading level0 row2\" >betweenness</th>\n",
       "      <th id=\"T_494d7_level1_row2\" class=\"row_heading level1 row2\" >NB</th>\n",
       "      <td id=\"T_494d7_row2_col0\" class=\"data row2 col0\" >0.509722</td>\n",
       "      <td id=\"T_494d7_row2_col1\" class=\"data row2 col1\" >0.509722</td>\n",
       "    </tr>\n",
       "    <tr>\n",
       "      <th id=\"T_494d7_level0_row3\" class=\"row_heading level0 row3\" >closeness</th>\n",
       "      <th id=\"T_494d7_level1_row3\" class=\"row_heading level1 row3\" >SVM</th>\n",
       "      <td id=\"T_494d7_row3_col0\" class=\"data row3 col0\" >0.542083</td>\n",
       "      <td id=\"T_494d7_row3_col1\" class=\"data row3 col1\" >0.542083</td>\n",
       "    </tr>\n",
       "    <tr>\n",
       "      <th id=\"T_494d7_level0_row4\" class=\"row_heading level0 row4\" >clustering</th>\n",
       "      <th id=\"T_494d7_level1_row4\" class=\"row_heading level1 row4\" >KNN</th>\n",
       "      <td id=\"T_494d7_row4_col0\" class=\"data row4 col0\" >0.504306</td>\n",
       "      <td id=\"T_494d7_row4_col1\" class=\"data row4 col1\" >0.504306</td>\n",
       "    </tr>\n",
       "    <tr>\n",
       "      <th id=\"T_494d7_level0_row5\" class=\"row_heading level0 row5\" >correlation</th>\n",
       "      <th id=\"T_494d7_level1_row5\" class=\"row_heading level1 row5\" >MLP</th>\n",
       "      <td id=\"T_494d7_row5_col0\" class=\"data row5 col0\" >0.532778</td>\n",
       "      <td id=\"T_494d7_row5_col1\" class=\"data row5 col1\" >0.533889</td>\n",
       "    </tr>\n",
       "    <tr>\n",
       "      <th id=\"T_494d7_level0_row6\" class=\"row_heading level0 row6\" >density</th>\n",
       "      <th id=\"T_494d7_level1_row6\" class=\"row_heading level1 row6\" >RF</th>\n",
       "      <td id=\"T_494d7_row6_col0\" class=\"data row6 col0\" >0.522639</td>\n",
       "      <td id=\"T_494d7_row6_col1\" class=\"data row6 col1\" >0.524306</td>\n",
       "    </tr>\n",
       "    <tr>\n",
       "      <th id=\"T_494d7_level0_row7\" class=\"row_heading level0 row7\" >eigenvector</th>\n",
       "      <th id=\"T_494d7_level1_row7\" class=\"row_heading level1 row7\" >SVM</th>\n",
       "      <td id=\"T_494d7_row7_col0\" class=\"data row7 col0\" >0.505833</td>\n",
       "      <td id=\"T_494d7_row7_col1\" class=\"data row7 col1\" >0.507639</td>\n",
       "    </tr>\n",
       "    <tr>\n",
       "      <th id=\"T_494d7_level0_row8\" class=\"row_heading level0 row8\" >hubs</th>\n",
       "      <th id=\"T_494d7_level1_row8\" class=\"row_heading level1 row8\" >RF</th>\n",
       "      <td id=\"T_494d7_row8_col0\" class=\"data row8 col0\" >0.508194</td>\n",
       "      <td id=\"T_494d7_row8_col1\" class=\"data row8 col1\" >0.509444</td>\n",
       "    </tr>\n",
       "    <tr>\n",
       "      <th id=\"T_494d7_level0_row9\" class=\"row_heading level0 row9\" >katz</th>\n",
       "      <th id=\"T_494d7_level1_row9\" class=\"row_heading level1 row9\" >DT</th>\n",
       "      <td id=\"T_494d7_row9_col0\" class=\"data row9 col0\" >0.510278</td>\n",
       "      <td id=\"T_494d7_row9_col1\" class=\"data row9 col1\" >0.510278</td>\n",
       "    </tr>\n",
       "    <tr>\n",
       "      <th id=\"T_494d7_level0_row10\" class=\"row_heading level0 row10\" >pagerank</th>\n",
       "      <th id=\"T_494d7_level1_row10\" class=\"row_heading level1 row10\" >SVM</th>\n",
       "      <td id=\"T_494d7_row10_col0\" class=\"data row10 col0\" >0.508889</td>\n",
       "      <td id=\"T_494d7_row10_col1\" class=\"data row10 col1\" >0.508889</td>\n",
       "    </tr>\n",
       "    <tr>\n",
       "      <th id=\"T_494d7_level0_row11\" class=\"row_heading level0 row11\" >transitivity</th>\n",
       "      <th id=\"T_494d7_level1_row11\" class=\"row_heading level1 row11\" >RF</th>\n",
       "      <td id=\"T_494d7_row11_col0\" class=\"data row11 col0\" >0.524167</td>\n",
       "      <td id=\"T_494d7_row11_col1\" class=\"data row11 col1\" >0.525139</td>\n",
       "    </tr>\n",
       "  </tbody>\n",
       "</table>\n"
      ],
      "text/plain": [
       "<pandas.io.formats.style.Styler at 0x1b9ea83d520>"
      ]
     },
     "execution_count": 78,
     "metadata": {},
     "output_type": "execute_result"
    }
   ],
   "source": [
    "df_single.loc[df_single.groupby(level=0).idxmax().values[:,1]].style.highlight_max(props='color:lightgreen;', axis=0)"
   ]
  },
  {
   "cell_type": "code",
   "execution_count": 79,
   "metadata": {},
   "outputs": [
    {
     "data": {
      "text/html": [
       "<style type=\"text/css\">\n",
       "#T_86531_row0_col0, #T_86531_row0_col1 {\n",
       "  color: lightgreen;\n",
       "}\n",
       "</style>\n",
       "<table id=\"T_86531\">\n",
       "  <thead>\n",
       "    <tr>\n",
       "      <th class=\"blank level0\" >&nbsp;</th>\n",
       "      <th id=\"T_86531_level0_col0\" class=\"col_heading level0 col0\" >with stopwords</th>\n",
       "      <th id=\"T_86531_level0_col1\" class=\"col_heading level0 col1\" >without stopwords</th>\n",
       "    </tr>\n",
       "    <tr>\n",
       "      <th class=\"index_name level1\" >algorithm</th>\n",
       "      <th id=\"T_86531_level1_col0\" class=\"col_heading level1 col0\" >accuracy</th>\n",
       "      <th id=\"T_86531_level1_col1\" class=\"col_heading level1 col1\" >accuracy</th>\n",
       "    </tr>\n",
       "  </thead>\n",
       "  <tbody>\n",
       "    <tr>\n",
       "      <th id=\"T_86531_level0_row0\" class=\"row_heading level0 row0\" >MLP</th>\n",
       "      <td id=\"T_86531_row0_col0\" class=\"data row0 col0\" >58.62%</td>\n",
       "      <td id=\"T_86531_row0_col1\" class=\"data row0 col1\" >58.69%</td>\n",
       "    </tr>\n",
       "    <tr>\n",
       "      <th id=\"T_86531_level0_row1\" class=\"row_heading level0 row1\" >SVM</th>\n",
       "      <td id=\"T_86531_row1_col0\" class=\"data row1 col0\" >57.31%</td>\n",
       "      <td id=\"T_86531_row1_col1\" class=\"data row1 col1\" >57.35%</td>\n",
       "    </tr>\n",
       "    <tr>\n",
       "      <th id=\"T_86531_level0_row2\" class=\"row_heading level0 row2\" >RF</th>\n",
       "      <td id=\"T_86531_row2_col0\" class=\"data row2 col0\" >56.69%</td>\n",
       "      <td id=\"T_86531_row2_col1\" class=\"data row2 col1\" >57.07%</td>\n",
       "    </tr>\n",
       "    <tr>\n",
       "      <th id=\"T_86531_level0_row3\" class=\"row_heading level0 row3\" >NB</th>\n",
       "      <td id=\"T_86531_row3_col0\" class=\"data row3 col0\" >55.11%</td>\n",
       "      <td id=\"T_86531_row3_col1\" class=\"data row3 col1\" >55.12%</td>\n",
       "    </tr>\n",
       "    <tr>\n",
       "      <th id=\"T_86531_level0_row4\" class=\"row_heading level0 row4\" >KNN</th>\n",
       "      <td id=\"T_86531_row4_col0\" class=\"data row4 col0\" >54.40%</td>\n",
       "      <td id=\"T_86531_row4_col1\" class=\"data row4 col1\" >54.37%</td>\n",
       "    </tr>\n",
       "    <tr>\n",
       "      <th id=\"T_86531_level0_row5\" class=\"row_heading level0 row5\" >DT</th>\n",
       "      <td id=\"T_86531_row5_col0\" class=\"data row5 col0\" >53.00%</td>\n",
       "      <td id=\"T_86531_row5_col1\" class=\"data row5 col1\" >53.07%</td>\n",
       "    </tr>\n",
       "  </tbody>\n",
       "</table>\n"
      ],
      "text/plain": [
       "<pandas.io.formats.style.Styler at 0x1b9f658e460>"
      ]
     },
     "execution_count": 79,
     "metadata": {},
     "output_type": "execute_result"
    }
   ],
   "source": [
    "read_path = os.path.join('..', 'results', 'compare_models_all_adjacency.csv')\n",
    "\n",
    "df_all = pd.read_csv(read_path, header=[0,1], index_col=0)\n",
    "\n",
    "df_all.style.format(\"{:.2%}\").highlight_max(props='color:lightgreen;')"
   ]
  }
 ],
 "metadata": {
  "kernelspec": {
   "display_name": "Python 3",
   "language": "python",
   "name": "python3"
  },
  "language_info": {
   "codemirror_mode": {
    "name": "ipython",
    "version": 3
   },
   "file_extension": ".py",
   "mimetype": "text/x-python",
   "name": "python",
   "nbconvert_exporter": "python",
   "pygments_lexer": "ipython3",
   "version": "3.9.13"
  },
  "orig_nbformat": 4
 },
 "nbformat": 4,
 "nbformat_minor": 2
}
