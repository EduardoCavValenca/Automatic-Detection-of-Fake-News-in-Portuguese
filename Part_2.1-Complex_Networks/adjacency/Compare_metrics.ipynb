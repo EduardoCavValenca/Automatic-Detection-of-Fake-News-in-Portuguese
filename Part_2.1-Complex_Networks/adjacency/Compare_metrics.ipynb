{
 "cells": [
  {
   "cell_type": "code",
   "execution_count": 1,
   "metadata": {},
   "outputs": [
    {
     "data": {
      "text/plain": [
       "<module 'measures_common' from 'd:\\\\Projetos\\\\TCC\\\\Part_2.1-Complex_Networks\\\\adjacency\\\\..\\\\measures_common.py'>"
      ]
     },
     "execution_count": 1,
     "metadata": {},
     "output_type": "execute_result"
    }
   ],
   "source": [
    "import os\n",
    "import pandas as pd\n",
    "import numpy as np\n",
    "from collections import defaultdict\n",
    "from tqdm.notebook import tqdm\n",
    "\n",
    "import sys\n",
    "sys.path.append( '../' )\n",
    "import importlib\n",
    "\n",
    "import measures_common\n",
    "importlib.reload(measures_common)"
   ]
  },
  {
   "cell_type": "code",
   "execution_count": 4,
   "metadata": {},
   "outputs": [],
   "source": [
    "def compare_measures(measures, fake_text, true_text):\n",
    "\n",
    "    fake_measures = measures_common.get_measures_from_text(fake_text)\n",
    "    true_measures = measures_common.get_measures_from_text(true_text)\n",
    "\n",
    "    for key in fake_measures.keys():\n",
    "        if true_measures[key] > fake_measures[key]:\n",
    "            measures[key] += 1\n",
    "        \n",
    "    \n",
    "def get_comparison_measures_df(df):\n",
    "\n",
    "    measures = defaultdict(int)\n",
    "    measures_percentage = defaultdict(float)\n",
    "\n",
    "    for index, row in tqdm(df.iterrows(), total=len(df), unit='rows', mininterval=1 ,desc='Comparing measures from dataframe'):\n",
    "        compare_measures(measures, row['Fake'], row['True'])\n",
    "\n",
    "    for key in list(measures.keys()):\n",
    "        measures_percentage[key] = round(measures[key]/len(df), 2)\n",
    "\n",
    "\n",
    "    return measures, measures_percentage"
   ]
  },
  {
   "cell_type": "code",
   "execution_count": 5,
   "metadata": {},
   "outputs": [
    {
     "data": {
      "text/html": [
       "<div>\n",
       "<style scoped>\n",
       "    .dataframe tbody tr th:only-of-type {\n",
       "        vertical-align: middle;\n",
       "    }\n",
       "\n",
       "    .dataframe tbody tr th {\n",
       "        vertical-align: top;\n",
       "    }\n",
       "\n",
       "    .dataframe thead th {\n",
       "        text-align: right;\n",
       "    }\n",
       "</style>\n",
       "<table border=\"1\" class=\"dataframe\">\n",
       "  <thead>\n",
       "    <tr style=\"text-align: right;\">\n",
       "      <th></th>\n",
       "      <th>Fake</th>\n",
       "      <th>True</th>\n",
       "    </tr>\n",
       "  </thead>\n",
       "  <tbody>\n",
       "    <tr>\n",
       "      <th>0</th>\n",
       "      <td>katia abreu diz que vai colocar sua expulsao e...</td>\n",
       "      <td>o podemos decidiu expulsar o deputado federal ...</td>\n",
       "    </tr>\n",
       "    <tr>\n",
       "      <th>1</th>\n",
       "      <td>dr ray peita bolsonaro chamao de conservador f...</td>\n",
       "      <td>bolsonaro e um liberal completo diz presidente...</td>\n",
       "    </tr>\n",
       "    <tr>\n",
       "      <th>2</th>\n",
       "      <td>reinaldo azevedo desmascarado pela policia fed...</td>\n",
       "      <td>ministro do stf libera andrea neves de prisao ...</td>\n",
       "    </tr>\n",
       "  </tbody>\n",
       "</table>\n",
       "</div>"
      ],
      "text/plain": [
       "                                                Fake  \\\n",
       "0  katia abreu diz que vai colocar sua expulsao e...   \n",
       "1  dr ray peita bolsonaro chamao de conservador f...   \n",
       "2  reinaldo azevedo desmascarado pela policia fed...   \n",
       "\n",
       "                                                True  \n",
       "0  o podemos decidiu expulsar o deputado federal ...  \n",
       "1  bolsonaro e um liberal completo diz presidente...  \n",
       "2  ministro do stf libera andrea neves de prisao ...  "
      ]
     },
     "execution_count": 5,
     "metadata": {},
     "output_type": "execute_result"
    }
   ],
   "source": [
    "file_path_with_stopwords = os.path.join('..', '..', 'data', 'csvs', 'fake_vs_true_pre_norm_with_stopwords.csv')\n",
    "file_path_without_stopwords = os.path.join('..', '..', 'data', 'csvs', 'fake_vs_true_pre_norm.csv')\n",
    "\n",
    "df_with_stopwords = pd.read_csv(file_path_with_stopwords)\n",
    "df_without_stopwords = pd.read_csv(file_path_without_stopwords)\n",
    "\n",
    "df_with_stopwords.head(3)"
   ]
  },
  {
   "cell_type": "code",
   "execution_count": null,
   "metadata": {},
   "outputs": [],
   "source": [
    "measures_with_stopwords, measures_percentage_with_stopwords = get_comparison_measures_df(df_with_stopwords)\n",
    "measures_without_stopwords, measures_percentage_without_stopwords = get_comparison_measures_df(df_without_stopwords)"
   ]
  },
  {
   "cell_type": "code",
   "execution_count": 76,
   "metadata": {},
   "outputs": [],
   "source": [
    "cols = pd.MultiIndex.from_product([[\"with stopwords\",\"without stopwords\"], ['true>fake', '%']])\n",
    "\n",
    "df_metrics = pd.DataFrame(np.array([list(measures_with_stopwords.values()), list(measures_percentage_with_stopwords.values()),\n",
    "                                    list(measures_without_stopwords.values()), list(measures_percentage_without_stopwords.values())]).T,\n",
    "                            columns=cols, \n",
    "                            index=measures_with_stopwords.keys())"
   ]
  },
  {
   "cell_type": "code",
   "execution_count": 3,
   "metadata": {},
   "outputs": [],
   "source": [
    "df_metrics = df_metrics.reset_index(col_level=1).rename(columns={'index':'Measure'})\n",
    "df_metrics.to_csv(\"../results/compare_metrics_adjacency.csv\", index=False)"
   ]
  },
  {
   "cell_type": "code",
   "execution_count": 6,
   "metadata": {},
   "outputs": [
    {
     "data": {
      "text/html": [
       "<style type=\"text/css\">\n",
       "#T_e5496_row0_col0, #T_e5496_row0_col1, #T_e5496_row1_col2, #T_e5496_row1_col3, #T_e5496_row4_col0, #T_e5496_row4_col1, #T_e5496_row9_col1, #T_e5496_row9_col2, #T_e5496_row9_col3 {\n",
       "  color: lightgreen;\n",
       "}\n",
       "</style>\n",
       "<table id=\"T_e5496\">\n",
       "  <thead>\n",
       "    <tr>\n",
       "      <th class=\"blank level0\" >&nbsp;</th>\n",
       "      <th id=\"T_e5496_level0_col0\" class=\"col_heading level0 col0\" colspan=\"2\">with stopwords</th>\n",
       "      <th id=\"T_e5496_level0_col2\" class=\"col_heading level0 col2\" colspan=\"2\">without stopwords</th>\n",
       "    </tr>\n",
       "    <tr>\n",
       "      <th class=\"index_name level1\" >Measure</th>\n",
       "      <th id=\"T_e5496_level1_col0\" class=\"col_heading level1 col0\" >true>fake</th>\n",
       "      <th id=\"T_e5496_level1_col1\" class=\"col_heading level1 col1\" >%</th>\n",
       "      <th id=\"T_e5496_level1_col2\" class=\"col_heading level1 col2\" >true>fake</th>\n",
       "      <th id=\"T_e5496_level1_col3\" class=\"col_heading level1 col3\" >%</th>\n",
       "    </tr>\n",
       "  </thead>\n",
       "  <tbody>\n",
       "    <tr>\n",
       "      <th id=\"T_e5496_level0_row0\" class=\"row_heading level0 row0\" >transitivity</th>\n",
       "      <td id=\"T_e5496_row0_col0\" class=\"data row0 col0\" >1547.00</td>\n",
       "      <td id=\"T_e5496_row0_col1\" class=\"data row0 col1\" >0.43</td>\n",
       "      <td id=\"T_e5496_row0_col2\" class=\"data row0 col2\" >1871.00</td>\n",
       "      <td id=\"T_e5496_row0_col3\" class=\"data row0 col3\" >0.52</td>\n",
       "    </tr>\n",
       "    <tr>\n",
       "      <th id=\"T_e5496_level0_row1\" class=\"row_heading level0 row1\" >betweenness</th>\n",
       "      <td id=\"T_e5496_row1_col0\" class=\"data row1 col0\" >1872.00</td>\n",
       "      <td id=\"T_e5496_row1_col1\" class=\"data row1 col1\" >0.52</td>\n",
       "      <td id=\"T_e5496_row1_col2\" class=\"data row1 col2\" >1946.00</td>\n",
       "      <td id=\"T_e5496_row1_col3\" class=\"data row1 col3\" >0.54</td>\n",
       "    </tr>\n",
       "    <tr>\n",
       "      <th id=\"T_e5496_level0_row2\" class=\"row_heading level0 row2\" >eigenvector</th>\n",
       "      <td id=\"T_e5496_row2_col0\" class=\"data row2 col0\" >1878.00</td>\n",
       "      <td id=\"T_e5496_row2_col1\" class=\"data row2 col1\" >0.52</td>\n",
       "      <td id=\"T_e5496_row2_col2\" class=\"data row2 col2\" >1654.00</td>\n",
       "      <td id=\"T_e5496_row2_col3\" class=\"data row2 col3\" >0.46</td>\n",
       "    </tr>\n",
       "    <tr>\n",
       "      <th id=\"T_e5496_level0_row3\" class=\"row_heading level0 row3\" >correlation</th>\n",
       "      <td id=\"T_e5496_row3_col0\" class=\"data row3 col0\" >1584.00</td>\n",
       "      <td id=\"T_e5496_row3_col1\" class=\"data row3 col1\" >0.44</td>\n",
       "      <td id=\"T_e5496_row3_col2\" class=\"data row3 col2\" >1495.00</td>\n",
       "      <td id=\"T_e5496_row3_col3\" class=\"data row3 col3\" >0.42</td>\n",
       "    </tr>\n",
       "    <tr>\n",
       "      <th id=\"T_e5496_level0_row4\" class=\"row_heading level0 row4\" >closeness</th>\n",
       "      <td id=\"T_e5496_row4_col0\" class=\"data row4 col0\" >1917.00</td>\n",
       "      <td id=\"T_e5496_row4_col1\" class=\"data row4 col1\" >0.53</td>\n",
       "      <td id=\"T_e5496_row4_col2\" class=\"data row4 col2\" >1495.00</td>\n",
       "      <td id=\"T_e5496_row4_col3\" class=\"data row4 col3\" >0.42</td>\n",
       "    </tr>\n",
       "    <tr>\n",
       "      <th id=\"T_e5496_level0_row5\" class=\"row_heading level0 row5\" >katz</th>\n",
       "      <td id=\"T_e5496_row5_col0\" class=\"data row5 col0\" >1834.00</td>\n",
       "      <td id=\"T_e5496_row5_col1\" class=\"data row5 col1\" >0.51</td>\n",
       "      <td id=\"T_e5496_row5_col2\" class=\"data row5 col2\" >1618.00</td>\n",
       "      <td id=\"T_e5496_row5_col3\" class=\"data row5 col3\" >0.45</td>\n",
       "    </tr>\n",
       "    <tr>\n",
       "      <th id=\"T_e5496_level0_row6\" class=\"row_heading level0 row6\" >pagerank</th>\n",
       "      <td id=\"T_e5496_row6_col0\" class=\"data row6 col0\" >1796.00</td>\n",
       "      <td id=\"T_e5496_row6_col1\" class=\"data row6 col1\" >0.50</td>\n",
       "      <td id=\"T_e5496_row6_col2\" class=\"data row6 col2\" >1561.00</td>\n",
       "      <td id=\"T_e5496_row6_col3\" class=\"data row6 col3\" >0.43</td>\n",
       "    </tr>\n",
       "    <tr>\n",
       "      <th id=\"T_e5496_level0_row7\" class=\"row_heading level0 row7\" >hubs</th>\n",
       "      <td id=\"T_e5496_row7_col0\" class=\"data row7 col0\" >1821.00</td>\n",
       "      <td id=\"T_e5496_row7_col1\" class=\"data row7 col1\" >0.51</td>\n",
       "      <td id=\"T_e5496_row7_col2\" class=\"data row7 col2\" >1572.00</td>\n",
       "      <td id=\"T_e5496_row7_col3\" class=\"data row7 col3\" >0.44</td>\n",
       "    </tr>\n",
       "    <tr>\n",
       "      <th id=\"T_e5496_level0_row8\" class=\"row_heading level0 row8\" >authorities</th>\n",
       "      <td id=\"T_e5496_row8_col0\" class=\"data row8 col0\" >1821.00</td>\n",
       "      <td id=\"T_e5496_row8_col1\" class=\"data row8 col1\" >0.51</td>\n",
       "      <td id=\"T_e5496_row8_col2\" class=\"data row8 col2\" >1579.00</td>\n",
       "      <td id=\"T_e5496_row8_col3\" class=\"data row8 col3\" >0.44</td>\n",
       "    </tr>\n",
       "    <tr>\n",
       "      <th id=\"T_e5496_level0_row9\" class=\"row_heading level0 row9\" >density</th>\n",
       "      <td id=\"T_e5496_row9_col0\" class=\"data row9 col0\" >1904.00</td>\n",
       "      <td id=\"T_e5496_row9_col1\" class=\"data row9 col1\" >0.53</td>\n",
       "      <td id=\"T_e5496_row9_col2\" class=\"data row9 col2\" >1406.00</td>\n",
       "      <td id=\"T_e5496_row9_col3\" class=\"data row9 col3\" >0.39</td>\n",
       "    </tr>\n",
       "    <tr>\n",
       "      <th id=\"T_e5496_level0_row10\" class=\"row_heading level0 row10\" >clustering</th>\n",
       "      <td id=\"T_e5496_row10_col0\" class=\"data row10 col0\" >1778.00</td>\n",
       "      <td id=\"T_e5496_row10_col1\" class=\"data row10 col1\" >0.49</td>\n",
       "      <td id=\"T_e5496_row10_col2\" class=\"data row10 col2\" >1668.00</td>\n",
       "      <td id=\"T_e5496_row10_col3\" class=\"data row10 col3\" >0.46</td>\n",
       "    </tr>\n",
       "    <tr>\n",
       "      <th id=\"T_e5496_level0_row11\" class=\"row_heading level0 row11\" >average_clustering</th>\n",
       "      <td id=\"T_e5496_row11_col0\" class=\"data row11 col0\" >1778.00</td>\n",
       "      <td id=\"T_e5496_row11_col1\" class=\"data row11 col1\" >0.49</td>\n",
       "      <td id=\"T_e5496_row11_col2\" class=\"data row11 col2\" >1864.00</td>\n",
       "      <td id=\"T_e5496_row11_col3\" class=\"data row11 col3\" >0.52</td>\n",
       "    </tr>\n",
       "  </tbody>\n",
       "</table>\n"
      ],
      "text/plain": [
       "<pandas.io.formats.style.Styler at 0x299081263d0>"
      ]
     },
     "execution_count": 6,
     "metadata": {},
     "output_type": "execute_result"
    }
   ],
   "source": [
    "df_metrics = pd.read_csv(\"../results/compare_metrics_adjacency.csv\", header=[0,1], index_col=0)\n",
    "df_metrics.style.highlight_min(axis = 0, props='color:lightgreen;').highlight_max(axis = 0, props='color:lightgreen;').format(precision=2)"
   ]
  }
 ],
 "metadata": {
  "kernelspec": {
   "display_name": "Python 3",
   "language": "python",
   "name": "python3"
  },
  "language_info": {
   "codemirror_mode": {
    "name": "ipython",
    "version": 3
   },
   "file_extension": ".py",
   "mimetype": "text/x-python",
   "name": "python",
   "nbconvert_exporter": "python",
   "pygments_lexer": "ipython3",
   "version": "3.9.13"
  },
  "orig_nbformat": 4
 },
 "nbformat": 4,
 "nbformat_minor": 2
}
