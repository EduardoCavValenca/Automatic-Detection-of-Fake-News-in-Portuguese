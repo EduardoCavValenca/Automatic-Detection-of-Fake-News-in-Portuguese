{
 "cells": [
  {
   "cell_type": "code",
   "execution_count": 38,
   "metadata": {},
   "outputs": [
    {
     "data": {
      "text/plain": [
       "<module 'measures_common' from 'd:\\\\Projetos\\\\TCC\\\\Part_2.1-Complex_Networks\\\\measures_common.py'>"
      ]
     },
     "execution_count": 38,
     "metadata": {},
     "output_type": "execute_result"
    }
   ],
   "source": [
    "import os\n",
    "import pandas as pd\n",
    "from tqdm.notebook import tqdm\n",
    "\n",
    "import sys\n",
    "sys.path.append( '.' )\n",
    "import importlib\n",
    "\n",
    "import measures_common\n",
    "importlib.reload(measures_common)"
   ]
  },
  {
   "cell_type": "code",
   "execution_count": 36,
   "metadata": {},
   "outputs": [],
   "source": [
    "def compare_measures(measures, fake_text, true_text):\n",
    "\n",
    "    fake_measures = measures_common.get_measures_from_text(fake_text)\n",
    "    true_measures = measures_common.get_measures_from_text(true_text)\n",
    "\n",
    "    for key in list(measures.keys()):\n",
    "        if true_measures[key] > fake_measures[key]:\n",
    "            measures[key] += 1\n",
    "        \n",
    "    \n",
    "def get_comparison_measures_df(df):\n",
    "\n",
    "    measures = {\n",
    "    'betweenness': 0,\n",
    "    'closeness': 0,\n",
    "    'eigenvector': 0,\n",
    "    'katz': 0,\n",
    "    'pagerank': 0,\n",
    "    'hubs': 0,\n",
    "    'authorities': 0,\n",
    "    'clustering': 0,\n",
    "    'average_clustering': 0,\n",
    "    'correlation': 0,\n",
    "    'transitivity': 0,\n",
    "    'density': 0\n",
    "    }\n",
    "\n",
    "    for index, row in tqdm(df.iterrows(), total=len(df), unit='rows', mininterval=1 ,desc='Comparing measures from dataframe'):\n",
    "        compare_measures(measures, row['Fake'], row['True'])\n",
    "\n",
    "    for key in list(measures.keys()):\n",
    "        measures[key] = round(measures[key]/len(df), 2)\n",
    "\n",
    "    return measures"
   ]
  },
  {
   "cell_type": "code",
   "execution_count": 37,
   "metadata": {},
   "outputs": [
    {
     "data": {
      "text/html": [
       "<div>\n",
       "<style scoped>\n",
       "    .dataframe tbody tr th:only-of-type {\n",
       "        vertical-align: middle;\n",
       "    }\n",
       "\n",
       "    .dataframe tbody tr th {\n",
       "        vertical-align: top;\n",
       "    }\n",
       "\n",
       "    .dataframe thead th {\n",
       "        text-align: right;\n",
       "    }\n",
       "</style>\n",
       "<table border=\"1\" class=\"dataframe\">\n",
       "  <thead>\n",
       "    <tr style=\"text-align: right;\">\n",
       "      <th></th>\n",
       "      <th>Fake</th>\n",
       "      <th>True</th>\n",
       "    </tr>\n",
       "  </thead>\n",
       "  <tbody>\n",
       "    <tr>\n",
       "      <th>0</th>\n",
       "      <td>katia abreu diz vai colocar expulsao moldura r...</td>\n",
       "      <td>podemos decidiu expulsar deputado federal carl...</td>\n",
       "    </tr>\n",
       "    <tr>\n",
       "      <th>1</th>\n",
       "      <td>dr ray peita bolsonaro chamao conservador fake...</td>\n",
       "      <td>bolsonaro liberal completo diz presidente psl ...</td>\n",
       "    </tr>\n",
       "    <tr>\n",
       "      <th>2</th>\n",
       "      <td>reinaldo azevedo desmascarado policia federal ...</td>\n",
       "      <td>ministro stf libera andrea neves prisao domici...</td>\n",
       "    </tr>\n",
       "  </tbody>\n",
       "</table>\n",
       "</div>"
      ],
      "text/plain": [
       "                                                Fake  \\\n",
       "0  katia abreu diz vai colocar expulsao moldura r...   \n",
       "1  dr ray peita bolsonaro chamao conservador fake...   \n",
       "2  reinaldo azevedo desmascarado policia federal ...   \n",
       "\n",
       "                                                True  \n",
       "0  podemos decidiu expulsar deputado federal carl...  \n",
       "1  bolsonaro liberal completo diz presidente psl ...  \n",
       "2  ministro stf libera andrea neves prisao domici...  "
      ]
     },
     "execution_count": 37,
     "metadata": {},
     "output_type": "execute_result"
    }
   ],
   "source": [
    "file_path = os.path.join('..', 'data', 'csvs', 'fake_vs_true_pre_norm.csv')\n",
    "df = pd.read_csv(file_path)\n",
    "df.head(3)"
   ]
  },
  {
   "cell_type": "code",
   "execution_count": 25,
   "metadata": {},
   "outputs": [
    {
     "data": {
      "application/vnd.jupyter.widget-view+json": {
       "model_id": "9375860435034730a615b77ad385cd3c",
       "version_major": 2,
       "version_minor": 0
      },
      "text/plain": [
       "Comparing measures from dataframe:   0%|          | 0/3600 [00:00<?, ?rows/s]"
      ]
     },
     "metadata": {},
     "output_type": "display_data"
    },
    {
     "data": {
      "text/plain": [
       "{'betweenness': 0.52,\n",
       " 'closeness': 0.46,\n",
       " 'eigenvector': 0.52,\n",
       " 'katz': 0.45,\n",
       " 'pagerank': 0.43,\n",
       " 'hubs': 0.44,\n",
       " 'authorities': 0.44,\n",
       " 'clustering': 0.42,\n",
       " 'average_clustering': 0.42,\n",
       " 'correlation': 0.54,\n",
       " 'transitivity': 0.39,\n",
       " 'density': 0.46}"
      ]
     },
     "execution_count": 25,
     "metadata": {},
     "output_type": "execute_result"
    }
   ],
   "source": [
    "measures = get_comparison_measures_df(df)\n",
    "measures"
   ]
  },
  {
   "cell_type": "code",
   "execution_count": 28,
   "metadata": {},
   "outputs": [
    {
     "data": {
      "text/html": [
       "<div>\n",
       "<style scoped>\n",
       "    .dataframe tbody tr th:only-of-type {\n",
       "        vertical-align: middle;\n",
       "    }\n",
       "\n",
       "    .dataframe tbody tr th {\n",
       "        vertical-align: top;\n",
       "    }\n",
       "\n",
       "    .dataframe thead th {\n",
       "        text-align: right;\n",
       "    }\n",
       "</style>\n",
       "<table border=\"1\" class=\"dataframe\">\n",
       "  <thead>\n",
       "    <tr style=\"text-align: right;\">\n",
       "      <th></th>\n",
       "      <th>metric(true)&gt;metric(fake) %</th>\n",
       "    </tr>\n",
       "  </thead>\n",
       "  <tbody>\n",
       "    <tr>\n",
       "      <th>betweenness</th>\n",
       "      <td>0.52</td>\n",
       "    </tr>\n",
       "    <tr>\n",
       "      <th>closeness</th>\n",
       "      <td>0.46</td>\n",
       "    </tr>\n",
       "    <tr>\n",
       "      <th>eigenvector</th>\n",
       "      <td>0.52</td>\n",
       "    </tr>\n",
       "    <tr>\n",
       "      <th>katz</th>\n",
       "      <td>0.45</td>\n",
       "    </tr>\n",
       "    <tr>\n",
       "      <th>pagerank</th>\n",
       "      <td>0.43</td>\n",
       "    </tr>\n",
       "    <tr>\n",
       "      <th>hubs</th>\n",
       "      <td>0.44</td>\n",
       "    </tr>\n",
       "    <tr>\n",
       "      <th>authorities</th>\n",
       "      <td>0.44</td>\n",
       "    </tr>\n",
       "    <tr>\n",
       "      <th>clustering</th>\n",
       "      <td>0.42</td>\n",
       "    </tr>\n",
       "    <tr>\n",
       "      <th>average_clustering</th>\n",
       "      <td>0.42</td>\n",
       "    </tr>\n",
       "    <tr>\n",
       "      <th>correlation</th>\n",
       "      <td>0.54</td>\n",
       "    </tr>\n",
       "    <tr>\n",
       "      <th>transitivity</th>\n",
       "      <td>0.39</td>\n",
       "    </tr>\n",
       "    <tr>\n",
       "      <th>density</th>\n",
       "      <td>0.46</td>\n",
       "    </tr>\n",
       "  </tbody>\n",
       "</table>\n",
       "</div>"
      ],
      "text/plain": [
       "                    metric(true)>metric(fake) %\n",
       "betweenness                                0.52\n",
       "closeness                                  0.46\n",
       "eigenvector                                0.52\n",
       "katz                                       0.45\n",
       "pagerank                                   0.43\n",
       "hubs                                       0.44\n",
       "authorities                                0.44\n",
       "clustering                                 0.42\n",
       "average_clustering                         0.42\n",
       "correlation                                0.54\n",
       "transitivity                               0.39\n",
       "density                                    0.46"
      ]
     },
     "execution_count": 28,
     "metadata": {},
     "output_type": "execute_result"
    }
   ],
   "source": [
    "df_metrics = pd.DataFrame(measures.values(), columns=['metric(true)>metric(fake) %'], index=measures.keys())\n",
    "df_metrics"
   ]
  },
  {
   "cell_type": "code",
   "execution_count": 27,
   "metadata": {},
   "outputs": [],
   "source": [
    "#df.to_csv('results/metrics_comparision.csv', index=False)"
   ]
  }
 ],
 "metadata": {
  "kernelspec": {
   "display_name": "Python 3",
   "language": "python",
   "name": "python3"
  },
  "language_info": {
   "codemirror_mode": {
    "name": "ipython",
    "version": 3
   },
   "file_extension": ".py",
   "mimetype": "text/x-python",
   "name": "python",
   "nbconvert_exporter": "python",
   "pygments_lexer": "ipython3",
   "version": "3.9.13"
  },
  "orig_nbformat": 4
 },
 "nbformat": 4,
 "nbformat_minor": 2
}
