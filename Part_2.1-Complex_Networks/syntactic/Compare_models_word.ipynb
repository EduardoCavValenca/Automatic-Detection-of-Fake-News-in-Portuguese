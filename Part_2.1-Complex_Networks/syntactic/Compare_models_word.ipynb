{
 "cells": [
  {
   "cell_type": "code",
   "execution_count": 1,
   "metadata": {},
   "outputs": [
    {
     "data": {
      "text/plain": [
       "<module 'measures' from 'd:\\\\Projetos\\\\TCC\\\\Part_2.1-Complex_Networks\\\\syntactic\\\\measures.py'>"
      ]
     },
     "execution_count": 1,
     "metadata": {},
     "output_type": "execute_result"
    }
   ],
   "source": [
    "import os\n",
    "import pandas as pd\n",
    "import numpy as np\n",
    "from tqdm.notebook import tqdm\n",
    "\n",
    "import sys\n",
    "sys.path.append( '../' )\n",
    "import importlib\n",
    "\n",
    "import measures\n",
    "importlib.reload(measures)"
   ]
  },
  {
   "cell_type": "code",
   "execution_count": 2,
   "metadata": {},
   "outputs": [
    {
     "data": {
      "text/html": [
       "<div>\n",
       "<style scoped>\n",
       "    .dataframe tbody tr th:only-of-type {\n",
       "        vertical-align: middle;\n",
       "    }\n",
       "\n",
       "    .dataframe tbody tr th {\n",
       "        vertical-align: top;\n",
       "    }\n",
       "\n",
       "    .dataframe thead th {\n",
       "        text-align: right;\n",
       "    }\n",
       "</style>\n",
       "<table border=\"1\" class=\"dataframe\">\n",
       "  <thead>\n",
       "    <tr style=\"text-align: right;\">\n",
       "      <th></th>\n",
       "      <th>news_id</th>\n",
       "      <th>betweenness</th>\n",
       "      <th>closeness</th>\n",
       "      <th>eigenvector</th>\n",
       "      <th>katz</th>\n",
       "      <th>pagerank</th>\n",
       "      <th>hubs</th>\n",
       "      <th>authorities</th>\n",
       "      <th>clustering</th>\n",
       "      <th>average_clustering</th>\n",
       "      <th>correlation</th>\n",
       "      <th>transitivity</th>\n",
       "      <th>density</th>\n",
       "      <th>label</th>\n",
       "    </tr>\n",
       "  </thead>\n",
       "  <tbody>\n",
       "    <tr>\n",
       "      <th>0</th>\n",
       "      <td>1</td>\n",
       "      <td>0.002859</td>\n",
       "      <td>0.030342</td>\n",
       "      <td>0.056997</td>\n",
       "      <td>0.102508</td>\n",
       "      <td>0.010753</td>\n",
       "      <td>0.010753</td>\n",
       "      <td>0.010753</td>\n",
       "      <td>0.021084</td>\n",
       "      <td>0.021084</td>\n",
       "      <td>-0.238608</td>\n",
       "      <td>0.015873</td>\n",
       "      <td>0.017064</td>\n",
       "      <td>fake</td>\n",
       "    </tr>\n",
       "    <tr>\n",
       "      <th>1</th>\n",
       "      <td>1</td>\n",
       "      <td>0.001572</td>\n",
       "      <td>0.025936</td>\n",
       "      <td>0.015334</td>\n",
       "      <td>0.098473</td>\n",
       "      <td>0.010101</td>\n",
       "      <td>0.010101</td>\n",
       "      <td>0.010101</td>\n",
       "      <td>0.009144</td>\n",
       "      <td>0.009144</td>\n",
       "      <td>-0.277525</td>\n",
       "      <td>0.011834</td>\n",
       "      <td>0.015976</td>\n",
       "      <td>true</td>\n",
       "    </tr>\n",
       "    <tr>\n",
       "      <th>2</th>\n",
       "      <td>10</td>\n",
       "      <td>0.001142</td>\n",
       "      <td>0.020293</td>\n",
       "      <td>0.014690</td>\n",
       "      <td>0.079517</td>\n",
       "      <td>0.006623</td>\n",
       "      <td>0.006623</td>\n",
       "      <td>0.006623</td>\n",
       "      <td>0.011587</td>\n",
       "      <td>0.011587</td>\n",
       "      <td>-0.223655</td>\n",
       "      <td>0.016129</td>\n",
       "      <td>0.011082</td>\n",
       "      <td>fake</td>\n",
       "    </tr>\n",
       "  </tbody>\n",
       "</table>\n",
       "</div>"
      ],
      "text/plain": [
       "   news_id  betweenness  closeness  eigenvector      katz  pagerank      hubs  \\\n",
       "0        1     0.002859   0.030342     0.056997  0.102508  0.010753  0.010753   \n",
       "1        1     0.001572   0.025936     0.015334  0.098473  0.010101  0.010101   \n",
       "2       10     0.001142   0.020293     0.014690  0.079517  0.006623  0.006623   \n",
       "\n",
       "   authorities  clustering  average_clustering  correlation  transitivity  \\\n",
       "0     0.010753    0.021084            0.021084    -0.238608      0.015873   \n",
       "1     0.010101    0.009144            0.009144    -0.277525      0.011834   \n",
       "2     0.006623    0.011587            0.011587    -0.223655      0.016129   \n",
       "\n",
       "    density label  \n",
       "0  0.017064  fake  \n",
       "1  0.015976  true  \n",
       "2  0.011082  fake  "
      ]
     },
     "execution_count": 2,
     "metadata": {},
     "output_type": "execute_result"
    }
   ],
   "source": [
    "file_path_with_stopwords = os.path.join('..', 'csvs', 'syntatic_word_mean_measures_with_stopwords.csv')\n",
    "file_path_without_stopwords = os.path.join('..', 'csvs', 'syntatic_word_mean_measures.csv')\n",
    "\n",
    "df_with_stopwords = pd.read_csv(file_path_with_stopwords)\n",
    "df_without_stopwords = pd.read_csv(file_path_without_stopwords)\n",
    "\n",
    "df_with_stopwords.head(3)"
   ]
  },
  {
   "cell_type": "code",
   "execution_count": 3,
   "metadata": {},
   "outputs": [],
   "source": [
    "from sklearn.naive_bayes import GaussianNB\n",
    "from sklearn.tree import DecisionTreeClassifier\n",
    "from sklearn.ensemble import RandomForestClassifier\n",
    "from sklearn.neighbors import KNeighborsClassifier\n",
    "from sklearn.svm import SVC\n",
    "from sklearn.neural_network import MLPClassifier\n",
    "\n",
    "NB = GaussianNB()\n",
    "DT = DecisionTreeClassifier()\n",
    "RF = RandomForestClassifier()\n",
    "KNN = KNeighborsClassifier()\n",
    "SVM = SVC()\n",
    "MLP = MLPClassifier(max_iter=1000)\n",
    "\n",
    "algs = [NB, DT, RF, KNN, SVM, MLP]\n",
    "algs_names = ['NB', 'DT', 'RF', 'KNN', 'SVM', 'MLP']"
   ]
  },
  {
   "cell_type": "code",
   "execution_count": 4,
   "metadata": {},
   "outputs": [
    {
     "data": {
      "application/vnd.jupyter.widget-view+json": {
       "model_id": "679d03e224e14f4e951427e5cab12363",
       "version_major": 2,
       "version_minor": 0
      },
      "text/plain": [
       "Single measure:   0%|          | 0/6 [00:00<?, ?it/s]"
      ]
     },
     "metadata": {},
     "output_type": "display_data"
    },
    {
     "data": {
      "application/vnd.jupyter.widget-view+json": {
       "model_id": "0fdd18b70a4043808cf6410150432ef9",
       "version_major": 2,
       "version_minor": 0
      },
      "text/plain": [
       "NB:   0%|          | 0/12 [00:00<?, ?it/s]"
      ]
     },
     "metadata": {},
     "output_type": "display_data"
    },
    {
     "data": {
      "application/vnd.jupyter.widget-view+json": {
       "model_id": "07a8cb4ed33d4d99b1df64c0115ca802",
       "version_major": 2,
       "version_minor": 0
      },
      "text/plain": [
       "DT:   0%|          | 0/12 [00:00<?, ?it/s]"
      ]
     },
     "metadata": {},
     "output_type": "display_data"
    },
    {
     "data": {
      "application/vnd.jupyter.widget-view+json": {
       "model_id": "3a5d7e0bd7d147cebec5eef270f2fa6a",
       "version_major": 2,
       "version_minor": 0
      },
      "text/plain": [
       "RF:   0%|          | 0/12 [00:00<?, ?it/s]"
      ]
     },
     "metadata": {},
     "output_type": "display_data"
    },
    {
     "data": {
      "application/vnd.jupyter.widget-view+json": {
       "model_id": "cb5e2f4747ce45c99c8ff66358bfc1c9",
       "version_major": 2,
       "version_minor": 0
      },
      "text/plain": [
       "KNN:   0%|          | 0/12 [00:00<?, ?it/s]"
      ]
     },
     "metadata": {},
     "output_type": "display_data"
    },
    {
     "data": {
      "application/vnd.jupyter.widget-view+json": {
       "model_id": "222e127865924bcb89ee403a10893e52",
       "version_major": 2,
       "version_minor": 0
      },
      "text/plain": [
       "SVM:   0%|          | 0/12 [00:00<?, ?it/s]"
      ]
     },
     "metadata": {},
     "output_type": "display_data"
    },
    {
     "data": {
      "application/vnd.jupyter.widget-view+json": {
       "model_id": "72789df134154cbf8cfae197feffeee1",
       "version_major": 2,
       "version_minor": 0
      },
      "text/plain": [
       "MLP:   0%|          | 0/12 [00:00<?, ?it/s]"
      ]
     },
     "metadata": {},
     "output_type": "display_data"
    }
   ],
   "source": [
    "from collections import defaultdict\n",
    "from sklearn.model_selection import cross_val_score\n",
    "\n",
    "scores_single_with_stopwords = defaultdict(list)\n",
    "scores_single_without_stopwords = defaultdict(list)\n",
    "measures = df_with_stopwords.columns[1:13]\n",
    "\n",
    "for alg, alg_name in tqdm(zip(algs, algs_names), total=len(algs), position=0, leave=True, desc=\"Single measure\"):\n",
    "    for measure in tqdm(measures, total=len(measures), position=1, leave=True, desc=alg_name):\n",
    "        scores_single_with_stopwords[\"measure\"].append(measure)\n",
    "        scores_single_with_stopwords[\"algorithm\"].append(alg_name)\n",
    "        scores_single_with_stopwords[\"accuracy\"].append(cross_val_score(alg, df_with_stopwords[measure].values.reshape(-1, 1), df_with_stopwords['label'], cv=5, scoring='accuracy').mean())\n",
    "\n",
    "        scores_single_without_stopwords[\"measure\"].append(measure)\n",
    "        scores_single_without_stopwords[\"algorithm\"].append(alg_name)\n",
    "        scores_single_without_stopwords[\"accuracy\"].append(cross_val_score(alg, df_without_stopwords[measure].values.reshape(-1, 1), df_without_stopwords['label'], cv=5, scoring='accuracy').mean())"
   ]
  },
  {
   "cell_type": "code",
   "execution_count": 5,
   "metadata": {},
   "outputs": [],
   "source": [
    "df_single_with_stopwords = pd.DataFrame(scores_single_with_stopwords)\n",
    "df_single_without_stopwords = pd.DataFrame(scores_single_without_stopwords)\n",
    "\n",
    "df_single = pd.merge(df_single_with_stopwords, df_single_without_stopwords, on=['measure', 'algorithm'], suffixes=('_with_stopwords', '_without_stopwords')) \n",
    "df_single = df_single.set_index(['measure', 'algorithm'])\n",
    "\n",
    "cols = pd.MultiIndex.from_product([[\"with stopwords\",\"without stopwords\"], ['accuracy']])\n",
    "df_single = pd.DataFrame(df_single[[\"accuracy_with_stopwords\", \"accuracy_without_stopwords\"]].values, columns=cols, index=df_single.index)\n",
    "df_single = df_single.sort_values(by=('with stopwords', 'accuracy'), ascending=False)"
   ]
  },
  {
   "cell_type": "code",
   "execution_count": 6,
   "metadata": {},
   "outputs": [],
   "source": [
    "save_path = os.path.join('..', 'results', 'compare_models_single_syntatic_word_mean.csv')\n",
    "\n",
    "df_single = df_single.reset_index(col_level=1)\n",
    "\n",
    "df_single.to_csv(save_path, index=False)"
   ]
  },
  {
   "cell_type": "code",
   "execution_count": 7,
   "metadata": {},
   "outputs": [
    {
     "data": {
      "application/vnd.jupyter.widget-view+json": {
       "model_id": "216b851742ea4d46bb3501be438dd152",
       "version_major": 2,
       "version_minor": 0
      },
      "text/plain": [
       "All measures:   0%|          | 0/6 [00:00<?, ?it/s]"
      ]
     },
     "metadata": {},
     "output_type": "display_data"
    }
   ],
   "source": [
    "from collections import defaultdict\n",
    "from sklearn.model_selection import cross_val_score\n",
    "\n",
    "scores_all_with_stopwords = defaultdict(list)\n",
    "scores_all_without_stopwords = defaultdict(list)\n",
    "measures = df_with_stopwords.columns[1:13]\n",
    "\n",
    "for alg, alg_name in tqdm(zip(algs, algs_names), total=len(algs), position=0, leave=True, desc=\"All measures\"):\n",
    "    scores_all_with_stopwords[\"algorithm\"].append(alg_name)\n",
    "    scores_all_with_stopwords[\"accuracy\"].append(cross_val_score(alg, df_with_stopwords[measures], df_with_stopwords['label'], cv=5, scoring='accuracy').mean())\n",
    "\n",
    "    scores_all_without_stopwords[\"algorithm\"].append(alg_name)\n",
    "    scores_all_without_stopwords[\"accuracy\"].append(cross_val_score(alg, df_without_stopwords[measures], df_without_stopwords['label'], cv=5, scoring='accuracy').mean())"
   ]
  },
  {
   "cell_type": "code",
   "execution_count": 8,
   "metadata": {},
   "outputs": [],
   "source": [
    "df_all_with_stopwords = pd.DataFrame(scores_all_with_stopwords)\n",
    "df_all_without_stopwords = pd.DataFrame(scores_all_without_stopwords)\n",
    "\n",
    "df_all = pd.merge(df_all_with_stopwords, df_all_without_stopwords, on='algorithm', suffixes=('_with_stopwords', '_without_stopwords'))\n",
    "df_all = df_all.set_index('algorithm')\n",
    "\n",
    "cols = pd.MultiIndex.from_product([[\"with stopwords\",\"without stopwords\"], ['accuracy']])\n",
    "df_all = pd.DataFrame(df_all[[\"accuracy_with_stopwords\", \"accuracy_without_stopwords\"]].values, columns=cols, index=df_all.index)\n",
    "df_all = df_all.sort_values(by=('with stopwords', 'accuracy'), ascending=False)"
   ]
  },
  {
   "cell_type": "code",
   "execution_count": 9,
   "metadata": {},
   "outputs": [],
   "source": [
    "save_path = os.path.join('..', 'results', 'compare_models_all_syntatic_word_mean.csv')\n",
    "\n",
    "df_all = df_all.reset_index(col_level=1)\n",
    "\n",
    "df_all.to_csv(save_path, index=False)"
   ]
  },
  {
   "cell_type": "code",
   "execution_count": 13,
   "metadata": {},
   "outputs": [],
   "source": [
    "read_path_mean = os.path.join('..', 'results', 'compare_models_single_syntatic_word_mean.csv')\n",
    "read_path_max = os.path.join('..', 'results', 'compare_models_single_syntatic_word_max.csv')\n",
    "\n",
    "df_single_mean = pd.read_csv(read_path_mean, header=[0,1], index_col=[0,1])\n",
    "df_single_mean.index.names = ['measure', 'algorithm']\n",
    "df_single_mean = pd.DataFrame(df_single.values, columns=pd.MultiIndex.from_product([[\"with stopwords\",\"without stopwords\"], ['accuracy']]), index=df_single_mean.index)\n",
    "\n",
    "df_single_max = pd.read_csv(read_path_max, header=[0,1], index_col=[0,1])\n",
    "df_single_max.index.names = ['measure', 'algorithm']\n",
    "df_single_max = pd.DataFrame(df_single.values, columns=pd.MultiIndex.from_product([[\"with stopwords\",\"without stopwords\"], ['accuracy']]), index=df_single_max.index)"
   ]
  },
  {
   "cell_type": "code",
   "execution_count": 16,
   "metadata": {},
   "outputs": [
    {
     "data": {
      "text/html": [
       "<style type=\"text/css\">\n",
       "#T_5bca1_row2_col1, #T_5bca1_row11_col0 {\n",
       "  color: lightgreen;\n",
       "}\n",
       "</style>\n",
       "<table id=\"T_5bca1\">\n",
       "  <caption>Single measure - mean</caption>\n",
       "  <thead>\n",
       "    <tr>\n",
       "      <th class=\"blank\" >&nbsp;</th>\n",
       "      <th class=\"blank level0\" >&nbsp;</th>\n",
       "      <th id=\"T_5bca1_level0_col0\" class=\"col_heading level0 col0\" >with stopwords</th>\n",
       "      <th id=\"T_5bca1_level0_col1\" class=\"col_heading level0 col1\" >without stopwords</th>\n",
       "    </tr>\n",
       "    <tr>\n",
       "      <th class=\"blank\" >&nbsp;</th>\n",
       "      <th class=\"blank level1\" >&nbsp;</th>\n",
       "      <th id=\"T_5bca1_level1_col0\" class=\"col_heading level1 col0\" >accuracy</th>\n",
       "      <th id=\"T_5bca1_level1_col1\" class=\"col_heading level1 col1\" >accuracy</th>\n",
       "    </tr>\n",
       "    <tr>\n",
       "      <th class=\"index_name level0\" >measure</th>\n",
       "      <th class=\"index_name level1\" >algorithm</th>\n",
       "      <th class=\"blank col0\" >&nbsp;</th>\n",
       "      <th class=\"blank col1\" >&nbsp;</th>\n",
       "    </tr>\n",
       "  </thead>\n",
       "  <tbody>\n",
       "    <tr>\n",
       "      <th id=\"T_5bca1_level0_row0\" class=\"row_heading level0 row0\" >authorities</th>\n",
       "      <th id=\"T_5bca1_level1_row0\" class=\"row_heading level1 row0\" >RF</th>\n",
       "      <td id=\"T_5bca1_row0_col0\" class=\"data row0 col0\" >50.06%</td>\n",
       "      <td id=\"T_5bca1_row0_col1\" class=\"data row0 col1\" >51.17%</td>\n",
       "    </tr>\n",
       "    <tr>\n",
       "      <th id=\"T_5bca1_level0_row1\" class=\"row_heading level0 row1\" >average_clustering</th>\n",
       "      <th id=\"T_5bca1_level1_row1\" class=\"row_heading level1 row1\" >MLP</th>\n",
       "      <td id=\"T_5bca1_row1_col0\" class=\"data row1 col0\" >56.88%</td>\n",
       "      <td id=\"T_5bca1_row1_col1\" class=\"data row1 col1\" >53.40%</td>\n",
       "    </tr>\n",
       "    <tr>\n",
       "      <th id=\"T_5bca1_level0_row2\" class=\"row_heading level0 row2\" >betweenness</th>\n",
       "      <th id=\"T_5bca1_level1_row2\" class=\"row_heading level1 row2\" >MLP</th>\n",
       "      <td id=\"T_5bca1_row2_col0\" class=\"data row2 col0\" >50.69%</td>\n",
       "      <td id=\"T_5bca1_row2_col1\" class=\"data row2 col1\" >55.51%</td>\n",
       "    </tr>\n",
       "    <tr>\n",
       "      <th id=\"T_5bca1_level0_row3\" class=\"row_heading level0 row3\" >closeness</th>\n",
       "      <th id=\"T_5bca1_level1_row3\" class=\"row_heading level1 row3\" >SVM</th>\n",
       "      <td id=\"T_5bca1_row3_col0\" class=\"data row3 col0\" >51.82%</td>\n",
       "      <td id=\"T_5bca1_row3_col1\" class=\"data row3 col1\" >52.24%</td>\n",
       "    </tr>\n",
       "    <tr>\n",
       "      <th id=\"T_5bca1_level0_row4\" class=\"row_heading level0 row4\" >clustering</th>\n",
       "      <th id=\"T_5bca1_level1_row4\" class=\"row_heading level1 row4\" >NB</th>\n",
       "      <td id=\"T_5bca1_row4_col0\" class=\"data row4 col0\" >55.83%</td>\n",
       "      <td id=\"T_5bca1_row4_col1\" class=\"data row4 col1\" >53.07%</td>\n",
       "    </tr>\n",
       "    <tr>\n",
       "      <th id=\"T_5bca1_level0_row5\" class=\"row_heading level0 row5\" >correlation</th>\n",
       "      <th id=\"T_5bca1_level1_row5\" class=\"row_heading level1 row5\" >RF</th>\n",
       "      <td id=\"T_5bca1_row5_col0\" class=\"data row5 col0\" >49.76%</td>\n",
       "      <td id=\"T_5bca1_row5_col1\" class=\"data row5 col1\" >50.71%</td>\n",
       "    </tr>\n",
       "    <tr>\n",
       "      <th id=\"T_5bca1_level0_row6\" class=\"row_heading level0 row6\" >density</th>\n",
       "      <th id=\"T_5bca1_level1_row6\" class=\"row_heading level1 row6\" >RF</th>\n",
       "      <td id=\"T_5bca1_row6_col0\" class=\"data row6 col0\" >51.56%</td>\n",
       "      <td id=\"T_5bca1_row6_col1\" class=\"data row6 col1\" >52.83%</td>\n",
       "    </tr>\n",
       "    <tr>\n",
       "      <th id=\"T_5bca1_level0_row7\" class=\"row_heading level0 row7\" >eigenvector</th>\n",
       "      <th id=\"T_5bca1_level1_row7\" class=\"row_heading level1 row7\" >SVM</th>\n",
       "      <td id=\"T_5bca1_row7_col0\" class=\"data row7 col0\" >52.83%</td>\n",
       "      <td id=\"T_5bca1_row7_col1\" class=\"data row7 col1\" >53.68%</td>\n",
       "    </tr>\n",
       "    <tr>\n",
       "      <th id=\"T_5bca1_level0_row8\" class=\"row_heading level0 row8\" >hubs</th>\n",
       "      <th id=\"T_5bca1_level1_row8\" class=\"row_heading level1 row8\" >RF</th>\n",
       "      <td id=\"T_5bca1_row8_col0\" class=\"data row8 col0\" >50.19%</td>\n",
       "      <td id=\"T_5bca1_row8_col1\" class=\"data row8 col1\" >50.85%</td>\n",
       "    </tr>\n",
       "    <tr>\n",
       "      <th id=\"T_5bca1_level0_row9\" class=\"row_heading level0 row9\" >katz</th>\n",
       "      <th id=\"T_5bca1_level1_row9\" class=\"row_heading level1 row9\" >KNN</th>\n",
       "      <td id=\"T_5bca1_row9_col0\" class=\"data row9 col0\" >47.69%</td>\n",
       "      <td id=\"T_5bca1_row9_col1\" class=\"data row9 col1\" >51.17%</td>\n",
       "    </tr>\n",
       "    <tr>\n",
       "      <th id=\"T_5bca1_level0_row10\" class=\"row_heading level0 row10\" >pagerank</th>\n",
       "      <th id=\"T_5bca1_level1_row10\" class=\"row_heading level1 row10\" >DT</th>\n",
       "      <td id=\"T_5bca1_row10_col0\" class=\"data row10 col0\" >49.92%</td>\n",
       "      <td id=\"T_5bca1_row10_col1\" class=\"data row10 col1\" >50.75%</td>\n",
       "    </tr>\n",
       "    <tr>\n",
       "      <th id=\"T_5bca1_level0_row11\" class=\"row_heading level0 row11\" >transitivity</th>\n",
       "      <th id=\"T_5bca1_level1_row11\" class=\"row_heading level1 row11\" >SVM</th>\n",
       "      <td id=\"T_5bca1_row11_col0\" class=\"data row11 col0\" >58.63%</td>\n",
       "      <td id=\"T_5bca1_row11_col1\" class=\"data row11 col1\" >52.08%</td>\n",
       "    </tr>\n",
       "  </tbody>\n",
       "</table>\n"
      ],
      "text/plain": [
       "<pandas.io.formats.style.Styler at 0x25bdec43910>"
      ]
     },
     "execution_count": 16,
     "metadata": {},
     "output_type": "execute_result"
    }
   ],
   "source": [
    "df_single_mean.loc[df_single.groupby(level=0).idxmax().values[:,1]]\\\n",
    "            .style.highlight_max(props='color:lightgreen;', axis=0).format(\"{:.2%}\")\\\n",
    "            .set_caption(\"Single measure - mean\")"
   ]
  },
  {
   "cell_type": "code",
   "execution_count": 17,
   "metadata": {},
   "outputs": [
    {
     "data": {
      "text/html": [
       "<style type=\"text/css\">\n",
       "#T_0b7d9_row3_col1, #T_0b7d9_row11_col0 {\n",
       "  color: lightgreen;\n",
       "}\n",
       "</style>\n",
       "<table id=\"T_0b7d9\">\n",
       "  <caption>Single measure - max</caption>\n",
       "  <thead>\n",
       "    <tr>\n",
       "      <th class=\"blank\" >&nbsp;</th>\n",
       "      <th class=\"blank level0\" >&nbsp;</th>\n",
       "      <th id=\"T_0b7d9_level0_col0\" class=\"col_heading level0 col0\" >with stopwords</th>\n",
       "      <th id=\"T_0b7d9_level0_col1\" class=\"col_heading level0 col1\" >without stopwords</th>\n",
       "    </tr>\n",
       "    <tr>\n",
       "      <th class=\"blank\" >&nbsp;</th>\n",
       "      <th class=\"blank level1\" >&nbsp;</th>\n",
       "      <th id=\"T_0b7d9_level1_col0\" class=\"col_heading level1 col0\" >accuracy</th>\n",
       "      <th id=\"T_0b7d9_level1_col1\" class=\"col_heading level1 col1\" >accuracy</th>\n",
       "    </tr>\n",
       "    <tr>\n",
       "      <th class=\"index_name level0\" >measure</th>\n",
       "      <th class=\"index_name level1\" >algorithm</th>\n",
       "      <th class=\"blank col0\" >&nbsp;</th>\n",
       "      <th class=\"blank col1\" >&nbsp;</th>\n",
       "    </tr>\n",
       "  </thead>\n",
       "  <tbody>\n",
       "    <tr>\n",
       "      <th id=\"T_0b7d9_level0_row0\" class=\"row_heading level0 row0\" >authorities</th>\n",
       "      <th id=\"T_0b7d9_level1_row0\" class=\"row_heading level1 row0\" >RF</th>\n",
       "      <td id=\"T_0b7d9_row0_col0\" class=\"data row0 col0\" >50.35%</td>\n",
       "      <td id=\"T_0b7d9_row0_col1\" class=\"data row0 col1\" >51.90%</td>\n",
       "    </tr>\n",
       "    <tr>\n",
       "      <th id=\"T_0b7d9_level0_row1\" class=\"row_heading level0 row1\" >average_clustering</th>\n",
       "      <th id=\"T_0b7d9_level1_row1\" class=\"row_heading level1 row1\" >MLP</th>\n",
       "      <td id=\"T_0b7d9_row1_col0\" class=\"data row1 col0\" >53.86%</td>\n",
       "      <td id=\"T_0b7d9_row1_col1\" class=\"data row1 col1\" >50.74%</td>\n",
       "    </tr>\n",
       "    <tr>\n",
       "      <th id=\"T_0b7d9_level0_row2\" class=\"row_heading level0 row2\" >betweenness</th>\n",
       "      <th id=\"T_0b7d9_level1_row2\" class=\"row_heading level1 row2\" >MLP</th>\n",
       "      <td id=\"T_0b7d9_row2_col0\" class=\"data row2 col0\" >49.99%</td>\n",
       "      <td id=\"T_0b7d9_row2_col1\" class=\"data row2 col1\" >50.08%</td>\n",
       "    </tr>\n",
       "    <tr>\n",
       "      <th id=\"T_0b7d9_level0_row3\" class=\"row_heading level0 row3\" >closeness</th>\n",
       "      <th id=\"T_0b7d9_level1_row3\" class=\"row_heading level1 row3\" >SVM</th>\n",
       "      <td id=\"T_0b7d9_row3_col0\" class=\"data row3 col0\" >56.58%</td>\n",
       "      <td id=\"T_0b7d9_row3_col1\" class=\"data row3 col1\" >53.00%</td>\n",
       "    </tr>\n",
       "    <tr>\n",
       "      <th id=\"T_0b7d9_level0_row4\" class=\"row_heading level0 row4\" >clustering</th>\n",
       "      <th id=\"T_0b7d9_level1_row4\" class=\"row_heading level1 row4\" >NB</th>\n",
       "      <td id=\"T_0b7d9_row4_col0\" class=\"data row4 col0\" >50.74%</td>\n",
       "      <td id=\"T_0b7d9_row4_col1\" class=\"data row4 col1\" >49.38%</td>\n",
       "    </tr>\n",
       "    <tr>\n",
       "      <th id=\"T_0b7d9_level0_row5\" class=\"row_heading level0 row5\" >correlation</th>\n",
       "      <th id=\"T_0b7d9_level1_row5\" class=\"row_heading level1 row5\" >RF</th>\n",
       "      <td id=\"T_0b7d9_row5_col0\" class=\"data row5 col0\" >49.10%</td>\n",
       "      <td id=\"T_0b7d9_row5_col1\" class=\"data row5 col1\" >49.79%</td>\n",
       "    </tr>\n",
       "    <tr>\n",
       "      <th id=\"T_0b7d9_level0_row6\" class=\"row_heading level0 row6\" >density</th>\n",
       "      <th id=\"T_0b7d9_level1_row6\" class=\"row_heading level1 row6\" >RF</th>\n",
       "      <td id=\"T_0b7d9_row6_col0\" class=\"data row6 col0\" >50.04%</td>\n",
       "      <td id=\"T_0b7d9_row6_col1\" class=\"data row6 col1\" >50.74%</td>\n",
       "    </tr>\n",
       "    <tr>\n",
       "      <th id=\"T_0b7d9_level0_row7\" class=\"row_heading level0 row7\" >eigenvector</th>\n",
       "      <th id=\"T_0b7d9_level1_row7\" class=\"row_heading level1 row7\" >SVM</th>\n",
       "      <td id=\"T_0b7d9_row7_col0\" class=\"data row7 col0\" >52.46%</td>\n",
       "      <td id=\"T_0b7d9_row7_col1\" class=\"data row7 col1\" >50.19%</td>\n",
       "    </tr>\n",
       "    <tr>\n",
       "      <th id=\"T_0b7d9_level0_row8\" class=\"row_heading level0 row8\" >hubs</th>\n",
       "      <th id=\"T_0b7d9_level1_row8\" class=\"row_heading level1 row8\" >RF</th>\n",
       "      <td id=\"T_0b7d9_row8_col0\" class=\"data row8 col0\" >49.93%</td>\n",
       "      <td id=\"T_0b7d9_row8_col1\" class=\"data row8 col1\" >50.18%</td>\n",
       "    </tr>\n",
       "    <tr>\n",
       "      <th id=\"T_0b7d9_level0_row9\" class=\"row_heading level0 row9\" >katz</th>\n",
       "      <th id=\"T_0b7d9_level1_row9\" class=\"row_heading level1 row9\" >KNN</th>\n",
       "      <td id=\"T_0b7d9_row9_col0\" class=\"data row9 col0\" >51.56%</td>\n",
       "      <td id=\"T_0b7d9_row9_col1\" class=\"data row9 col1\" >52.83%</td>\n",
       "    </tr>\n",
       "    <tr>\n",
       "      <th id=\"T_0b7d9_level0_row10\" class=\"row_heading level0 row10\" >pagerank</th>\n",
       "      <th id=\"T_0b7d9_level1_row10\" class=\"row_heading level1 row10\" >DT</th>\n",
       "      <td id=\"T_0b7d9_row10_col0\" class=\"data row10 col0\" >50.19%</td>\n",
       "      <td id=\"T_0b7d9_row10_col1\" class=\"data row10 col1\" >50.85%</td>\n",
       "    </tr>\n",
       "    <tr>\n",
       "      <th id=\"T_0b7d9_level0_row11\" class=\"row_heading level0 row11\" >transitivity</th>\n",
       "      <th id=\"T_0b7d9_level1_row11\" class=\"row_heading level1 row11\" >SVM</th>\n",
       "      <td id=\"T_0b7d9_row11_col0\" class=\"data row11 col0\" >57.85%</td>\n",
       "      <td id=\"T_0b7d9_row11_col1\" class=\"data row11 col1\" >52.03%</td>\n",
       "    </tr>\n",
       "  </tbody>\n",
       "</table>\n"
      ],
      "text/plain": [
       "<pandas.io.formats.style.Styler at 0x25bfc2769a0>"
      ]
     },
     "execution_count": 17,
     "metadata": {},
     "output_type": "execute_result"
    }
   ],
   "source": [
    "df_single_max.loc[df_single.groupby(level=0).idxmax().values[:,1]]\\\n",
    "            .style.highlight_max(props='color:lightgreen;', axis=0).format(\"{:.2%}\")\\\n",
    "            .set_caption(\"Single measure - max\")"
   ]
  },
  {
   "cell_type": "code",
   "execution_count": 22,
   "metadata": {},
   "outputs": [],
   "source": [
    "read_path_mean = os.path.join('..', 'results', 'compare_models_all_syntatic_word_mean.csv')\n",
    "read_path_max = os.path.join('..', 'results', 'compare_models_all_syntatic_word_max.csv')\n",
    "\n",
    "df_all_mean = pd.read_csv(read_path_mean, header=[0,1], index_col=0)\n",
    "df_all_max  = pd.read_csv(read_path_max, header=[0,1], index_col=0)"
   ]
  },
  {
   "cell_type": "code",
   "execution_count": 23,
   "metadata": {},
   "outputs": [
    {
     "data": {
      "text/html": [
       "<style type=\"text/css\">\n",
       "#T_cc8c4_row0_col0, #T_cc8c4_row2_col1 {\n",
       "  color: lightgreen;\n",
       "}\n",
       "</style>\n",
       "<table id=\"T_cc8c4\">\n",
       "  <caption>All measures - mean</caption>\n",
       "  <thead>\n",
       "    <tr>\n",
       "      <th class=\"blank level0\" >&nbsp;</th>\n",
       "      <th id=\"T_cc8c4_level0_col0\" class=\"col_heading level0 col0\" >with stopwords</th>\n",
       "      <th id=\"T_cc8c4_level0_col1\" class=\"col_heading level0 col1\" >without stopwords</th>\n",
       "    </tr>\n",
       "    <tr>\n",
       "      <th class=\"index_name level1\" >algorithm</th>\n",
       "      <th id=\"T_cc8c4_level1_col0\" class=\"col_heading level1 col0\" >accuracy</th>\n",
       "      <th id=\"T_cc8c4_level1_col1\" class=\"col_heading level1 col1\" >accuracy</th>\n",
       "    </tr>\n",
       "  </thead>\n",
       "  <tbody>\n",
       "    <tr>\n",
       "      <th id=\"T_cc8c4_level0_row0\" class=\"row_heading level0 row0\" >SVM</th>\n",
       "      <td id=\"T_cc8c4_row0_col0\" class=\"data row0 col0\" >58.96%</td>\n",
       "      <td id=\"T_cc8c4_row0_col1\" class=\"data row0 col1\" >54.96%</td>\n",
       "    </tr>\n",
       "    <tr>\n",
       "      <th id=\"T_cc8c4_level0_row1\" class=\"row_heading level0 row1\" >MLP</th>\n",
       "      <td id=\"T_cc8c4_row1_col0\" class=\"data row1 col0\" >58.79%</td>\n",
       "      <td id=\"T_cc8c4_row1_col1\" class=\"data row1 col1\" >56.96%</td>\n",
       "    </tr>\n",
       "    <tr>\n",
       "      <th id=\"T_cc8c4_level0_row2\" class=\"row_heading level0 row2\" >RF</th>\n",
       "      <td id=\"T_cc8c4_row2_col0\" class=\"data row2 col0\" >57.37%</td>\n",
       "      <td id=\"T_cc8c4_row2_col1\" class=\"data row2 col1\" >57.19%</td>\n",
       "    </tr>\n",
       "    <tr>\n",
       "      <th id=\"T_cc8c4_level0_row3\" class=\"row_heading level0 row3\" >NB</th>\n",
       "      <td id=\"T_cc8c4_row3_col0\" class=\"data row3 col0\" >56.19%</td>\n",
       "      <td id=\"T_cc8c4_row3_col1\" class=\"data row3 col1\" >51.43%</td>\n",
       "    </tr>\n",
       "    <tr>\n",
       "      <th id=\"T_cc8c4_level0_row4\" class=\"row_heading level0 row4\" >DT</th>\n",
       "      <td id=\"T_cc8c4_row4_col0\" class=\"data row4 col0\" >54.22%</td>\n",
       "      <td id=\"T_cc8c4_row4_col1\" class=\"data row4 col1\" >53.14%</td>\n",
       "    </tr>\n",
       "    <tr>\n",
       "      <th id=\"T_cc8c4_level0_row5\" class=\"row_heading level0 row5\" >KNN</th>\n",
       "      <td id=\"T_cc8c4_row5_col0\" class=\"data row5 col0\" >54.10%</td>\n",
       "      <td id=\"T_cc8c4_row5_col1\" class=\"data row5 col1\" >52.28%</td>\n",
       "    </tr>\n",
       "  </tbody>\n",
       "</table>\n"
      ],
      "text/plain": [
       "<pandas.io.formats.style.Styler at 0x25bfc2a04f0>"
      ]
     },
     "execution_count": 23,
     "metadata": {},
     "output_type": "execute_result"
    }
   ],
   "source": [
    "df_all_mean.style.format(\"{:.2%}\").highlight_max(props='color:lightgreen;')\\\n",
    "                .set_caption(\"All measures - mean\")"
   ]
  },
  {
   "cell_type": "code",
   "execution_count": 24,
   "metadata": {},
   "outputs": [
    {
     "data": {
      "text/html": [
       "<style type=\"text/css\">\n",
       "#T_028f5_row0_col0, #T_028f5_row0_col1 {\n",
       "  color: lightgreen;\n",
       "}\n",
       "</style>\n",
       "<table id=\"T_028f5\">\n",
       "  <caption>All measures - max</caption>\n",
       "  <thead>\n",
       "    <tr>\n",
       "      <th class=\"blank level0\" >&nbsp;</th>\n",
       "      <th id=\"T_028f5_level0_col0\" class=\"col_heading level0 col0\" >with stopwords</th>\n",
       "      <th id=\"T_028f5_level0_col1\" class=\"col_heading level0 col1\" >without stopwords</th>\n",
       "    </tr>\n",
       "    <tr>\n",
       "      <th class=\"index_name level1\" >algorithm</th>\n",
       "      <th id=\"T_028f5_level1_col0\" class=\"col_heading level1 col0\" >accuracy</th>\n",
       "      <th id=\"T_028f5_level1_col1\" class=\"col_heading level1 col1\" >accuracy</th>\n",
       "    </tr>\n",
       "  </thead>\n",
       "  <tbody>\n",
       "    <tr>\n",
       "      <th id=\"T_028f5_level0_row0\" class=\"row_heading level0 row0\" >MLP</th>\n",
       "      <td id=\"T_028f5_row0_col0\" class=\"data row0 col0\" >60.51%</td>\n",
       "      <td id=\"T_028f5_row0_col1\" class=\"data row0 col1\" >60.35%</td>\n",
       "    </tr>\n",
       "    <tr>\n",
       "      <th id=\"T_028f5_level0_row1\" class=\"row_heading level0 row1\" >SVM</th>\n",
       "      <td id=\"T_028f5_row1_col0\" class=\"data row1 col0\" >59.90%</td>\n",
       "      <td id=\"T_028f5_row1_col1\" class=\"data row1 col1\" >57.93%</td>\n",
       "    </tr>\n",
       "    <tr>\n",
       "      <th id=\"T_028f5_level0_row2\" class=\"row_heading level0 row2\" >RF</th>\n",
       "      <td id=\"T_028f5_row2_col0\" class=\"data row2 col0\" >59.39%</td>\n",
       "      <td id=\"T_028f5_row2_col1\" class=\"data row2 col1\" >59.24%</td>\n",
       "    </tr>\n",
       "    <tr>\n",
       "      <th id=\"T_028f5_level0_row3\" class=\"row_heading level0 row3\" >NB</th>\n",
       "      <td id=\"T_028f5_row3_col0\" class=\"data row3 col0\" >58.99%</td>\n",
       "      <td id=\"T_028f5_row3_col1\" class=\"data row3 col1\" >56.82%</td>\n",
       "    </tr>\n",
       "    <tr>\n",
       "      <th id=\"T_028f5_level0_row4\" class=\"row_heading level0 row4\" >KNN</th>\n",
       "      <td id=\"T_028f5_row4_col0\" class=\"data row4 col0\" >54.54%</td>\n",
       "      <td id=\"T_028f5_row4_col1\" class=\"data row4 col1\" >53.68%</td>\n",
       "    </tr>\n",
       "    <tr>\n",
       "      <th id=\"T_028f5_level0_row5\" class=\"row_heading level0 row5\" >DT</th>\n",
       "      <td id=\"T_028f5_row5_col0\" class=\"data row5 col0\" >54.10%</td>\n",
       "      <td id=\"T_028f5_row5_col1\" class=\"data row5 col1\" >54.47%</td>\n",
       "    </tr>\n",
       "  </tbody>\n",
       "</table>\n"
      ],
      "text/plain": [
       "<pandas.io.formats.style.Styler at 0x25bfc2a0d00>"
      ]
     },
     "execution_count": 24,
     "metadata": {},
     "output_type": "execute_result"
    }
   ],
   "source": [
    "df_all_max.style.format(\"{:.2%}\").highlight_max(props='color:lightgreen;')\\\n",
    "                .set_caption(\"All measures - max\")"
   ]
  }
 ],
 "metadata": {
  "kernelspec": {
   "display_name": "Python 3",
   "language": "python",
   "name": "python3"
  },
  "language_info": {
   "codemirror_mode": {
    "name": "ipython",
    "version": 3
   },
   "file_extension": ".py",
   "mimetype": "text/x-python",
   "name": "python",
   "nbconvert_exporter": "python",
   "pygments_lexer": "ipython3",
   "version": "3.9.13"
  },
  "orig_nbformat": 4
 },
 "nbformat": 4,
 "nbformat_minor": 2
}
