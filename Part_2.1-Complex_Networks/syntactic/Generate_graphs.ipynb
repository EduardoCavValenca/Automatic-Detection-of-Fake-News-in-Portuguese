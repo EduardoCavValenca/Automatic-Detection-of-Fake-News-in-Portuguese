{
 "cells": [
  {
   "cell_type": "code",
   "execution_count": 2,
   "metadata": {},
   "outputs": [],
   "source": [
    "import os\n",
    "import subprocess\n",
    "\n",
    "def run_udpipe2_client(file_path: str, folder: str):\n",
    "    output_file_path = \"data/udpipe_texts/\" + folder + \"/\" + file_path.split(\"/\")[-1]\n",
    "    subprocess.Popen(f'python udpipe2_client.py --model portuguese-gsd-ud-2.10-220711 --input generic_tokenizer --tokenizer ranges --tagger 1 --parser 1 --outfile {output_file_path} {file_path}', shell=True).wait()\n",
    "    return"
   ]
  },
  {
   "cell_type": "code",
   "execution_count": 14,
   "metadata": {},
   "outputs": [],
   "source": [
    "for folder in ['fake', 'true']:\n",
    "    for file in os.listdir('../../data/text_files/pre_normalized/' + folder):\n",
    "        path = '../../data/text_files/pre_normalized/' + folder + '/' + file\n",
    "        run_udpipe2_client(path, folder)"
   ]
  },
  {
   "cell_type": "code",
   "execution_count": 3,
   "metadata": {},
   "outputs": [
    {
     "name": "stdout",
     "output_type": "stream",
     "text": [
      "data/udpipe_texts/fake/1.txt\n",
      "data/udpipe_texts/true/1.txt\n"
     ]
    }
   ],
   "source": [
    "for folder in ['fake', 'true']:\n",
    "    for file in os.listdir('data/udpipe_texts/' + folder):\n",
    "        f_raw = open('data/udpipe_texts/' + folder + '/' + file, 'r', encoding='utf-8')\n",
    "        f_new = open('data/udpipe_tuples/' + folder + '/' + file, 'w+', encoding='utf-8')\n",
    "\n",
    "        lines = f_raw.readlines()\n",
    "        for line in lines[7:]:\n",
    "            print(line)\n",
    "            break\n",
    "\n",
    "        f_raw.close()\n",
    "        f_new.close()\n",
    "                \n",
    "        break"
   ]
  }
 ],
 "metadata": {
  "kernelspec": {
   "display_name": "Python 3",
   "language": "python",
   "name": "python3"
  },
  "language_info": {
   "codemirror_mode": {
    "name": "ipython",
    "version": 3
   },
   "file_extension": ".py",
   "mimetype": "text/x-python",
   "name": "python",
   "nbconvert_exporter": "python",
   "pygments_lexer": "ipython3",
   "version": "3.9.13"
  },
  "orig_nbformat": 4
 },
 "nbformat": 4,
 "nbformat_minor": 2
}
