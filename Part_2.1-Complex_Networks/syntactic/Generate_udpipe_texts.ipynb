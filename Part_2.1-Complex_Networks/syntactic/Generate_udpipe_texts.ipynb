{
 "cells": [
  {
   "cell_type": "code",
   "execution_count": 2,
   "metadata": {},
   "outputs": [],
   "source": [
    "import os\n",
    "import subprocess\n",
    "from tqdm.notebook import tqdm"
   ]
  },
  {
   "cell_type": "code",
   "execution_count": 14,
   "metadata": {},
   "outputs": [],
   "source": [
    "def run_udpipe2_client(file_path: str, folder: str):\n",
    "    output_file_path = \"data/udpipe_texts_with_stopwords/\" + folder + \"/\" + file_path.split(\"/\")[-1]\n",
    "    subprocess.Popen(f'python udpipe2_client.py --model portuguese-gsd-ud-2.10-220711 --input generic_tokenizer --tokenizer ranges --tagger 1 --parser 1 --outfile {output_file_path} {file_path}', shell=True).wait()\n",
    "    return"
   ]
  },
  {
   "cell_type": "code",
   "execution_count": null,
   "metadata": {},
   "outputs": [],
   "source": [
    "for folder in ['fake', 'true']:\n",
    "    for file in tqdm(os.listdir('../../data/text_files/pre_normalized_with_stopwords/' + folder)):\n",
    "        path = '../../data/text_files/pre_normalized_with_stopwords/' + folder + '/' + file\n",
    "        run_udpipe2_client(path, folder)"
   ]
  },
  {
   "cell_type": "code",
   "execution_count": 5,
   "metadata": {},
   "outputs": [
    {
     "data": {
      "application/vnd.jupyter.widget-view+json": {
       "model_id": "69679c9e1f5c4225a1410d572b4155e2",
       "version_major": 2,
       "version_minor": 0
      },
      "text/plain": [
       "  0%|          | 0/3600 [00:00<?, ?it/s]"
      ]
     },
     "metadata": {},
     "output_type": "display_data"
    },
    {
     "data": {
      "application/vnd.jupyter.widget-view+json": {
       "model_id": "3ba18ee6e5b34a1a865f027935d091d8",
       "version_major": 2,
       "version_minor": 0
      },
      "text/plain": [
       "  0%|          | 0/3600 [00:00<?, ?it/s]"
      ]
     },
     "metadata": {},
     "output_type": "display_data"
    }
   ],
   "source": [
    "for folder in ['fake', 'true']:\n",
    "    for file in tqdm(os.listdir('data/udpipe_texts/' + folder)):\n",
    "        f_raw = open('data/udpipe_texts/' + folder + '/' + file, 'r', encoding='utf-8')\n",
    "        f_new = open('data/udpipe_tuples/' + folder + '/' + file, 'w+', encoding='utf-8')\n",
    "\n",
    "        lines = f_raw.readlines()\n",
    "        for line in lines[7:]:\n",
    "            variables = line.split('\\t')\n",
    "            if len(variables) > 4:\n",
    "                if variables[2] == '_':\n",
    "                    variables[2] = variables[1]\n",
    "                tuples = f'{variables[0]} {variables[1]} {variables[2]} {variables[6]} {variables[3]} {variables[7]}' + '\\n'\n",
    "                if '-' not in variables[0]:\n",
    "                    f_new.write(tuples)\n",
    "        f_raw.close()\n",
    "        f_new.close()"
   ]
  }
 ],
 "metadata": {
  "kernelspec": {
   "display_name": "Python 3",
   "language": "python",
   "name": "python3"
  },
  "language_info": {
   "codemirror_mode": {
    "name": "ipython",
    "version": 3
   },
   "file_extension": ".py",
   "mimetype": "text/x-python",
   "name": "python",
   "nbconvert_exporter": "python",
   "pygments_lexer": "ipython3",
   "version": "3.9.13"
  },
  "orig_nbformat": 4
 },
 "nbformat": 4,
 "nbformat_minor": 2
}
